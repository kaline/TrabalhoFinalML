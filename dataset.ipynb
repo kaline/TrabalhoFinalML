{
 "cells": [
  {
   "cell_type": "markdown",
   "metadata": {},
   "source": [
    "# Trabalho final ML\n",
    "\n",
    "<a href=\"https://www.kaggle.com/code/reihanenamdari/depression-logistic-regression-and-gridsearchcv/data\">Dataset</a>\n",
    "<br>\n",
    "<hr>\n",
    "</br>\n",
    "Contexto e objetivo do trabalho\n",
    "O trabalho prático da disciplina CMP263 - Aprendizagem de Máquina visa\n",
    "permitir que os alunos desenvolvam um modelo preditivo para um problema de\n",
    "interesse, praticando aspectos discutidos na disciplina relacionados ao treinamento e\n",
    "avaliação de modelos de classificação ou regressão, e interpretação dos modelos\n",
    "gerados.\n",
    "A proposta do projeto final é que os alunos aprofundem e consolidem sua\n",
    "experiência no desenvolvimento de modelos preditivos, abordando aspectos ao\n",
    "longo de toda a metodologia de treinamento de modelos, conforme discutimos em\n",
    "aula. "
   ]
  },
  {
   "cell_type": "markdown",
   "metadata": {},
   "source": [
    "## Problema\n",
    "\n",
    "Regressão - predizer se a intância é depressiva ou não"
   ]
  },
  {
   "cell_type": "code",
   "execution_count": 3,
   "metadata": {},
   "outputs": [
    {
     "name": "stderr",
     "output_type": "stream",
     "text": [
      "Using TensorFlow backend.\n"
     ]
    }
   ],
   "source": [
    "import pandas as pd\n",
    "import numpy as np\n",
    "from keras.models import Sequential\n",
    "from keras.layers import Dense\n",
    "from keras.preprocessing import sequence\n",
    "import seaborn as sns\n",
    "import matplotlib.pyplot as plt\n",
    "%matplotlib inline"
   ]
  },
  {
   "cell_type": "markdown",
   "metadata": {},
   "source": [
    "## i) análise exploratória dos dados\n",
    "para identificar possíveis problemas nos\n",
    "dados que possam impactar negativamente no treinamento de modelos;"
   ]
  },
  {
   "cell_type": "code",
   "execution_count": 4,
   "metadata": {},
   "outputs": [
    {
     "data": {
      "text/html": [
       "<div>\n",
       "<style scoped>\n",
       "    .dataframe tbody tr th:only-of-type {\n",
       "        vertical-align: middle;\n",
       "    }\n",
       "\n",
       "    .dataframe tbody tr th {\n",
       "        vertical-align: top;\n",
       "    }\n",
       "\n",
       "    .dataframe thead th {\n",
       "        text-align: right;\n",
       "    }\n",
       "</style>\n",
       "<table border=\"1\" class=\"dataframe\">\n",
       "  <thead>\n",
       "    <tr style=\"text-align: right;\">\n",
       "      <th></th>\n",
       "      <th>Survey_id</th>\n",
       "      <th>Ville_id</th>\n",
       "      <th>sex</th>\n",
       "      <th>Age</th>\n",
       "      <th>Married</th>\n",
       "      <th>Number_children</th>\n",
       "      <th>education_level</th>\n",
       "      <th>total_members</th>\n",
       "      <th>gained_asset</th>\n",
       "      <th>durable_asset</th>\n",
       "      <th>...</th>\n",
       "      <th>incoming_salary</th>\n",
       "      <th>incoming_own_farm</th>\n",
       "      <th>incoming_business</th>\n",
       "      <th>incoming_no_business</th>\n",
       "      <th>incoming_agricultural</th>\n",
       "      <th>farm_expenses</th>\n",
       "      <th>labor_primary</th>\n",
       "      <th>lasting_investment</th>\n",
       "      <th>no_lasting_investmen</th>\n",
       "      <th>depressed</th>\n",
       "    </tr>\n",
       "  </thead>\n",
       "  <tbody>\n",
       "    <tr>\n",
       "      <th>0</th>\n",
       "      <td>926</td>\n",
       "      <td>91</td>\n",
       "      <td>1</td>\n",
       "      <td>28</td>\n",
       "      <td>1</td>\n",
       "      <td>4</td>\n",
       "      <td>10</td>\n",
       "      <td>5</td>\n",
       "      <td>28912201</td>\n",
       "      <td>22861940</td>\n",
       "      <td>...</td>\n",
       "      <td>0</td>\n",
       "      <td>0</td>\n",
       "      <td>0</td>\n",
       "      <td>0</td>\n",
       "      <td>30028818</td>\n",
       "      <td>31363432</td>\n",
       "      <td>0</td>\n",
       "      <td>28411718</td>\n",
       "      <td>28292707.0</td>\n",
       "      <td>0</td>\n",
       "    </tr>\n",
       "    <tr>\n",
       "      <th>1</th>\n",
       "      <td>747</td>\n",
       "      <td>57</td>\n",
       "      <td>1</td>\n",
       "      <td>23</td>\n",
       "      <td>1</td>\n",
       "      <td>3</td>\n",
       "      <td>8</td>\n",
       "      <td>5</td>\n",
       "      <td>28912201</td>\n",
       "      <td>22861940</td>\n",
       "      <td>...</td>\n",
       "      <td>0</td>\n",
       "      <td>0</td>\n",
       "      <td>0</td>\n",
       "      <td>0</td>\n",
       "      <td>30028818</td>\n",
       "      <td>31363432</td>\n",
       "      <td>0</td>\n",
       "      <td>28411718</td>\n",
       "      <td>28292707.0</td>\n",
       "      <td>1</td>\n",
       "    </tr>\n",
       "    <tr>\n",
       "      <th>2</th>\n",
       "      <td>1190</td>\n",
       "      <td>115</td>\n",
       "      <td>1</td>\n",
       "      <td>22</td>\n",
       "      <td>1</td>\n",
       "      <td>3</td>\n",
       "      <td>9</td>\n",
       "      <td>5</td>\n",
       "      <td>28912201</td>\n",
       "      <td>22861940</td>\n",
       "      <td>...</td>\n",
       "      <td>0</td>\n",
       "      <td>0</td>\n",
       "      <td>0</td>\n",
       "      <td>0</td>\n",
       "      <td>30028818</td>\n",
       "      <td>31363432</td>\n",
       "      <td>0</td>\n",
       "      <td>28411718</td>\n",
       "      <td>28292707.0</td>\n",
       "      <td>0</td>\n",
       "    </tr>\n",
       "    <tr>\n",
       "      <th>3</th>\n",
       "      <td>1065</td>\n",
       "      <td>97</td>\n",
       "      <td>1</td>\n",
       "      <td>27</td>\n",
       "      <td>1</td>\n",
       "      <td>2</td>\n",
       "      <td>10</td>\n",
       "      <td>4</td>\n",
       "      <td>52667108</td>\n",
       "      <td>19698904</td>\n",
       "      <td>...</td>\n",
       "      <td>0</td>\n",
       "      <td>1</td>\n",
       "      <td>0</td>\n",
       "      <td>1</td>\n",
       "      <td>22288055</td>\n",
       "      <td>18751329</td>\n",
       "      <td>0</td>\n",
       "      <td>7781123</td>\n",
       "      <td>69219765.0</td>\n",
       "      <td>0</td>\n",
       "    </tr>\n",
       "    <tr>\n",
       "      <th>4</th>\n",
       "      <td>806</td>\n",
       "      <td>42</td>\n",
       "      <td>0</td>\n",
       "      <td>59</td>\n",
       "      <td>0</td>\n",
       "      <td>4</td>\n",
       "      <td>10</td>\n",
       "      <td>6</td>\n",
       "      <td>82606287</td>\n",
       "      <td>17352654</td>\n",
       "      <td>...</td>\n",
       "      <td>1</td>\n",
       "      <td>0</td>\n",
       "      <td>0</td>\n",
       "      <td>0</td>\n",
       "      <td>53384566</td>\n",
       "      <td>20731006</td>\n",
       "      <td>1</td>\n",
       "      <td>20100562</td>\n",
       "      <td>43419447.0</td>\n",
       "      <td>0</td>\n",
       "    </tr>\n",
       "    <tr>\n",
       "      <th>...</th>\n",
       "      <td>...</td>\n",
       "      <td>...</td>\n",
       "      <td>...</td>\n",
       "      <td>...</td>\n",
       "      <td>...</td>\n",
       "      <td>...</td>\n",
       "      <td>...</td>\n",
       "      <td>...</td>\n",
       "      <td>...</td>\n",
       "      <td>...</td>\n",
       "      <td>...</td>\n",
       "      <td>...</td>\n",
       "      <td>...</td>\n",
       "      <td>...</td>\n",
       "      <td>...</td>\n",
       "      <td>...</td>\n",
       "      <td>...</td>\n",
       "      <td>...</td>\n",
       "      <td>...</td>\n",
       "      <td>...</td>\n",
       "      <td>...</td>\n",
       "    </tr>\n",
       "    <tr>\n",
       "      <th>1424</th>\n",
       "      <td>255</td>\n",
       "      <td>22</td>\n",
       "      <td>1</td>\n",
       "      <td>25</td>\n",
       "      <td>1</td>\n",
       "      <td>1</td>\n",
       "      <td>7</td>\n",
       "      <td>5</td>\n",
       "      <td>28912201</td>\n",
       "      <td>22861940</td>\n",
       "      <td>...</td>\n",
       "      <td>0</td>\n",
       "      <td>0</td>\n",
       "      <td>0</td>\n",
       "      <td>0</td>\n",
       "      <td>30028818</td>\n",
       "      <td>31363432</td>\n",
       "      <td>0</td>\n",
       "      <td>28411718</td>\n",
       "      <td>28292707.0</td>\n",
       "      <td>0</td>\n",
       "    </tr>\n",
       "    <tr>\n",
       "      <th>1425</th>\n",
       "      <td>547</td>\n",
       "      <td>69</td>\n",
       "      <td>1</td>\n",
       "      <td>28</td>\n",
       "      <td>1</td>\n",
       "      <td>4</td>\n",
       "      <td>10</td>\n",
       "      <td>6</td>\n",
       "      <td>15711078</td>\n",
       "      <td>24023054</td>\n",
       "      <td>...</td>\n",
       "      <td>0</td>\n",
       "      <td>1</td>\n",
       "      <td>0</td>\n",
       "      <td>0</td>\n",
       "      <td>23022095</td>\n",
       "      <td>1021536</td>\n",
       "      <td>0</td>\n",
       "      <td>1823477</td>\n",
       "      <td>47384361.0</td>\n",
       "      <td>0</td>\n",
       "    </tr>\n",
       "    <tr>\n",
       "      <th>1426</th>\n",
       "      <td>893</td>\n",
       "      <td>184</td>\n",
       "      <td>1</td>\n",
       "      <td>66</td>\n",
       "      <td>0</td>\n",
       "      <td>0</td>\n",
       "      <td>1</td>\n",
       "      <td>1</td>\n",
       "      <td>42440731</td>\n",
       "      <td>22861940</td>\n",
       "      <td>...</td>\n",
       "      <td>0</td>\n",
       "      <td>1</td>\n",
       "      <td>0</td>\n",
       "      <td>0</td>\n",
       "      <td>12545373</td>\n",
       "      <td>10454478</td>\n",
       "      <td>0</td>\n",
       "      <td>46444572</td>\n",
       "      <td>10454478.0</td>\n",
       "      <td>1</td>\n",
       "    </tr>\n",
       "    <tr>\n",
       "      <th>1427</th>\n",
       "      <td>363</td>\n",
       "      <td>75</td>\n",
       "      <td>1</td>\n",
       "      <td>51</td>\n",
       "      <td>1</td>\n",
       "      <td>1</td>\n",
       "      <td>12</td>\n",
       "      <td>5</td>\n",
       "      <td>28912201</td>\n",
       "      <td>22861940</td>\n",
       "      <td>...</td>\n",
       "      <td>0</td>\n",
       "      <td>0</td>\n",
       "      <td>0</td>\n",
       "      <td>0</td>\n",
       "      <td>30028818</td>\n",
       "      <td>31363432</td>\n",
       "      <td>0</td>\n",
       "      <td>28411718</td>\n",
       "      <td>28292707.0</td>\n",
       "      <td>0</td>\n",
       "    </tr>\n",
       "    <tr>\n",
       "      <th>1428</th>\n",
       "      <td>231</td>\n",
       "      <td>12</td>\n",
       "      <td>1</td>\n",
       "      <td>33</td>\n",
       "      <td>0</td>\n",
       "      <td>4</td>\n",
       "      <td>8</td>\n",
       "      <td>5</td>\n",
       "      <td>81678391</td>\n",
       "      <td>22861940</td>\n",
       "      <td>...</td>\n",
       "      <td>0</td>\n",
       "      <td>1</td>\n",
       "      <td>0</td>\n",
       "      <td>1</td>\n",
       "      <td>20019212</td>\n",
       "      <td>16682677</td>\n",
       "      <td>0</td>\n",
       "      <td>69642126</td>\n",
       "      <td>13012488.0</td>\n",
       "      <td>0</td>\n",
       "    </tr>\n",
       "  </tbody>\n",
       "</table>\n",
       "<p>1429 rows × 23 columns</p>\n",
       "</div>"
      ],
      "text/plain": [
       "      Survey_id  Ville_id  sex  Age  Married  Number_children  \\\n",
       "0           926        91    1   28        1                4   \n",
       "1           747        57    1   23        1                3   \n",
       "2          1190       115    1   22        1                3   \n",
       "3          1065        97    1   27        1                2   \n",
       "4           806        42    0   59        0                4   \n",
       "...         ...       ...  ...  ...      ...              ...   \n",
       "1424        255        22    1   25        1                1   \n",
       "1425        547        69    1   28        1                4   \n",
       "1426        893       184    1   66        0                0   \n",
       "1427        363        75    1   51        1                1   \n",
       "1428        231        12    1   33        0                4   \n",
       "\n",
       "      education_level  total_members  gained_asset  durable_asset  ...  \\\n",
       "0                  10              5      28912201       22861940  ...   \n",
       "1                   8              5      28912201       22861940  ...   \n",
       "2                   9              5      28912201       22861940  ...   \n",
       "3                  10              4      52667108       19698904  ...   \n",
       "4                  10              6      82606287       17352654  ...   \n",
       "...               ...            ...           ...            ...  ...   \n",
       "1424                7              5      28912201       22861940  ...   \n",
       "1425               10              6      15711078       24023054  ...   \n",
       "1426                1              1      42440731       22861940  ...   \n",
       "1427               12              5      28912201       22861940  ...   \n",
       "1428                8              5      81678391       22861940  ...   \n",
       "\n",
       "      incoming_salary  incoming_own_farm  incoming_business  \\\n",
       "0                   0                  0                  0   \n",
       "1                   0                  0                  0   \n",
       "2                   0                  0                  0   \n",
       "3                   0                  1                  0   \n",
       "4                   1                  0                  0   \n",
       "...               ...                ...                ...   \n",
       "1424                0                  0                  0   \n",
       "1425                0                  1                  0   \n",
       "1426                0                  1                  0   \n",
       "1427                0                  0                  0   \n",
       "1428                0                  1                  0   \n",
       "\n",
       "      incoming_no_business  incoming_agricultural  farm_expenses  \\\n",
       "0                        0               30028818       31363432   \n",
       "1                        0               30028818       31363432   \n",
       "2                        0               30028818       31363432   \n",
       "3                        1               22288055       18751329   \n",
       "4                        0               53384566       20731006   \n",
       "...                    ...                    ...            ...   \n",
       "1424                     0               30028818       31363432   \n",
       "1425                     0               23022095        1021536   \n",
       "1426                     0               12545373       10454478   \n",
       "1427                     0               30028818       31363432   \n",
       "1428                     1               20019212       16682677   \n",
       "\n",
       "      labor_primary  lasting_investment  no_lasting_investmen  depressed  \n",
       "0                 0            28411718            28292707.0          0  \n",
       "1                 0            28411718            28292707.0          1  \n",
       "2                 0            28411718            28292707.0          0  \n",
       "3                 0             7781123            69219765.0          0  \n",
       "4                 1            20100562            43419447.0          0  \n",
       "...             ...                 ...                   ...        ...  \n",
       "1424              0            28411718            28292707.0          0  \n",
       "1425              0             1823477            47384361.0          0  \n",
       "1426              0            46444572            10454478.0          1  \n",
       "1427              0            28411718            28292707.0          0  \n",
       "1428              0            69642126            13012488.0          0  \n",
       "\n",
       "[1429 rows x 23 columns]"
      ]
     },
     "execution_count": 4,
     "metadata": {},
     "output_type": "execute_result"
    }
   ],
   "source": [
    "df = pd.read_csv('b_depressed.csv')\n",
    "df"
   ]
  },
  {
   "cell_type": "code",
   "execution_count": 5,
   "metadata": {},
   "outputs": [
    {
     "ename": "TypeError",
     "evalue": "Cannot interpret '<attribute 'dtype' of 'numpy.generic' objects>' as a data type",
     "output_type": "error",
     "traceback": [
      "\u001b[0;31m---------------------------------------------------------------------------\u001b[0m",
      "\u001b[0;31mTypeError\u001b[0m                                 Traceback (most recent call last)",
      "\u001b[0;32m<ipython-input-5-a74c58233b9e>\u001b[0m in \u001b[0;36m<module>\u001b[0;34m\u001b[0m\n\u001b[0;32m----> 1\u001b[0;31m \u001b[0mdf\u001b[0m\u001b[0;34m.\u001b[0m\u001b[0minfo\u001b[0m\u001b[0;34m(\u001b[0m\u001b[0;34m)\u001b[0m\u001b[0;34m\u001b[0m\u001b[0;34m\u001b[0m\u001b[0m\n\u001b[0m",
      "\u001b[0;32m~/anaconda3/lib/python3.7/site-packages/pandas/core/frame.py\u001b[0m in \u001b[0;36minfo\u001b[0;34m(self, verbose, buf, max_cols, memory_usage, null_counts)\u001b[0m\n\u001b[1;32m   2495\u001b[0m                 \u001b[0;32mif\u001b[0m \u001b[0;34m\"object\"\u001b[0m \u001b[0;32min\u001b[0m \u001b[0mcounts\u001b[0m \u001b[0;32mor\u001b[0m \u001b[0mself\u001b[0m\u001b[0;34m.\u001b[0m\u001b[0mindex\u001b[0m\u001b[0;34m.\u001b[0m\u001b[0m_is_memory_usage_qualified\u001b[0m\u001b[0;34m(\u001b[0m\u001b[0;34m)\u001b[0m\u001b[0;34m:\u001b[0m\u001b[0;34m\u001b[0m\u001b[0;34m\u001b[0m\u001b[0m\n\u001b[1;32m   2496\u001b[0m                     \u001b[0msize_qualifier\u001b[0m \u001b[0;34m=\u001b[0m \u001b[0;34m\"+\"\u001b[0m\u001b[0;34m\u001b[0m\u001b[0;34m\u001b[0m\u001b[0m\n\u001b[0;32m-> 2497\u001b[0;31m             \u001b[0mmem_usage\u001b[0m \u001b[0;34m=\u001b[0m \u001b[0mself\u001b[0m\u001b[0;34m.\u001b[0m\u001b[0mmemory_usage\u001b[0m\u001b[0;34m(\u001b[0m\u001b[0mindex\u001b[0m\u001b[0;34m=\u001b[0m\u001b[0;32mTrue\u001b[0m\u001b[0;34m,\u001b[0m \u001b[0mdeep\u001b[0m\u001b[0;34m=\u001b[0m\u001b[0mdeep\u001b[0m\u001b[0;34m)\u001b[0m\u001b[0;34m.\u001b[0m\u001b[0msum\u001b[0m\u001b[0;34m(\u001b[0m\u001b[0;34m)\u001b[0m\u001b[0;34m\u001b[0m\u001b[0;34m\u001b[0m\u001b[0m\n\u001b[0m\u001b[1;32m   2498\u001b[0m             \u001b[0mlines\u001b[0m\u001b[0;34m.\u001b[0m\u001b[0mappend\u001b[0m\u001b[0;34m(\u001b[0m\u001b[0;34mf\"memory usage: {_sizeof_fmt(mem_usage, size_qualifier)}\\n\"\u001b[0m\u001b[0;34m)\u001b[0m\u001b[0;34m\u001b[0m\u001b[0;34m\u001b[0m\u001b[0m\n\u001b[1;32m   2499\u001b[0m         \u001b[0mfmt\u001b[0m\u001b[0;34m.\u001b[0m\u001b[0mbuffer_put_lines\u001b[0m\u001b[0;34m(\u001b[0m\u001b[0mbuf\u001b[0m\u001b[0;34m,\u001b[0m \u001b[0mlines\u001b[0m\u001b[0;34m)\u001b[0m\u001b[0;34m\u001b[0m\u001b[0;34m\u001b[0m\u001b[0m\n",
      "\u001b[0;32m~/anaconda3/lib/python3.7/site-packages/pandas/core/frame.py\u001b[0m in \u001b[0;36mmemory_usage\u001b[0;34m(self, index, deep)\u001b[0m\n\u001b[1;32m   2588\u001b[0m         )\n\u001b[1;32m   2589\u001b[0m         \u001b[0;32mif\u001b[0m \u001b[0mindex\u001b[0m\u001b[0;34m:\u001b[0m\u001b[0;34m\u001b[0m\u001b[0;34m\u001b[0m\u001b[0m\n\u001b[0;32m-> 2590\u001b[0;31m             result = Series(self.index.memory_usage(deep=deep), index=[\"Index\"]).append(\n\u001b[0m\u001b[1;32m   2591\u001b[0m                 \u001b[0mresult\u001b[0m\u001b[0;34m\u001b[0m\u001b[0;34m\u001b[0m\u001b[0m\n\u001b[1;32m   2592\u001b[0m             )\n",
      "\u001b[0;32m~/anaconda3/lib/python3.7/site-packages/pandas/core/series.py\u001b[0m in \u001b[0;36m__init__\u001b[0;34m(self, data, index, dtype, name, copy, fastpath)\u001b[0m\n\u001b[1;32m    303\u001b[0m                     \u001b[0mdata\u001b[0m \u001b[0;34m=\u001b[0m \u001b[0mdata\u001b[0m\u001b[0;34m.\u001b[0m\u001b[0mcopy\u001b[0m\u001b[0;34m(\u001b[0m\u001b[0;34m)\u001b[0m\u001b[0;34m\u001b[0m\u001b[0;34m\u001b[0m\u001b[0m\n\u001b[1;32m    304\u001b[0m             \u001b[0;32melse\u001b[0m\u001b[0;34m:\u001b[0m\u001b[0;34m\u001b[0m\u001b[0;34m\u001b[0m\u001b[0m\n\u001b[0;32m--> 305\u001b[0;31m                 \u001b[0mdata\u001b[0m \u001b[0;34m=\u001b[0m \u001b[0msanitize_array\u001b[0m\u001b[0;34m(\u001b[0m\u001b[0mdata\u001b[0m\u001b[0;34m,\u001b[0m \u001b[0mindex\u001b[0m\u001b[0;34m,\u001b[0m \u001b[0mdtype\u001b[0m\u001b[0;34m,\u001b[0m \u001b[0mcopy\u001b[0m\u001b[0;34m,\u001b[0m \u001b[0mraise_cast_failure\u001b[0m\u001b[0;34m=\u001b[0m\u001b[0;32mTrue\u001b[0m\u001b[0;34m)\u001b[0m\u001b[0;34m\u001b[0m\u001b[0;34m\u001b[0m\u001b[0m\n\u001b[0m\u001b[1;32m    306\u001b[0m \u001b[0;34m\u001b[0m\u001b[0m\n\u001b[1;32m    307\u001b[0m                 \u001b[0mdata\u001b[0m \u001b[0;34m=\u001b[0m \u001b[0mSingleBlockManager\u001b[0m\u001b[0;34m(\u001b[0m\u001b[0mdata\u001b[0m\u001b[0;34m,\u001b[0m \u001b[0mindex\u001b[0m\u001b[0;34m,\u001b[0m \u001b[0mfastpath\u001b[0m\u001b[0;34m=\u001b[0m\u001b[0;32mTrue\u001b[0m\u001b[0;34m)\u001b[0m\u001b[0;34m\u001b[0m\u001b[0;34m\u001b[0m\u001b[0m\n",
      "\u001b[0;32m~/anaconda3/lib/python3.7/site-packages/pandas/core/construction.py\u001b[0m in \u001b[0;36msanitize_array\u001b[0;34m(data, index, dtype, copy, raise_cast_failure)\u001b[0m\n\u001b[1;32m    463\u001b[0m                 \u001b[0mvalue\u001b[0m \u001b[0;34m=\u001b[0m \u001b[0mmaybe_cast_to_datetime\u001b[0m\u001b[0;34m(\u001b[0m\u001b[0mvalue\u001b[0m\u001b[0;34m,\u001b[0m \u001b[0mdtype\u001b[0m\u001b[0;34m)\u001b[0m\u001b[0;34m\u001b[0m\u001b[0;34m\u001b[0m\u001b[0m\n\u001b[1;32m    464\u001b[0m \u001b[0;34m\u001b[0m\u001b[0m\n\u001b[0;32m--> 465\u001b[0;31m             \u001b[0msubarr\u001b[0m \u001b[0;34m=\u001b[0m \u001b[0mconstruct_1d_arraylike_from_scalar\u001b[0m\u001b[0;34m(\u001b[0m\u001b[0mvalue\u001b[0m\u001b[0;34m,\u001b[0m \u001b[0mlen\u001b[0m\u001b[0;34m(\u001b[0m\u001b[0mindex\u001b[0m\u001b[0;34m)\u001b[0m\u001b[0;34m,\u001b[0m \u001b[0mdtype\u001b[0m\u001b[0;34m)\u001b[0m\u001b[0;34m\u001b[0m\u001b[0;34m\u001b[0m\u001b[0m\n\u001b[0m\u001b[1;32m    466\u001b[0m \u001b[0;34m\u001b[0m\u001b[0m\n\u001b[1;32m    467\u001b[0m         \u001b[0;32melse\u001b[0m\u001b[0;34m:\u001b[0m\u001b[0;34m\u001b[0m\u001b[0;34m\u001b[0m\u001b[0m\n",
      "\u001b[0;32m~/anaconda3/lib/python3.7/site-packages/pandas/core/dtypes/cast.py\u001b[0m in \u001b[0;36mconstruct_1d_arraylike_from_scalar\u001b[0;34m(value, length, dtype)\u001b[0m\n\u001b[1;32m   1459\u001b[0m                 \u001b[0mvalue\u001b[0m \u001b[0;34m=\u001b[0m \u001b[0mensure_str\u001b[0m\u001b[0;34m(\u001b[0m\u001b[0mvalue\u001b[0m\u001b[0;34m)\u001b[0m\u001b[0;34m\u001b[0m\u001b[0;34m\u001b[0m\u001b[0m\n\u001b[1;32m   1460\u001b[0m \u001b[0;34m\u001b[0m\u001b[0m\n\u001b[0;32m-> 1461\u001b[0;31m         \u001b[0msubarr\u001b[0m \u001b[0;34m=\u001b[0m \u001b[0mnp\u001b[0m\u001b[0;34m.\u001b[0m\u001b[0mempty\u001b[0m\u001b[0;34m(\u001b[0m\u001b[0mlength\u001b[0m\u001b[0;34m,\u001b[0m \u001b[0mdtype\u001b[0m\u001b[0;34m=\u001b[0m\u001b[0mdtype\u001b[0m\u001b[0;34m)\u001b[0m\u001b[0;34m\u001b[0m\u001b[0;34m\u001b[0m\u001b[0m\n\u001b[0m\u001b[1;32m   1462\u001b[0m         \u001b[0msubarr\u001b[0m\u001b[0;34m.\u001b[0m\u001b[0mfill\u001b[0m\u001b[0;34m(\u001b[0m\u001b[0mvalue\u001b[0m\u001b[0;34m)\u001b[0m\u001b[0;34m\u001b[0m\u001b[0;34m\u001b[0m\u001b[0m\n\u001b[1;32m   1463\u001b[0m \u001b[0;34m\u001b[0m\u001b[0m\n",
      "\u001b[0;31mTypeError\u001b[0m: Cannot interpret '<attribute 'dtype' of 'numpy.generic' objects>' as a data type"
     ]
    }
   ],
   "source": [
    "df.info()"
   ]
  },
  {
   "cell_type": "code",
   "execution_count": null,
   "metadata": {},
   "outputs": [
    {
     "data": {
      "text/plain": [
       "<AxesSubplot:>"
      ]
     },
     "execution_count": 79,
     "metadata": {},
     "output_type": "execute_result"
    },
    {
     "data": {
      "image/png": "[encoded data removed]",
      "text/plain": [
       "<Figure size 432x288 with 1 Axes>"
      ]
     },
     "metadata": {
      "needs_background": "light"
     },
     "output_type": "display_data"
    }
   ],
   "source": [
    "df['Number_children'].hist()"
   ]
  },
  {
   "cell_type": "code",
   "execution_count": null,
   "metadata": {},
   "outputs": [
    {
     "data": {
      "text/plain": [
       "<AxesSubplot:>"
      ]
     },
     "execution_count": 77,
     "metadata": {},
     "output_type": "execute_result"
    },
    {
     "data": {
      "image/png": "[encoded data removed]",
      "text/plain": [
       "<Figure size 432x288 with 1 Axes>"
      ]
     },
     "metadata": {
      "needs_background": "light"
     },
     "output_type": "display_data"
    }
   ],
   "source": [
    "df['total_members'].hist()"
   ]
  },
  {
   "cell_type": "code",
   "execution_count": null,
   "metadata": {},
   "outputs": [
    {
     "data": {
      "text/plain": [
       "<AxesSubplot:>"
      ]
     },
     "execution_count": 76,
     "metadata": {},
     "output_type": "execute_result"
    },
    {
     "data": {
      "image/png": "[encoded data removed]",
      "text/plain": [
       "<Figure size 432x288 with 1 Axes>"
      ]
     },
     "metadata": {
      "needs_background": "light"
     },
     "output_type": "display_data"
    }
   ],
   "source": [
    "df['education_level'].hist()"
   ]
  },
  {
   "cell_type": "code",
   "execution_count": null,
   "metadata": {},
   "outputs": [
    {
     "data": {
      "text/plain": [
       "1    1312\n",
       "0     117\n",
       "Name: sex, dtype: int64"
      ]
     },
     "execution_count": 71,
     "metadata": {},
     "output_type": "execute_result"
    }
   ],
   "source": [
    "df['sex'].value_counts()"
   ]
  },
  {
   "cell_type": "code",
   "execution_count": null,
   "metadata": {},
   "outputs": [
    {
     "data": {
      "text/plain": [
       "<AxesSubplot:>"
      ]
     },
     "execution_count": 72,
     "metadata": {},
     "output_type": "execute_result"
    },
    {
     "data": {
      "image/png": "[encoded data removed]",
      "text/plain": [
       "<Figure size 432x288 with 1 Axes>"
      ]
     },
     "metadata": {
      "needs_background": "light"
     },
     "output_type": "display_data"
    }
   ],
   "source": [
    "df['Age'].hist()"
   ]
  },
  {
   "cell_type": "code",
   "execution_count": null,
   "metadata": {},
   "outputs": [
    {
     "data": {
      "text/plain": [
       "(1429, 23)"
      ]
     },
     "execution_count": 9,
     "metadata": {},
     "output_type": "execute_result"
    }
   ],
   "source": [
    "df.shape"
   ]
  },
  {
   "cell_type": "code",
   "execution_count": null,
   "metadata": {},
   "outputs": [
    {
     "data": {
      "text/html": [
       "<div>\n",
       "<style scoped>\n",
       "    .dataframe tbody tr th:only-of-type {\n",
       "        vertical-align: middle;\n",
       "    }\n",
       "\n",
       "    .dataframe tbody tr th {\n",
       "        vertical-align: top;\n",
       "    }\n",
       "\n",
       "    .dataframe thead th {\n",
       "        text-align: right;\n",
       "    }\n",
       "</style>\n",
       "<table border=\"1\" class=\"dataframe\">\n",
       "  <thead>\n",
       "    <tr style=\"text-align: right;\">\n",
       "      <th></th>\n",
       "      <th>Survey_id</th>\n",
       "      <th>Ville_id</th>\n",
       "      <th>sex</th>\n",
       "      <th>Age</th>\n",
       "      <th>Married</th>\n",
       "      <th>Number_children</th>\n",
       "      <th>education_level</th>\n",
       "      <th>total_members</th>\n",
       "      <th>gained_asset</th>\n",
       "      <th>durable_asset</th>\n",
       "      <th>...</th>\n",
       "      <th>incoming_salary</th>\n",
       "      <th>incoming_own_farm</th>\n",
       "      <th>incoming_business</th>\n",
       "      <th>incoming_no_business</th>\n",
       "      <th>incoming_agricultural</th>\n",
       "      <th>farm_expenses</th>\n",
       "      <th>labor_primary</th>\n",
       "      <th>lasting_investment</th>\n",
       "      <th>no_lasting_investmen</th>\n",
       "      <th>depressed</th>\n",
       "    </tr>\n",
       "  </thead>\n",
       "  <tbody>\n",
       "    <tr>\n",
       "      <th>0</th>\n",
       "      <td>926</td>\n",
       "      <td>91</td>\n",
       "      <td>1</td>\n",
       "      <td>28</td>\n",
       "      <td>1</td>\n",
       "      <td>4</td>\n",
       "      <td>10</td>\n",
       "      <td>5</td>\n",
       "      <td>28912201</td>\n",
       "      <td>22861940</td>\n",
       "      <td>...</td>\n",
       "      <td>0</td>\n",
       "      <td>0</td>\n",
       "      <td>0</td>\n",
       "      <td>0</td>\n",
       "      <td>30028818</td>\n",
       "      <td>31363432</td>\n",
       "      <td>0</td>\n",
       "      <td>28411718</td>\n",
       "      <td>28292707.0</td>\n",
       "      <td>0</td>\n",
       "    </tr>\n",
       "    <tr>\n",
       "      <th>1</th>\n",
       "      <td>747</td>\n",
       "      <td>57</td>\n",
       "      <td>1</td>\n",
       "      <td>23</td>\n",
       "      <td>1</td>\n",
       "      <td>3</td>\n",
       "      <td>8</td>\n",
       "      <td>5</td>\n",
       "      <td>28912201</td>\n",
       "      <td>22861940</td>\n",
       "      <td>...</td>\n",
       "      <td>0</td>\n",
       "      <td>0</td>\n",
       "      <td>0</td>\n",
       "      <td>0</td>\n",
       "      <td>30028818</td>\n",
       "      <td>31363432</td>\n",
       "      <td>0</td>\n",
       "      <td>28411718</td>\n",
       "      <td>28292707.0</td>\n",
       "      <td>1</td>\n",
       "    </tr>\n",
       "    <tr>\n",
       "      <th>2</th>\n",
       "      <td>1190</td>\n",
       "      <td>115</td>\n",
       "      <td>1</td>\n",
       "      <td>22</td>\n",
       "      <td>1</td>\n",
       "      <td>3</td>\n",
       "      <td>9</td>\n",
       "      <td>5</td>\n",
       "      <td>28912201</td>\n",
       "      <td>22861940</td>\n",
       "      <td>...</td>\n",
       "      <td>0</td>\n",
       "      <td>0</td>\n",
       "      <td>0</td>\n",
       "      <td>0</td>\n",
       "      <td>30028818</td>\n",
       "      <td>31363432</td>\n",
       "      <td>0</td>\n",
       "      <td>28411718</td>\n",
       "      <td>28292707.0</td>\n",
       "      <td>0</td>\n",
       "    </tr>\n",
       "    <tr>\n",
       "      <th>3</th>\n",
       "      <td>1065</td>\n",
       "      <td>97</td>\n",
       "      <td>1</td>\n",
       "      <td>27</td>\n",
       "      <td>1</td>\n",
       "      <td>2</td>\n",
       "      <td>10</td>\n",
       "      <td>4</td>\n",
       "      <td>52667108</td>\n",
       "      <td>19698904</td>\n",
       "      <td>...</td>\n",
       "      <td>0</td>\n",
       "      <td>1</td>\n",
       "      <td>0</td>\n",
       "      <td>1</td>\n",
       "      <td>22288055</td>\n",
       "      <td>18751329</td>\n",
       "      <td>0</td>\n",
       "      <td>7781123</td>\n",
       "      <td>69219765.0</td>\n",
       "      <td>0</td>\n",
       "    </tr>\n",
       "    <tr>\n",
       "      <th>4</th>\n",
       "      <td>806</td>\n",
       "      <td>42</td>\n",
       "      <td>0</td>\n",
       "      <td>59</td>\n",
       "      <td>0</td>\n",
       "      <td>4</td>\n",
       "      <td>10</td>\n",
       "      <td>6</td>\n",
       "      <td>82606287</td>\n",
       "      <td>17352654</td>\n",
       "      <td>...</td>\n",
       "      <td>1</td>\n",
       "      <td>0</td>\n",
       "      <td>0</td>\n",
       "      <td>0</td>\n",
       "      <td>53384566</td>\n",
       "      <td>20731006</td>\n",
       "      <td>1</td>\n",
       "      <td>20100562</td>\n",
       "      <td>43419447.0</td>\n",
       "      <td>0</td>\n",
       "    </tr>\n",
       "  </tbody>\n",
       "</table>\n",
       "<p>5 rows × 23 columns</p>\n",
       "</div>"
      ],
      "text/plain": [
       "   Survey_id  Ville_id  sex  Age  Married  Number_children  education_level  \\\n",
       "0        926        91    1   28        1                4               10   \n",
       "1        747        57    1   23        1                3                8   \n",
       "2       1190       115    1   22        1                3                9   \n",
       "3       1065        97    1   27        1                2               10   \n",
       "4        806        42    0   59        0                4               10   \n",
       "\n",
       "   total_members  gained_asset  durable_asset  ...  incoming_salary  \\\n",
       "0              5      28912201       22861940  ...                0   \n",
       "1              5      28912201       22861940  ...                0   \n",
       "2              5      28912201       22861940  ...                0   \n",
       "3              4      52667108       19698904  ...                0   \n",
       "4              6      82606287       17352654  ...                1   \n",
       "\n",
       "   incoming_own_farm  incoming_business  incoming_no_business  \\\n",
       "0                  0                  0                     0   \n",
       "1                  0                  0                     0   \n",
       "2                  0                  0                     0   \n",
       "3                  1                  0                     1   \n",
       "4                  0                  0                     0   \n",
       "\n",
       "   incoming_agricultural  farm_expenses  labor_primary  lasting_investment  \\\n",
       "0               30028818       31363432              0            28411718   \n",
       "1               30028818       31363432              0            28411718   \n",
       "2               30028818       31363432              0            28411718   \n",
       "3               22288055       18751329              0             7781123   \n",
       "4               53384566       20731006              1            20100562   \n",
       "\n",
       "   no_lasting_investmen  depressed  \n",
       "0            28292707.0          0  \n",
       "1            28292707.0          1  \n",
       "2            28292707.0          0  \n",
       "3            69219765.0          0  \n",
       "4            43419447.0          0  \n",
       "\n",
       "[5 rows x 23 columns]"
      ]
     },
     "execution_count": 10,
     "metadata": {},
     "output_type": "execute_result"
    }
   ],
   "source": [
    "df.head()"
   ]
  },
  {
   "cell_type": "code",
   "execution_count": null,
   "metadata": {},
   "outputs": [
    {
     "data": {
      "text/plain": [
       "Index(['Survey_id', 'Ville_id', 'sex', 'Age', 'Married', 'Number_children',\n",
       "       'education_level', 'total_members', 'gained_asset', 'durable_asset',\n",
       "       'save_asset', 'living_expenses', 'other_expenses', 'incoming_salary',\n",
       "       'incoming_own_farm', 'incoming_business', 'incoming_no_business',\n",
       "       'incoming_agricultural', 'farm_expenses', 'labor_primary',\n",
       "       'lasting_investment', 'no_lasting_investmen', 'depressed'],\n",
       "      dtype='object')"
      ]
     },
     "execution_count": 11,
     "metadata": {},
     "output_type": "execute_result"
    }
   ],
   "source": [
    "df.columns"
   ]
  },
  {
   "cell_type": "code",
   "execution_count": null,
   "metadata": {},
   "outputs": [
    {
     "data": {
      "text/plain": [
       "17"
      ]
     },
     "execution_count": 12,
     "metadata": {},
     "output_type": "execute_result"
    }
   ],
   "source": [
    "min(df['Age'])"
   ]
  },
  {
   "cell_type": "code",
   "execution_count": null,
   "metadata": {},
   "outputs": [
    {
     "data": {
      "text/plain": [
       "91"
      ]
     },
     "execution_count": 13,
     "metadata": {},
     "output_type": "execute_result"
    }
   ],
   "source": [
    "max(df['Age'])"
   ]
  },
  {
   "cell_type": "code",
   "execution_count": null,
   "metadata": {},
   "outputs": [
    {
     "data": {
      "text/plain": [
       "Survey_id                7.150000e+02\n",
       "Ville_id                 7.628621e+01\n",
       "sex                      9.181246e-01\n",
       "Age                      3.477747e+01\n",
       "Married                  7.725682e-01\n",
       "Number_children          2.883135e+00\n",
       "education_level          8.687194e+00\n",
       "total_members            4.969209e+00\n",
       "gained_asset             3.363448e+07\n",
       "durable_asset            2.717296e+07\n",
       "save_asset               2.742471e+07\n",
       "living_expenses          3.248257e+07\n",
       "other_expenses           3.366632e+07\n",
       "incoming_salary          1.798460e-01\n",
       "incoming_own_farm        2.519244e-01\n",
       "incoming_business        1.077677e-01\n",
       "incoming_no_business     2.603219e-01\n",
       "incoming_agricultural    3.451039e+07\n",
       "farm_expenses            3.549153e+07\n",
       "labor_primary            2.134360e-01\n",
       "lasting_investment       3.299222e+07\n",
       "no_lasting_investmen     3.360385e+07\n",
       "depressed                1.665500e-01\n",
       "dtype: float64"
      ]
     },
     "execution_count": 14,
     "metadata": {},
     "output_type": "execute_result"
    }
   ],
   "source": [
    "df.mean()"
   ]
  },
  {
   "cell_type": "code",
   "execution_count": null,
   "metadata": {},
   "outputs": [
    {
     "data": {
      "text/html": [
       "<div>\n",
       "<style scoped>\n",
       "    .dataframe tbody tr th:only-of-type {\n",
       "        vertical-align: middle;\n",
       "    }\n",
       "\n",
       "    .dataframe tbody tr th {\n",
       "        vertical-align: top;\n",
       "    }\n",
       "\n",
       "    .dataframe thead th {\n",
       "        text-align: right;\n",
       "    }\n",
       "</style>\n",
       "<table border=\"1\" class=\"dataframe\">\n",
       "  <thead>\n",
       "    <tr style=\"text-align: right;\">\n",
       "      <th></th>\n",
       "      <th>Survey_id</th>\n",
       "      <th>Ville_id</th>\n",
       "      <th>sex</th>\n",
       "      <th>Age</th>\n",
       "      <th>Married</th>\n",
       "      <th>Number_children</th>\n",
       "      <th>education_level</th>\n",
       "      <th>total_members</th>\n",
       "      <th>gained_asset</th>\n",
       "      <th>durable_asset</th>\n",
       "      <th>...</th>\n",
       "      <th>incoming_salary</th>\n",
       "      <th>incoming_own_farm</th>\n",
       "      <th>incoming_business</th>\n",
       "      <th>incoming_no_business</th>\n",
       "      <th>incoming_agricultural</th>\n",
       "      <th>farm_expenses</th>\n",
       "      <th>labor_primary</th>\n",
       "      <th>lasting_investment</th>\n",
       "      <th>no_lasting_investmen</th>\n",
       "      <th>depressed</th>\n",
       "    </tr>\n",
       "  </thead>\n",
       "  <tbody>\n",
       "    <tr>\n",
       "      <th>count</th>\n",
       "      <td>1429.00000</td>\n",
       "      <td>1429.000000</td>\n",
       "      <td>1429.000000</td>\n",
       "      <td>1429.000000</td>\n",
       "      <td>1429.000000</td>\n",
       "      <td>1429.000000</td>\n",
       "      <td>1429.000000</td>\n",
       "      <td>1429.000000</td>\n",
       "      <td>1.429000e+03</td>\n",
       "      <td>1.429000e+03</td>\n",
       "      <td>...</td>\n",
       "      <td>1429.000000</td>\n",
       "      <td>1429.000000</td>\n",
       "      <td>1429.000000</td>\n",
       "      <td>1429.000000</td>\n",
       "      <td>1.429000e+03</td>\n",
       "      <td>1.429000e+03</td>\n",
       "      <td>1429.000000</td>\n",
       "      <td>1.429000e+03</td>\n",
       "      <td>1.409000e+03</td>\n",
       "      <td>1429.000000</td>\n",
       "    </tr>\n",
       "    <tr>\n",
       "      <th>mean</th>\n",
       "      <td>715.00000</td>\n",
       "      <td>76.286214</td>\n",
       "      <td>0.918125</td>\n",
       "      <td>34.777467</td>\n",
       "      <td>0.772568</td>\n",
       "      <td>2.883135</td>\n",
       "      <td>8.687194</td>\n",
       "      <td>4.969209</td>\n",
       "      <td>3.363448e+07</td>\n",
       "      <td>2.717296e+07</td>\n",
       "      <td>...</td>\n",
       "      <td>0.179846</td>\n",
       "      <td>0.251924</td>\n",
       "      <td>0.107768</td>\n",
       "      <td>0.260322</td>\n",
       "      <td>3.451039e+07</td>\n",
       "      <td>3.549153e+07</td>\n",
       "      <td>0.213436</td>\n",
       "      <td>3.299222e+07</td>\n",
       "      <td>3.360385e+07</td>\n",
       "      <td>0.166550</td>\n",
       "    </tr>\n",
       "    <tr>\n",
       "      <th>std</th>\n",
       "      <td>412.66108</td>\n",
       "      <td>66.444012</td>\n",
       "      <td>0.274271</td>\n",
       "      <td>13.986219</td>\n",
       "      <td>0.419320</td>\n",
       "      <td>1.874472</td>\n",
       "      <td>2.923532</td>\n",
       "      <td>1.786317</td>\n",
       "      <td>2.003854e+07</td>\n",
       "      <td>1.815672e+07</td>\n",
       "      <td>...</td>\n",
       "      <td>0.384194</td>\n",
       "      <td>0.434270</td>\n",
       "      <td>0.310195</td>\n",
       "      <td>0.438964</td>\n",
       "      <td>2.077846e+07</td>\n",
       "      <td>2.112372e+07</td>\n",
       "      <td>0.409876</td>\n",
       "      <td>2.121621e+07</td>\n",
       "      <td>2.160228e+07</td>\n",
       "      <td>0.372704</td>\n",
       "    </tr>\n",
       "    <tr>\n",
       "      <th>min</th>\n",
       "      <td>1.00000</td>\n",
       "      <td>1.000000</td>\n",
       "      <td>0.000000</td>\n",
       "      <td>17.000000</td>\n",
       "      <td>0.000000</td>\n",
       "      <td>0.000000</td>\n",
       "      <td>1.000000</td>\n",
       "      <td>1.000000</td>\n",
       "      <td>3.251120e+05</td>\n",
       "      <td>1.625560e+05</td>\n",
       "      <td>...</td>\n",
       "      <td>0.000000</td>\n",
       "      <td>0.000000</td>\n",
       "      <td>0.000000</td>\n",
       "      <td>0.000000</td>\n",
       "      <td>3.251120e+05</td>\n",
       "      <td>2.715050e+05</td>\n",
       "      <td>0.000000</td>\n",
       "      <td>7.429200e+04</td>\n",
       "      <td>1.263120e+05</td>\n",
       "      <td>0.000000</td>\n",
       "    </tr>\n",
       "    <tr>\n",
       "      <th>25%</th>\n",
       "      <td>358.00000</td>\n",
       "      <td>24.000000</td>\n",
       "      <td>1.000000</td>\n",
       "      <td>25.000000</td>\n",
       "      <td>1.000000</td>\n",
       "      <td>2.000000</td>\n",
       "      <td>8.000000</td>\n",
       "      <td>4.000000</td>\n",
       "      <td>2.326982e+07</td>\n",
       "      <td>1.929852e+07</td>\n",
       "      <td>...</td>\n",
       "      <td>0.000000</td>\n",
       "      <td>0.000000</td>\n",
       "      <td>0.000000</td>\n",
       "      <td>0.000000</td>\n",
       "      <td>2.322229e+07</td>\n",
       "      <td>2.279966e+07</td>\n",
       "      <td>0.000000</td>\n",
       "      <td>2.001911e+07</td>\n",
       "      <td>2.064203e+07</td>\n",
       "      <td>0.000000</td>\n",
       "    </tr>\n",
       "    <tr>\n",
       "      <th>50%</th>\n",
       "      <td>715.00000</td>\n",
       "      <td>57.000000</td>\n",
       "      <td>1.000000</td>\n",
       "      <td>30.000000</td>\n",
       "      <td>1.000000</td>\n",
       "      <td>3.000000</td>\n",
       "      <td>9.000000</td>\n",
       "      <td>5.000000</td>\n",
       "      <td>2.891220e+07</td>\n",
       "      <td>2.286194e+07</td>\n",
       "      <td>...</td>\n",
       "      <td>0.000000</td>\n",
       "      <td>0.000000</td>\n",
       "      <td>0.000000</td>\n",
       "      <td>0.000000</td>\n",
       "      <td>3.002882e+07</td>\n",
       "      <td>3.136343e+07</td>\n",
       "      <td>0.000000</td>\n",
       "      <td>2.841172e+07</td>\n",
       "      <td>2.829271e+07</td>\n",
       "      <td>0.000000</td>\n",
       "    </tr>\n",
       "    <tr>\n",
       "      <th>75%</th>\n",
       "      <td>1072.00000</td>\n",
       "      <td>105.000000</td>\n",
       "      <td>1.000000</td>\n",
       "      <td>42.000000</td>\n",
       "      <td>1.000000</td>\n",
       "      <td>4.000000</td>\n",
       "      <td>10.000000</td>\n",
       "      <td>6.000000</td>\n",
       "      <td>3.717283e+07</td>\n",
       "      <td>2.656950e+07</td>\n",
       "      <td>...</td>\n",
       "      <td>0.000000</td>\n",
       "      <td>1.000000</td>\n",
       "      <td>0.000000</td>\n",
       "      <td>1.000000</td>\n",
       "      <td>4.003842e+07</td>\n",
       "      <td>4.348584e+07</td>\n",
       "      <td>0.000000</td>\n",
       "      <td>3.982686e+07</td>\n",
       "      <td>4.151762e+07</td>\n",
       "      <td>0.000000</td>\n",
       "    </tr>\n",
       "    <tr>\n",
       "      <th>max</th>\n",
       "      <td>1429.00000</td>\n",
       "      <td>292.000000</td>\n",
       "      <td>1.000000</td>\n",
       "      <td>91.000000</td>\n",
       "      <td>1.000000</td>\n",
       "      <td>11.000000</td>\n",
       "      <td>19.000000</td>\n",
       "      <td>12.000000</td>\n",
       "      <td>9.912755e+07</td>\n",
       "      <td>9.961560e+07</td>\n",
       "      <td>...</td>\n",
       "      <td>1.000000</td>\n",
       "      <td>1.000000</td>\n",
       "      <td>1.000000</td>\n",
       "      <td>1.000000</td>\n",
       "      <td>9.978910e+07</td>\n",
       "      <td>9.965119e+07</td>\n",
       "      <td>1.000000</td>\n",
       "      <td>9.944667e+07</td>\n",
       "      <td>9.965119e+07</td>\n",
       "      <td>1.000000</td>\n",
       "    </tr>\n",
       "  </tbody>\n",
       "</table>\n",
       "<p>8 rows × 23 columns</p>\n",
       "</div>"
      ],
      "text/plain": [
       "        Survey_id     Ville_id          sex          Age      Married  \\\n",
       "count  1429.00000  1429.000000  1429.000000  1429.000000  1429.000000   \n",
       "mean    715.00000    76.286214     0.918125    34.777467     0.772568   \n",
       "std     412.66108    66.444012     0.274271    13.986219     0.419320   \n",
       "min       1.00000     1.000000     0.000000    17.000000     0.000000   \n",
       "25%     358.00000    24.000000     1.000000    25.000000     1.000000   \n",
       "50%     715.00000    57.000000     1.000000    30.000000     1.000000   \n",
       "75%    1072.00000   105.000000     1.000000    42.000000     1.000000   \n",
       "max    1429.00000   292.000000     1.000000    91.000000     1.000000   \n",
       "\n",
       "       Number_children  education_level  total_members  gained_asset  \\\n",
       "count      1429.000000      1429.000000    1429.000000  1.429000e+03   \n",
       "mean          2.883135         8.687194       4.969209  3.363448e+07   \n",
       "std           1.874472         2.923532       1.786317  2.003854e+07   \n",
       "min           0.000000         1.000000       1.000000  3.251120e+05   \n",
       "25%           2.000000         8.000000       4.000000  2.326982e+07   \n",
       "50%           3.000000         9.000000       5.000000  2.891220e+07   \n",
       "75%           4.000000        10.000000       6.000000  3.717283e+07   \n",
       "max          11.000000        19.000000      12.000000  9.912755e+07   \n",
       "\n",
       "       durable_asset  ...  incoming_salary  incoming_own_farm  \\\n",
       "count   1.429000e+03  ...      1429.000000        1429.000000   \n",
       "mean    2.717296e+07  ...         0.179846           0.251924   \n",
       "std     1.815672e+07  ...         0.384194           0.434270   \n",
       "min     1.625560e+05  ...         0.000000           0.000000   \n",
       "25%     1.929852e+07  ...         0.000000           0.000000   \n",
       "50%     2.286194e+07  ...         0.000000           0.000000   \n",
       "75%     2.656950e+07  ...         0.000000           1.000000   \n",
       "max     9.961560e+07  ...         1.000000           1.000000   \n",
       "\n",
       "       incoming_business  incoming_no_business  incoming_agricultural  \\\n",
       "count        1429.000000           1429.000000           1.429000e+03   \n",
       "mean            0.107768              0.260322           3.451039e+07   \n",
       "std             0.310195              0.438964           2.077846e+07   \n",
       "min             0.000000              0.000000           3.251120e+05   \n",
       "25%             0.000000              0.000000           2.322229e+07   \n",
       "50%             0.000000              0.000000           3.002882e+07   \n",
       "75%             0.000000              1.000000           4.003842e+07   \n",
       "max             1.000000              1.000000           9.978910e+07   \n",
       "\n",
       "       farm_expenses  labor_primary  lasting_investment  no_lasting_investmen  \\\n",
       "count   1.429000e+03    1429.000000        1.429000e+03          1.409000e+03   \n",
       "mean    3.549153e+07       0.213436        3.299222e+07          3.360385e+07   \n",
       "std     2.112372e+07       0.409876        2.121621e+07          2.160228e+07   \n",
       "min     2.715050e+05       0.000000        7.429200e+04          1.263120e+05   \n",
       "25%     2.279966e+07       0.000000        2.001911e+07          2.064203e+07   \n",
       "50%     3.136343e+07       0.000000        2.841172e+07          2.829271e+07   \n",
       "75%     4.348584e+07       0.000000        3.982686e+07          4.151762e+07   \n",
       "max     9.965119e+07       1.000000        9.944667e+07          9.965119e+07   \n",
       "\n",
       "         depressed  \n",
       "count  1429.000000  \n",
       "mean      0.166550  \n",
       "std       0.372704  \n",
       "min       0.000000  \n",
       "25%       0.000000  \n",
       "50%       0.000000  \n",
       "75%       0.000000  \n",
       "max       1.000000  \n",
       "\n",
       "[8 rows x 23 columns]"
      ]
     },
     "execution_count": 15,
     "metadata": {},
     "output_type": "execute_result"
    }
   ],
   "source": [
    "df.describe()"
   ]
  },
  {
   "cell_type": "markdown",
   "metadata": {},
   "source": [
    "### Count NAN in each column"
   ]
  },
  {
   "cell_type": "code",
   "execution_count": 12,
   "metadata": {},
   "outputs": [
    {
     "data": {
      "text/plain": [
       "23"
      ]
     },
     "execution_count": 12,
     "metadata": {},
     "output_type": "execute_result"
    }
   ],
   "source": [
    "df.isnull().sum()"
   ]
  },
  {
   "cell_type": "markdown",
   "metadata": {},
   "source": [
    "## Detecção de outliers\n",
    "\n",
    "Melhorar a perfomance do R² (score)"
   ]
  },
  {
   "cell_type": "code",
   "execution_count": 11,
   "metadata": {},
   "outputs": [
    {
     "data": {
      "text/plain": [
       "<matplotlib.axes._subplots.AxesSubplot at 0x7fde61bd03d0>"
      ]
     },
     "execution_count": 11,
     "metadata": {},
     "output_type": "execute_result"
    },
    {
     "data": {
      "image/png": "[encoded data removed]",
      "text/plain": [
       "<Figure size 432x288 with 1 Axes>"
      ]
     },
     "metadata": {
      "needs_background": "light"
     },
     "output_type": "display_data"
    }
   ],
   "source": [
    "sns.boxplot(data=df)"
   ]
  },
  {
   "cell_type": "code",
   "execution_count": 13,
   "metadata": {},
   "outputs": [
    {
     "data": {
      "text/plain": [
       "Survey_id                1429\n",
       "Ville_id                 1429\n",
       "sex                      1429\n",
       "Age                      1429\n",
       "Married                  1429\n",
       "Number_children          1429\n",
       "education_level          1429\n",
       "total_members            1429\n",
       "gained_asset             1429\n",
       "durable_asset            1429\n",
       "save_asset               1429\n",
       "living_expenses          1429\n",
       "other_expenses           1429\n",
       "incoming_salary          1429\n",
       "incoming_own_farm        1429\n",
       "incoming_business        1429\n",
       "incoming_no_business     1429\n",
       "incoming_agricultural    1429\n",
       "farm_expenses            1429\n",
       "labor_primary            1429\n",
       "lasting_investment       1429\n",
       "no_lasting_investmen     1409\n",
       "depressed                1429\n",
       "dtype: int64"
      ]
     },
     "execution_count": 13,
     "metadata": {},
     "output_type": "execute_result"
    }
   ],
   "source": [
    "df.count()"
   ]
  },
  {
   "cell_type": "code",
   "execution_count": null,
   "metadata": {},
   "outputs": [
    {
     "data": {
      "text/plain": [
       "<AxesSubplot:xlabel='no_lasting_investmen'>"
      ]
     },
     "execution_count": 32,
     "metadata": {},
     "output_type": "execute_result"
    },
    {
     "data": {
      "image/png": "[encoded data removed]",
      "text/plain": [
       "<Figure size 432x288 with 1 Axes>"
      ]
     },
     "metadata": {
      "needs_background": "light"
     },
     "output_type": "display_data"
    }
   ],
   "source": [
    "sns.boxplot(x=df['no_lasting_investmen'])"
   ]
  },
  {
   "cell_type": "code",
   "execution_count": null,
   "metadata": {},
   "outputs": [
    {
     "data": {
      "text/plain": [
       "<AxesSubplot:xlabel='education_level'>"
      ]
     },
     "execution_count": 35,
     "metadata": {},
     "output_type": "execute_result"
    },
    {
     "data": {
      "image/png": "[encoded data removed]",
      "text/plain": [
       "<Figure size 432x288 with 1 Axes>"
      ]
     },
     "metadata": {
      "needs_background": "light"
     },
     "output_type": "display_data"
    }
   ],
   "source": [
    "sns.boxplot(x=df['education_level'])"
   ]
  },
  {
   "cell_type": "code",
   "execution_count": null,
   "metadata": {},
   "outputs": [
    {
     "data": {
      "text/plain": [
       "<AxesSubplot:xlabel='lasting_investment'>"
      ]
     },
     "execution_count": 33,
     "metadata": {},
     "output_type": "execute_result"
    },
    {
     "data": {
      "image/png": "[encoded data removed]",
      "text/plain": [
       "<Figure size 432x288 with 1 Axes>"
      ]
     },
     "metadata": {
      "needs_background": "light"
     },
     "output_type": "display_data"
    }
   ],
   "source": [
    "sns.boxplot(x=df['lasting_investment'])"
   ]
  },
  {
   "cell_type": "code",
   "execution_count": null,
   "metadata": {},
   "outputs": [
    {
     "data": {
      "text/plain": [
       "<AxesSubplot:xlabel='lasting_investment', ylabel='no_lasting_investmen'>"
      ]
     },
     "execution_count": 58,
     "metadata": {},
     "output_type": "execute_result"
    },
    {
     "data": {
      "image/png": "[encoded data removed]",
      "text/plain": [
       "<Figure size 432x288 with 1 Axes>"
      ]
     },
     "metadata": {
      "needs_background": "light"
     },
     "output_type": "display_data"
    }
   ],
   "source": [
    "sns.scatterplot(data=df, x=\"lasting_investment\", y=\"no_lasting_investmen\")\n"
   ]
  },
  {
   "cell_type": "code",
   "execution_count": null,
   "metadata": {},
   "outputs": [
    {
     "name": "stdout",
     "output_type": "stream",
     "text": [
      "                       Survey_id  Ville_id       sex       Age   Married  \\\n",
      "Survey_id               1.000000  0.662523  0.025015  0.021877 -0.011441   \n",
      "Ville_id                0.662523  1.000000  0.010970 -0.012279  0.026970   \n",
      "sex                     0.025015  0.010970  1.000000 -0.159376  0.282472   \n",
      "Age                     0.021877 -0.012279 -0.159376  1.000000 -0.396944   \n",
      "Married                -0.011441  0.026970  0.282472 -0.396944  1.000000   \n",
      "Number_children         0.020242  0.030428  0.214297 -0.138448  0.227206   \n",
      "education_level        -0.037984 -0.010412 -0.072137 -0.377146  0.218406   \n",
      "total_members           0.003653  0.007225  0.180664 -0.073936  0.246808   \n",
      "gained_asset            0.018949 -0.014400  0.022316  0.008316 -0.015317   \n",
      "durable_asset          -0.020738 -0.026135  0.028602  0.045368 -0.045356   \n",
      "save_asset             -0.014632 -0.020477  0.006637 -0.026685  0.009164   \n",
      "living_expenses         0.012638 -0.027240 -0.003493 -0.036599  0.024518   \n",
      "other_expenses          0.024938  0.005505  0.055458  0.026270  0.031676   \n",
      "incoming_salary         0.021197 -0.017517 -0.032950 -0.055884  0.023690   \n",
      "incoming_own_farm       0.004713 -0.101155  0.067467  0.125569  0.007212   \n",
      "incoming_business      -0.032408 -0.012744  0.087322 -0.028204 -0.032171   \n",
      "incoming_no_business   -0.036382 -0.017370  0.101543 -0.087054  0.044150   \n",
      "incoming_agricultural   0.039071  0.018342  0.017828 -0.009173 -0.043032   \n",
      "farm_expenses           0.063214  0.058739  0.070757 -0.009428  0.036919   \n",
      "labor_primary          -0.011613 -0.030992 -0.025092 -0.066347  0.017792   \n",
      "lasting_investment      0.001956 -0.039209  0.037923  0.045714 -0.000606   \n",
      "no_lasting_investmen   -0.003457  0.004416  0.048166 -0.023430  0.050146   \n",
      "depressed              -0.005960  0.028954 -0.003519  0.105721 -0.062155   \n",
      "\n",
      "                       Number_children  education_level  total_members  \\\n",
      "Survey_id                     0.020242        -0.037984       0.003653   \n",
      "Ville_id                      0.030428        -0.010412       0.007225   \n",
      "sex                           0.214297        -0.072137       0.180664   \n",
      "Age                          -0.138448        -0.377146      -0.073936   \n",
      "Married                       0.227206         0.218406       0.246808   \n",
      "Number_children               1.000000         0.175165       0.781731   \n",
      "education_level               0.175165         1.000000       0.130236   \n",
      "total_members                 0.781731         0.130236       1.000000   \n",
      "gained_asset                  0.016195         0.014534       0.015472   \n",
      "durable_asset                -0.014358        -0.011658      -0.040372   \n",
      "save_asset                    0.027850         0.046626       0.036630   \n",
      "living_expenses              -0.000618         0.010132      -0.005937   \n",
      "other_expenses                0.001611        -0.043732       0.009988   \n",
      "incoming_salary              -0.019415         0.010843      -0.047026   \n",
      "incoming_own_farm             0.061140        -0.033861       0.093959   \n",
      "incoming_business             0.032514         0.014032       0.008520   \n",
      "incoming_no_business          0.065935         0.037305       0.070958   \n",
      "incoming_agricultural         0.018512        -0.054515       0.026157   \n",
      "farm_expenses                 0.052273         0.010648       0.072907   \n",
      "labor_primary                -0.016731         0.044067      -0.043622   \n",
      "lasting_investment            0.042988         0.005361       0.044341   \n",
      "no_lasting_investmen          0.014344         0.013849       0.048028   \n",
      "depressed                     0.003823        -0.098043       0.035056   \n",
      "\n",
      "                       gained_asset  durable_asset  ...  incoming_salary  \\\n",
      "Survey_id                  0.018949      -0.020738  ...         0.021197   \n",
      "Ville_id                  -0.014400      -0.026135  ...        -0.017517   \n",
      "sex                        0.022316       0.028602  ...        -0.032950   \n",
      "Age                        0.008316       0.045368  ...        -0.055884   \n",
      "Married                   -0.015317      -0.045356  ...         0.023690   \n",
      "Number_children            0.016195      -0.014358  ...        -0.019415   \n",
      "education_level            0.014534      -0.011658  ...         0.010843   \n",
      "total_members              0.015472      -0.040372  ...        -0.047026   \n",
      "gained_asset               1.000000      -0.005730  ...         0.028493   \n",
      "durable_asset             -0.005730       1.000000  ...         0.078162   \n",
      "save_asset                -0.004477      -0.038218  ...         0.039431   \n",
      "living_expenses            0.073981       0.020984  ...         0.089769   \n",
      "other_expenses             0.039911       0.086410  ...         0.039329   \n",
      "incoming_salary            0.028493       0.078162  ...         1.000000   \n",
      "incoming_own_farm          0.126403       0.064366  ...        -0.271747   \n",
      "incoming_business          0.050641       0.015376  ...        -0.162745   \n",
      "incoming_no_business       0.075120       0.020218  ...        -0.078491   \n",
      "incoming_agricultural      0.028656       0.024395  ...         0.016059   \n",
      "farm_expenses              0.058569       0.027892  ...         0.020840   \n",
      "labor_primary              0.022879       0.094494  ...         0.898951   \n",
      "lasting_investment         0.033085       0.246894  ...         0.000715   \n",
      "no_lasting_investmen       0.030779       0.022460  ...         0.076819   \n",
      "depressed                 -0.004402       0.040505  ...        -0.003929   \n",
      "\n",
      "                       incoming_own_farm  incoming_business  \\\n",
      "Survey_id                       0.004713          -0.032408   \n",
      "Ville_id                       -0.101155          -0.012744   \n",
      "sex                             0.067467           0.087322   \n",
      "Age                             0.125569          -0.028204   \n",
      "Married                         0.007212          -0.032171   \n",
      "Number_children                 0.061140           0.032514   \n",
      "education_level                -0.033861           0.014032   \n",
      "total_members                   0.093959           0.008520   \n",
      "gained_asset                    0.126403           0.050641   \n",
      "durable_asset                   0.064366           0.015376   \n",
      "save_asset                      0.038605           0.067390   \n",
      "living_expenses                 0.074143           0.031858   \n",
      "other_expenses                  0.063620           0.009415   \n",
      "incoming_salary                -0.271747          -0.162745   \n",
      "incoming_own_farm               1.000000          -0.201682   \n",
      "incoming_business              -0.201682           1.000000   \n",
      "incoming_no_business            0.081861           0.534401   \n",
      "incoming_agricultural           0.064287           0.040302   \n",
      "farm_expenses                   0.075560           0.061623   \n",
      "labor_primary                  -0.302294          -0.181039   \n",
      "lasting_investment              0.086146           0.042626   \n",
      "no_lasting_investmen            0.106510          -0.024069   \n",
      "depressed                       0.013161          -0.028158   \n",
      "\n",
      "                       incoming_no_business  incoming_agricultural  \\\n",
      "Survey_id                         -0.036382               0.039071   \n",
      "Ville_id                          -0.017370               0.018342   \n",
      "sex                                0.101543               0.017828   \n",
      "Age                               -0.087054              -0.009173   \n",
      "Married                            0.044150              -0.043032   \n",
      "Number_children                    0.065935               0.018512   \n",
      "education_level                    0.037305              -0.054515   \n",
      "total_members                      0.070958               0.026157   \n",
      "gained_asset                       0.075120               0.028656   \n",
      "durable_asset                      0.020218               0.024395   \n",
      "save_asset                         0.053795               0.022900   \n",
      "living_expenses                    0.023410               0.115553   \n",
      "other_expenses                     0.072545               0.071319   \n",
      "incoming_salary                   -0.078491               0.016059   \n",
      "incoming_own_farm                  0.081861               0.064287   \n",
      "incoming_business                  0.534401               0.040302   \n",
      "incoming_no_business               1.000000               0.087571   \n",
      "incoming_agricultural              0.087571               1.000000   \n",
      "farm_expenses                      0.030318               0.093706   \n",
      "labor_primary                     -0.091069               0.039127   \n",
      "lasting_investment                 0.057760              -0.003214   \n",
      "no_lasting_investmen               0.004291               0.066920   \n",
      "depressed                         -0.025496              -0.019147   \n",
      "\n",
      "                       farm_expenses  labor_primary  lasting_investment  \\\n",
      "Survey_id                   0.063214      -0.011613            0.001956   \n",
      "Ville_id                    0.058739      -0.030992           -0.039209   \n",
      "sex                         0.070757      -0.025092            0.037923   \n",
      "Age                        -0.009428      -0.066347            0.045714   \n",
      "Married                     0.036919       0.017792           -0.000606   \n",
      "Number_children             0.052273      -0.016731            0.042988   \n",
      "education_level             0.010648       0.044067            0.005361   \n",
      "total_members               0.072907      -0.043622            0.044341   \n",
      "gained_asset                0.058569       0.022879            0.033085   \n",
      "durable_asset               0.027892       0.094494            0.246894   \n",
      "save_asset                  0.040168       0.061984            0.034959   \n",
      "living_expenses             0.003512       0.083639            0.040247   \n",
      "other_expenses              0.042088       0.051381            0.048173   \n",
      "incoming_salary             0.020840       0.898951            0.000715   \n",
      "incoming_own_farm           0.075560      -0.302294            0.086146   \n",
      "incoming_business           0.061623      -0.181039            0.042626   \n",
      "incoming_no_business        0.030318      -0.091069            0.057760   \n",
      "incoming_agricultural       0.093706       0.039127           -0.003214   \n",
      "farm_expenses               1.000000       0.023941           -0.001772   \n",
      "labor_primary               0.023941       1.000000            0.008067   \n",
      "lasting_investment         -0.001772       0.008067            1.000000   \n",
      "no_lasting_investmen        0.125146       0.057380            0.043120   \n",
      "depressed                  -0.004901      -0.012825            0.004136   \n",
      "\n",
      "                       no_lasting_investmen  depressed  \n",
      "Survey_id                         -0.003457  -0.005960  \n",
      "Ville_id                           0.004416   0.028954  \n",
      "sex                                0.048166  -0.003519  \n",
      "Age                               -0.023430   0.105721  \n",
      "Married                            0.050146  -0.062155  \n",
      "Number_children                    0.014344   0.003823  \n",
      "education_level                    0.013849  -0.098043  \n",
      "total_members                      0.048028   0.035056  \n",
      "gained_asset                       0.030779  -0.004402  \n",
      "durable_asset                      0.022460   0.040505  \n",
      "save_asset                         0.028610   0.009059  \n",
      "living_expenses                    0.047035  -0.028213  \n",
      "other_expenses                     0.018902   0.017117  \n",
      "incoming_salary                    0.076819  -0.003929  \n",
      "incoming_own_farm                  0.106510   0.013161  \n",
      "incoming_business                 -0.024069  -0.028158  \n",
      "incoming_no_business               0.004291  -0.025496  \n",
      "incoming_agricultural              0.066920  -0.019147  \n",
      "farm_expenses                      0.125146  -0.004901  \n",
      "labor_primary                      0.057380  -0.012825  \n",
      "lasting_investment                 0.043120   0.004136  \n",
      "no_lasting_investmen               1.000000   0.051973  \n",
      "depressed                          0.051973   1.000000  \n",
      "\n",
      "[23 rows x 23 columns]\n"
     ]
    }
   ],
   "source": [
    "\n",
    "# correlation \n",
    "print(df.corr())"
   ]
  },
  {
   "cell_type": "markdown",
   "metadata": {},
   "source": [
    "## ii) pré-processamento dos dados\n",
    "abordando aspectos como correção de\n",
    "outliers e de valores faltantes, codificação de atributos categóricos, discretização de\n",
    "atributos numéricos, normalização, ajuste de desbalanceamento de classes e\n",
    "redução de dimensionalidade"
   ]
  },
  {
   "cell_type": "markdown",
   "metadata": {},
   "source": [
    "### Removendo NAN"
   ]
  },
  {
   "cell_type": "code",
   "execution_count": null,
   "metadata": {},
   "outputs": [
    {
     "data": {
      "text/plain": [
       "Survey_id                0\n",
       "Ville_id                 0\n",
       "sex                      0\n",
       "Age                      0\n",
       "Married                  0\n",
       "Number_children          0\n",
       "education_level          0\n",
       "total_members            0\n",
       "gained_asset             0\n",
       "durable_asset            0\n",
       "save_asset               0\n",
       "living_expenses          0\n",
       "other_expenses           0\n",
       "incoming_salary          0\n",
       "incoming_own_farm        0\n",
       "incoming_business        0\n",
       "incoming_no_business     0\n",
       "incoming_agricultural    0\n",
       "farm_expenses            0\n",
       "labor_primary            0\n",
       "lasting_investment       0\n",
       "no_lasting_investmen     0\n",
       "depressed                0\n",
       "dtype: int64"
      ]
     },
     "execution_count": 19,
     "metadata": {},
     "output_type": "execute_result"
    }
   ],
   "source": [
    "df.drop(df[(df['no_lasting_investmen'].isnull())].index, axis = 0, inplace = True)\n",
    "df.isnull().sum()"
   ]
  },
  {
   "cell_type": "code",
   "execution_count": null,
   "metadata": {},
   "outputs": [
    {
     "data": {
      "text/plain": [
       "Index(['Survey_id', 'Ville_id', 'sex', 'Age', 'Married', 'Number_children',\n",
       "       'education_level', 'total_members', 'gained_asset', 'durable_asset',\n",
       "       'save_asset', 'living_expenses', 'other_expenses', 'incoming_salary',\n",
       "       'incoming_own_farm', 'incoming_business', 'incoming_no_business',\n",
       "       'incoming_agricultural', 'farm_expenses', 'labor_primary',\n",
       "       'lasting_investment', 'no_lasting_investmen', 'depressed'],\n",
       "      dtype='object')"
      ]
     },
     "execution_count": 20,
     "metadata": {},
     "output_type": "execute_result"
    }
   ],
   "source": [
    "df.columns"
   ]
  },
  {
   "cell_type": "code",
   "execution_count": null,
   "metadata": {},
   "outputs": [],
   "source": [
    "def outlier_treatment(datacolumn):\n",
    " sorted(datacolumn)\n",
    " Q1,Q3 = np.percentile(datacolumn , [25,75])\n",
    " IQR = Q3 — Q1\n",
    " lower_range = Q1 — (1.5 * IQR)\n",
    " upper_range = Q3 + (1.5 * IQR)\n",
    " return lower_range,upper_range"
   ]
  },
  {
   "cell_type": "markdown",
   "metadata": {},
   "source": [
    "## iii) treinamento e validação dos modelos,\n",
    "utilizando as melhores práticas em relação a estratégias de divisão de dados para otimização de hiperparâmetros e\n",
    "seleção de modelos\n",
    "\n",
    " - Acurácia\n",
    " - Precision\n",
    " - Recall\n",
    " - F1 Score\n",
    " - ROC AUC score"
   ]
  },
  {
   "cell_type": "markdown",
   "metadata": {},
   "source": [
    "## iv) interpretação do modelo treinado, \n",
    "buscando obter insights sobre o impacto dos atributos na tomada de decisão"
   ]
  }
 ],
 "metadata": {
  "kernelspec": {
   "display_name": "Python 3.7.6 ('base')",
   "language": "python",
   "name": "python3"
  },
  "language_info": {
   "codemirror_mode": {
    "name": "ipython",
    "version": 3
   },
   "file_extension": ".py",
   "mimetype": "text/x-python",
   "name": "python",
   "nbconvert_exporter": "python",
   "pygments_lexer": "ipython3",
   "version": "3.7.6"
  },
  "orig_nbformat": 4,
  "vscode": {
   "interpreter": {
    "hash": "28b8b178ce56687a460bda9a4b177d23f3f80c348f170196c623443fb6ec97fc"
   }
  }
 },
 "nbformat": 4,
 "nbformat_minor": 2
}

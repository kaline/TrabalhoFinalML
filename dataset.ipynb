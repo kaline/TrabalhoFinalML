{
 "cells": [
  {
   "cell_type": "markdown",
   "metadata": {},
   "source": [
    "# Trabalho final ML\n",
    "\n",
    "<a href=\"https://www.kaggle.com/code/reihanenamdari/depression-logistic-regression-and-gridsearchcv/data\">Dataset</a>\n",
    "<br>\n",
    "<hr>\n",
    "\n",
    "<br>\n",
    "\n",
    "#### Contexto e objetivo do trabalho\n",
    "O trabalho prático da disciplina CMP263 - Aprendizagem de Máquina visa\n",
    "permitir que os alunos desenvolvam um modelo preditivo para um problema de\n",
    "interesse, praticando aspectos discutidos na disciplina relacionados ao treinamento e\n",
    "avaliação de modelos de classificação ou regressão, e interpretação dos modelos\n",
    "gerados.\n",
    "A proposta do projeto final é que os alunos aprofundem e consolidem sua\n",
    "experiência no desenvolvimento de modelos preditivos, abordando aspectos ao\n",
    "longo de toda a metodologia de treinamento de modelos, conforme discutimos em\n",
    "aula. "
   ]
  },
  {
   "cell_type": "markdown",
   "metadata": {},
   "source": [
    "## Metodologia\n",
    "\n",
    "CRISP-DM\n",
    "\n",
    "1. Entendimento do negócio\n",
    "2. Entendimento dos dados\n",
    "3. Preparação dos dados\n",
    "4. Modelagem\n",
    "5. Validação\n",
    "6. Deployment"
   ]
  },
  {
   "cell_type": "markdown",
   "metadata": {},
   "source": [
    "## 1. Entendimento do negócio"
   ]
  },
  {
   "cell_type": "markdown",
   "metadata": {},
   "source": [
    "### About Dataset\n",
    "##### Context\n",
    "\n",
    "\n",
    "O dataset original foi publicado pro Frankcc no seguinte link: <a href=\"https://www.kaggle.com/datasets/diegobabativa/depression?resource=download\">Link Kaggle</a>\n",
    "\n",
    "O dataset está envolvido na análise da depressão. Os dados consistem de um estudo das condições de vida de pessoas que vivem em zonas rurais. \n",
    "\n",
    "- Conteúdo\n",
    "1. Surveyid \n",
    "2. Villeid\n",
    "3. sex\n",
    "4. Age\n",
    "5. Married\n",
    "6. Numberchildren \n",
    "7. educationlevel\n",
    "8. totalmembers (in the family) \n",
    "9. gainedasset\n",
    "10. durableasset \n",
    "11. saveasset\n",
    "12. livingexpenses \n",
    "13. otherexpenses\n",
    "14. incomingsalary \n",
    "15. incomingownfarm \n",
    "16. incomingbusiness\n",
    "17. incomingnobusiness\n",
    "18. incomingagricultural \n",
    "19. farmexpenses\n",
    "20. laborprimary \n",
    "21. lastinginvestment\n",
    "22. nolastinginvestmen\n",
    "23. depressed: [ Zero: No depressed] or [One: depressed] (Binary for target class)\n",
    "\n",
    "the main objective is to show statistic analysis and some data mining techniques.\n",
    "\n",
    "The dataset has 23 columns or dimensions and a total of 1432 rows or objects.\n",
    "\n",
    "Acknowledgements\n",
    "The original attribution is to Frankcc i\n",
    "\n",
    "Inspiration\n",
    "\n",
    "<a href=\"https://zindi.africa/competitions/busara-mental-health-prediction-challenge/data\">Busara</a>"
   ]
  },
  {
   "cell_type": "markdown",
   "metadata": {},
   "source": [
    "## Problema\n",
    "\n",
    "Classificação -  objetivo é treinar o melhor classificador possível para detectar o risco de depressão\n",
    "\n",
    "\n",
    "\n",
    "Tirando esta parte, você precisa avaliar as necessidades de pré-processamento dos dados, como imputar valor faltantes, tratar outliers, normalizar, balancear as classes, etc... Você pode aplicar seleção de atributos se deseja avaliar se um subconjunto dos atributos originais já lhe dar bom poder preditivo.\n",
    "\n",
    "Esse pipeline será integrado a algoritmos de classificação (veja bem, suas saídas são numéricas, mas não se trata de uma regressão. Você tem valores na classe 0 ou 1, pois as classes foram codificadas dessa forma) - e o objetivo será treinar o melhor classificador possível para detectar o risco de depressão.\n",
    "\n",
    " "
   ]
  },
  {
   "cell_type": "code",
   "execution_count": 365,
   "metadata": {},
   "outputs": [],
   "source": [
    "import pandas as pd\n",
    "import numpy as np\n",
    "from keras.models import Sequential\n",
    "from keras.layers import Dense\n",
    "from keras.preprocessing import sequence\n",
    "import seaborn as sns\n",
    "import matplotlib.pyplot as plt\n",
    "import os\n",
    "from mpl_toolkits.mplot3d import Axes3D\n",
    "\n",
    "\n",
    "%matplotlib inline"
   ]
  },
  {
   "cell_type": "markdown",
   "metadata": {},
   "source": [
    "## i) análise exploratória dos dados\n",
    "para identificar possíveis problemas nos\n",
    "dados que possam impactar negativamente no treinamento de modelos;"
   ]
  },
  {
   "cell_type": "code",
   "execution_count": 386,
   "metadata": {},
   "outputs": [
    {
     "name": "stdout",
     "output_type": "stream",
     "text": [
      "/home/kaline/workspace/mestrado/TrabalhoFinalML/Dataset/test.csv\n",
      "/home/kaline/workspace/mestrado/TrabalhoFinalML/Dataset/train.csv\n"
     ]
    }
   ],
   "source": [
    "for dirname, _, filenames in os.walk('/home/kaline/workspace/mestrado/TrabalhoFinalML/Dataset'):\n",
    "    for filename in filenames:\n",
    "        print(os.path.join(dirname, filename))"
   ]
  },
  {
   "cell_type": "code",
   "execution_count": 367,
   "metadata": {},
   "outputs": [],
   "source": [
    "target_column_name = 'depressed'"
   ]
  },
  {
   "cell_type": "code",
   "execution_count": 368,
   "metadata": {},
   "outputs": [
    {
     "name": "stdout",
     "output_type": "stream",
     "text": [
      "Dataset - Linhasxcolunas  (1143, 75)\n"
     ]
    },
    {
     "data": {
      "text/html": [
       "<div>\n",
       "<style scoped>\n",
       "    .dataframe tbody tr th:only-of-type {\n",
       "        vertical-align: middle;\n",
       "    }\n",
       "\n",
       "    .dataframe tbody tr th {\n",
       "        vertical-align: top;\n",
       "    }\n",
       "\n",
       "    .dataframe thead th {\n",
       "        text-align: right;\n",
       "    }\n",
       "</style>\n",
       "<table border=\"1\" class=\"dataframe\">\n",
       "  <thead>\n",
       "    <tr style=\"text-align: right;\">\n",
       "      <th></th>\n",
       "      <th>surveyid</th>\n",
       "      <th>village</th>\n",
       "      <th>survey_date</th>\n",
       "      <th>femaleres</th>\n",
       "      <th>age</th>\n",
       "      <th>married</th>\n",
       "      <th>children</th>\n",
       "      <th>hhsize</th>\n",
       "      <th>edu</th>\n",
       "      <th>hh_children</th>\n",
       "      <th>...</th>\n",
       "      <th>given_mpesa</th>\n",
       "      <th>amount_given_mpesa</th>\n",
       "      <th>received_mpesa</th>\n",
       "      <th>amount_received_mpesa</th>\n",
       "      <th>net_mpesa</th>\n",
       "      <th>saved_mpesa</th>\n",
       "      <th>amount_saved_mpesa</th>\n",
       "      <th>early_survey</th>\n",
       "      <th>depressed</th>\n",
       "      <th>day_of_week</th>\n",
       "    </tr>\n",
       "  </thead>\n",
       "  <tbody>\n",
       "    <tr>\n",
       "      <th>0</th>\n",
       "      <td>926</td>\n",
       "      <td>91</td>\n",
       "      <td>23-Nov-61</td>\n",
       "      <td>1</td>\n",
       "      <td>28.0</td>\n",
       "      <td>1</td>\n",
       "      <td>4</td>\n",
       "      <td>6</td>\n",
       "      <td>10</td>\n",
       "      <td>0</td>\n",
       "      <td>...</td>\n",
       "      <td>0</td>\n",
       "      <td>0.0</td>\n",
       "      <td>0</td>\n",
       "      <td>0.000000</td>\n",
       "      <td>0.000000</td>\n",
       "      <td>1</td>\n",
       "      <td>0.000000</td>\n",
       "      <td>0</td>\n",
       "      <td>0</td>\n",
       "      <td>5</td>\n",
       "    </tr>\n",
       "    <tr>\n",
       "      <th>1</th>\n",
       "      <td>747</td>\n",
       "      <td>57</td>\n",
       "      <td>24-Oct-61</td>\n",
       "      <td>1</td>\n",
       "      <td>23.0</td>\n",
       "      <td>1</td>\n",
       "      <td>3</td>\n",
       "      <td>5</td>\n",
       "      <td>8</td>\n",
       "      <td>0</td>\n",
       "      <td>...</td>\n",
       "      <td>0</td>\n",
       "      <td>0.0</td>\n",
       "      <td>1</td>\n",
       "      <td>4.804611</td>\n",
       "      <td>4.804611</td>\n",
       "      <td>0</td>\n",
       "      <td>0.000000</td>\n",
       "      <td>0</td>\n",
       "      <td>1</td>\n",
       "      <td>3</td>\n",
       "    </tr>\n",
       "    <tr>\n",
       "      <th>2</th>\n",
       "      <td>1190</td>\n",
       "      <td>115</td>\n",
       "      <td>05-Oct-61</td>\n",
       "      <td>1</td>\n",
       "      <td>22.0</td>\n",
       "      <td>1</td>\n",
       "      <td>3</td>\n",
       "      <td>5</td>\n",
       "      <td>9</td>\n",
       "      <td>0</td>\n",
       "      <td>...</td>\n",
       "      <td>0</td>\n",
       "      <td>0.0</td>\n",
       "      <td>0</td>\n",
       "      <td>8.007685</td>\n",
       "      <td>8.007685</td>\n",
       "      <td>1</td>\n",
       "      <td>0.000000</td>\n",
       "      <td>0</td>\n",
       "      <td>0</td>\n",
       "      <td>5</td>\n",
       "    </tr>\n",
       "    <tr>\n",
       "      <th>3</th>\n",
       "      <td>1065</td>\n",
       "      <td>97</td>\n",
       "      <td>23-Sep-61</td>\n",
       "      <td>1</td>\n",
       "      <td>27.0</td>\n",
       "      <td>1</td>\n",
       "      <td>2</td>\n",
       "      <td>4</td>\n",
       "      <td>10</td>\n",
       "      <td>2</td>\n",
       "      <td>...</td>\n",
       "      <td>0</td>\n",
       "      <td>0.0</td>\n",
       "      <td>0</td>\n",
       "      <td>0.000000</td>\n",
       "      <td>0.000000</td>\n",
       "      <td>1</td>\n",
       "      <td>1.249199</td>\n",
       "      <td>0</td>\n",
       "      <td>0</td>\n",
       "      <td>0</td>\n",
       "    </tr>\n",
       "    <tr>\n",
       "      <th>4</th>\n",
       "      <td>806</td>\n",
       "      <td>42</td>\n",
       "      <td>12-Sep-61</td>\n",
       "      <td>0</td>\n",
       "      <td>59.0</td>\n",
       "      <td>0</td>\n",
       "      <td>4</td>\n",
       "      <td>6</td>\n",
       "      <td>10</td>\n",
       "      <td>4</td>\n",
       "      <td>...</td>\n",
       "      <td>0</td>\n",
       "      <td>0.0</td>\n",
       "      <td>0</td>\n",
       "      <td>0.000000</td>\n",
       "      <td>0.000000</td>\n",
       "      <td>0</td>\n",
       "      <td>0.000000</td>\n",
       "      <td>0</td>\n",
       "      <td>0</td>\n",
       "      <td>3</td>\n",
       "    </tr>\n",
       "    <tr>\n",
       "      <th>...</th>\n",
       "      <td>...</td>\n",
       "      <td>...</td>\n",
       "      <td>...</td>\n",
       "      <td>...</td>\n",
       "      <td>...</td>\n",
       "      <td>...</td>\n",
       "      <td>...</td>\n",
       "      <td>...</td>\n",
       "      <td>...</td>\n",
       "      <td>...</td>\n",
       "      <td>...</td>\n",
       "      <td>...</td>\n",
       "      <td>...</td>\n",
       "      <td>...</td>\n",
       "      <td>...</td>\n",
       "      <td>...</td>\n",
       "      <td>...</td>\n",
       "      <td>...</td>\n",
       "      <td>...</td>\n",
       "      <td>...</td>\n",
       "      <td>...</td>\n",
       "    </tr>\n",
       "    <tr>\n",
       "      <th>1138</th>\n",
       "      <td>927</td>\n",
       "      <td>152</td>\n",
       "      <td>27-Dec-61</td>\n",
       "      <td>1</td>\n",
       "      <td>36.0</td>\n",
       "      <td>0</td>\n",
       "      <td>4</td>\n",
       "      <td>5</td>\n",
       "      <td>9</td>\n",
       "      <td>0</td>\n",
       "      <td>...</td>\n",
       "      <td>0</td>\n",
       "      <td>0.0</td>\n",
       "      <td>0</td>\n",
       "      <td>0.000000</td>\n",
       "      <td>0.000000</td>\n",
       "      <td>0</td>\n",
       "      <td>0.000000</td>\n",
       "      <td>0</td>\n",
       "      <td>1</td>\n",
       "      <td>4</td>\n",
       "    </tr>\n",
       "    <tr>\n",
       "      <th>1139</th>\n",
       "      <td>1039</td>\n",
       "      <td>104</td>\n",
       "      <td>13-Sep-61</td>\n",
       "      <td>1</td>\n",
       "      <td>23.0</td>\n",
       "      <td>1</td>\n",
       "      <td>0</td>\n",
       "      <td>2</td>\n",
       "      <td>10</td>\n",
       "      <td>0</td>\n",
       "      <td>...</td>\n",
       "      <td>0</td>\n",
       "      <td>0.0</td>\n",
       "      <td>0</td>\n",
       "      <td>0.000000</td>\n",
       "      <td>0.000000</td>\n",
       "      <td>1</td>\n",
       "      <td>0.000000</td>\n",
       "      <td>0</td>\n",
       "      <td>0</td>\n",
       "      <td>4</td>\n",
       "    </tr>\n",
       "    <tr>\n",
       "      <th>1140</th>\n",
       "      <td>428</td>\n",
       "      <td>54</td>\n",
       "      <td>23-Nov-61</td>\n",
       "      <td>1</td>\n",
       "      <td>28.0</td>\n",
       "      <td>1</td>\n",
       "      <td>5</td>\n",
       "      <td>7</td>\n",
       "      <td>10</td>\n",
       "      <td>5</td>\n",
       "      <td>...</td>\n",
       "      <td>0</td>\n",
       "      <td>0.0</td>\n",
       "      <td>0</td>\n",
       "      <td>0.000000</td>\n",
       "      <td>0.000000</td>\n",
       "      <td>0</td>\n",
       "      <td>0.000000</td>\n",
       "      <td>0</td>\n",
       "      <td>0</td>\n",
       "      <td>5</td>\n",
       "    </tr>\n",
       "    <tr>\n",
       "      <th>1141</th>\n",
       "      <td>23</td>\n",
       "      <td>3</td>\n",
       "      <td>05-Oct-61</td>\n",
       "      <td>1</td>\n",
       "      <td>33.0</td>\n",
       "      <td>0</td>\n",
       "      <td>4</td>\n",
       "      <td>5</td>\n",
       "      <td>9</td>\n",
       "      <td>0</td>\n",
       "      <td>...</td>\n",
       "      <td>0</td>\n",
       "      <td>0.0</td>\n",
       "      <td>0</td>\n",
       "      <td>0.000000</td>\n",
       "      <td>0.000000</td>\n",
       "      <td>0</td>\n",
       "      <td>0.000000</td>\n",
       "      <td>0</td>\n",
       "      <td>0</td>\n",
       "      <td>5</td>\n",
       "    </tr>\n",
       "    <tr>\n",
       "      <th>1142</th>\n",
       "      <td>116</td>\n",
       "      <td>18</td>\n",
       "      <td>24-Sep-61</td>\n",
       "      <td>1</td>\n",
       "      <td>39.0</td>\n",
       "      <td>1</td>\n",
       "      <td>0</td>\n",
       "      <td>4</td>\n",
       "      <td>12</td>\n",
       "      <td>0</td>\n",
       "      <td>...</td>\n",
       "      <td>0</td>\n",
       "      <td>0.0</td>\n",
       "      <td>0</td>\n",
       "      <td>0.000000</td>\n",
       "      <td>0.000000</td>\n",
       "      <td>0</td>\n",
       "      <td>0.000000</td>\n",
       "      <td>0</td>\n",
       "      <td>1</td>\n",
       "      <td>1</td>\n",
       "    </tr>\n",
       "  </tbody>\n",
       "</table>\n",
       "<p>1143 rows × 75 columns</p>\n",
       "</div>"
      ],
      "text/plain": [
       "      surveyid  village survey_date  femaleres   age  married  children  \\\n",
       "0          926       91   23-Nov-61          1  28.0        1         4   \n",
       "1          747       57   24-Oct-61          1  23.0        1         3   \n",
       "2         1190      115   05-Oct-61          1  22.0        1         3   \n",
       "3         1065       97   23-Sep-61          1  27.0        1         2   \n",
       "4          806       42   12-Sep-61          0  59.0        0         4   \n",
       "...        ...      ...         ...        ...   ...      ...       ...   \n",
       "1138       927      152   27-Dec-61          1  36.0        0         4   \n",
       "1139      1039      104   13-Sep-61          1  23.0        1         0   \n",
       "1140       428       54   23-Nov-61          1  28.0        1         5   \n",
       "1141        23        3   05-Oct-61          1  33.0        0         4   \n",
       "1142       116       18   24-Sep-61          1  39.0        1         0   \n",
       "\n",
       "      hhsize  edu  hh_children  ...  given_mpesa  amount_given_mpesa  \\\n",
       "0          6   10            0  ...            0                 0.0   \n",
       "1          5    8            0  ...            0                 0.0   \n",
       "2          5    9            0  ...            0                 0.0   \n",
       "3          4   10            2  ...            0                 0.0   \n",
       "4          6   10            4  ...            0                 0.0   \n",
       "...      ...  ...          ...  ...          ...                 ...   \n",
       "1138       5    9            0  ...            0                 0.0   \n",
       "1139       2   10            0  ...            0                 0.0   \n",
       "1140       7   10            5  ...            0                 0.0   \n",
       "1141       5    9            0  ...            0                 0.0   \n",
       "1142       4   12            0  ...            0                 0.0   \n",
       "\n",
       "      received_mpesa  amount_received_mpesa  net_mpesa  saved_mpesa  \\\n",
       "0                  0               0.000000   0.000000            1   \n",
       "1                  1               4.804611   4.804611            0   \n",
       "2                  0               8.007685   8.007685            1   \n",
       "3                  0               0.000000   0.000000            1   \n",
       "4                  0               0.000000   0.000000            0   \n",
       "...              ...                    ...        ...          ...   \n",
       "1138               0               0.000000   0.000000            0   \n",
       "1139               0               0.000000   0.000000            1   \n",
       "1140               0               0.000000   0.000000            0   \n",
       "1141               0               0.000000   0.000000            0   \n",
       "1142               0               0.000000   0.000000            0   \n",
       "\n",
       "      amount_saved_mpesa  early_survey  depressed  day_of_week  \n",
       "0               0.000000             0          0            5  \n",
       "1               0.000000             0          1            3  \n",
       "2               0.000000             0          0            5  \n",
       "3               1.249199             0          0            0  \n",
       "4               0.000000             0          0            3  \n",
       "...                  ...           ...        ...          ...  \n",
       "1138            0.000000             0          1            4  \n",
       "1139            0.000000             0          0            4  \n",
       "1140            0.000000             0          0            5  \n",
       "1141            0.000000             0          0            5  \n",
       "1142            0.000000             0          1            1  \n",
       "\n",
       "[1143 rows x 75 columns]"
      ]
     },
     "execution_count": 368,
     "metadata": {},
     "output_type": "execute_result"
    }
   ],
   "source": [
    "def DataLoading():\n",
    "    df = pd.read_csv('train.csv')\n",
    "    print('Dataset - Linhasxcolunas ', df.shape)\n",
    "    \n",
    "\n",
    "    return df\n",
    "\n",
    "df = DataLoading()\n",
    "df"
   ]
  },
  {
   "cell_type": "code",
   "execution_count": 369,
   "metadata": {},
   "outputs": [
    {
     "data": {
      "text/plain": [
       "array([[<matplotlib.axes._subplots.AxesSubplot object at 0x7f996bcf6110>,\n",
       "        <matplotlib.axes._subplots.AxesSubplot object at 0x7f996bd14ad0>,\n",
       "        <matplotlib.axes._subplots.AxesSubplot object at 0x7f996bccfdd0>,\n",
       "        <matplotlib.axes._subplots.AxesSubplot object at 0x7f996bc83110>,\n",
       "        <matplotlib.axes._subplots.AxesSubplot object at 0x7f996bc31410>,\n",
       "        <matplotlib.axes._subplots.AxesSubplot object at 0x7f996bc61710>,\n",
       "        <matplotlib.axes._subplots.AxesSubplot object at 0x7f996bc15cd0>,\n",
       "        <matplotlib.axes._subplots.AxesSubplot object at 0x7f996bbc9d10>,\n",
       "        <matplotlib.axes._subplots.AxesSubplot object at 0x7f996bbd3a90>],\n",
       "       [<matplotlib.axes._subplots.AxesSubplot object at 0x7f996bb88fd0>,\n",
       "        <matplotlib.axes._subplots.AxesSubplot object at 0x7f996baf80d0>,\n",
       "        <matplotlib.axes._subplots.AxesSubplot object at 0x7f996baad8d0>,\n",
       "        <matplotlib.axes._subplots.AxesSubplot object at 0x7f996ba6f110>,\n",
       "        <matplotlib.axes._subplots.AxesSubplot object at 0x7f996baa4910>,\n",
       "        <matplotlib.axes._subplots.AxesSubplot object at 0x7f996ba65150>,\n",
       "        <matplotlib.axes._subplots.AxesSubplot object at 0x7f996ba1b950>,\n",
       "        <matplotlib.axes._subplots.AxesSubplot object at 0x7f996b9dc190>,\n",
       "        <matplotlib.axes._subplots.AxesSubplot object at 0x7f996b990990>],\n",
       "       [<matplotlib.axes._subplots.AxesSubplot object at 0x7f996b9521d0>,\n",
       "        <matplotlib.axes._subplots.AxesSubplot object at 0x7f996b9089d0>,\n",
       "        <matplotlib.axes._subplots.AxesSubplot object at 0x7f996b8ca210>,\n",
       "        <matplotlib.axes._subplots.AxesSubplot object at 0x7f996b880a10>,\n",
       "        <matplotlib.axes._subplots.AxesSubplot object at 0x7f996b840250>,\n",
       "        <matplotlib.axes._subplots.AxesSubplot object at 0x7f996b7f6a50>,\n",
       "        <matplotlib.axes._subplots.AxesSubplot object at 0x7f996b7b7290>,\n",
       "        <matplotlib.axes._subplots.AxesSubplot object at 0x7f996b7eca90>,\n",
       "        <matplotlib.axes._subplots.AxesSubplot object at 0x7f996af632d0>],\n",
       "       [<matplotlib.axes._subplots.AxesSubplot object at 0x7f996af98ad0>,\n",
       "        <matplotlib.axes._subplots.AxesSubplot object at 0x7f996af59310>,\n",
       "        <matplotlib.axes._subplots.AxesSubplot object at 0x7f996af0eb10>,\n",
       "        <matplotlib.axes._subplots.AxesSubplot object at 0x7f996aed1350>,\n",
       "        <matplotlib.axes._subplots.AxesSubplot object at 0x7f996ae85b50>,\n",
       "        <matplotlib.axes._subplots.AxesSubplot object at 0x7f996ae47390>,\n",
       "        <matplotlib.axes._subplots.AxesSubplot object at 0x7f996adfbb90>,\n",
       "        <matplotlib.axes._subplots.AxesSubplot object at 0x7f996adbf3d0>,\n",
       "        <matplotlib.axes._subplots.AxesSubplot object at 0x7f996ad74bd0>],\n",
       "       [<matplotlib.axes._subplots.AxesSubplot object at 0x7f996ad35410>,\n",
       "        <matplotlib.axes._subplots.AxesSubplot object at 0x7f996ace7c10>,\n",
       "        <matplotlib.axes._subplots.AxesSubplot object at 0x7f996acac450>,\n",
       "        <matplotlib.axes._subplots.AxesSubplot object at 0x7f996acdfc50>,\n",
       "        <matplotlib.axes._subplots.AxesSubplot object at 0x7f996ac22490>,\n",
       "        <matplotlib.axes._subplots.AxesSubplot object at 0x7f996ac57c90>,\n",
       "        <matplotlib.axes._subplots.AxesSubplot object at 0x7f996ac1c4d0>,\n",
       "        <matplotlib.axes._subplots.AxesSubplot object at 0x7f996abcecd0>,\n",
       "        <matplotlib.axes._subplots.AxesSubplot object at 0x7f996ab90510>],\n",
       "       [<matplotlib.axes._subplots.AxesSubplot object at 0x7f996ab45d10>,\n",
       "        <matplotlib.axes._subplots.AxesSubplot object at 0x7f996ab07550>,\n",
       "        <matplotlib.axes._subplots.AxesSubplot object at 0x7f996aabad50>,\n",
       "        <matplotlib.axes._subplots.AxesSubplot object at 0x7f996aa7e590>,\n",
       "        <matplotlib.axes._subplots.AxesSubplot object at 0x7f996aa30d90>,\n",
       "        <matplotlib.axes._subplots.AxesSubplot object at 0x7f996a9f45d0>,\n",
       "        <matplotlib.axes._subplots.AxesSubplot object at 0x7f996a9a7dd0>,\n",
       "        <matplotlib.axes._subplots.AxesSubplot object at 0x7f996a96a610>,\n",
       "        <matplotlib.axes._subplots.AxesSubplot object at 0x7f996a99de10>],\n",
       "       [<matplotlib.axes._subplots.AxesSubplot object at 0x7f996a95f650>,\n",
       "        <matplotlib.axes._subplots.AxesSubplot object at 0x7f996a914e50>,\n",
       "        <matplotlib.axes._subplots.AxesSubplot object at 0x7f996a8d8690>,\n",
       "        <matplotlib.axes._subplots.AxesSubplot object at 0x7f996a88ce90>,\n",
       "        <matplotlib.axes._subplots.AxesSubplot object at 0x7f996a8506d0>,\n",
       "        <matplotlib.axes._subplots.AxesSubplot object at 0x7f996a805ed0>,\n",
       "        <matplotlib.axes._subplots.AxesSubplot object at 0x7f996a7c6710>,\n",
       "        <matplotlib.axes._subplots.AxesSubplot object at 0x7f996a77af10>,\n",
       "        <matplotlib.axes._subplots.AxesSubplot object at 0x7f996a73d750>],\n",
       "       [<matplotlib.axes._subplots.AxesSubplot object at 0x7f996a6eff50>,\n",
       "        <matplotlib.axes._subplots.AxesSubplot object at 0x7f996a6b1790>,\n",
       "        <matplotlib.axes._subplots.AxesSubplot object at 0x7f996a666f90>,\n",
       "        <matplotlib.axes._subplots.AxesSubplot object at 0x7f996a6287d0>,\n",
       "        <matplotlib.axes._subplots.AxesSubplot object at 0x7f996a65dfd0>,\n",
       "        <matplotlib.axes._subplots.AxesSubplot object at 0x7f996a61f810>,\n",
       "        <matplotlib.axes._subplots.AxesSubplot object at 0x7f996a5e0050>,\n",
       "        <matplotlib.axes._subplots.AxesSubplot object at 0x7f996a596850>,\n",
       "        <matplotlib.axes._subplots.AxesSubplot object at 0x7f996a557090>],\n",
       "       [<matplotlib.axes._subplots.AxesSubplot object at 0x7f996a50e890>,\n",
       "        <matplotlib.axes._subplots.AxesSubplot object at 0x7f996a4ce0d0>,\n",
       "        <matplotlib.axes._subplots.AxesSubplot object at 0x7f996a4858d0>,\n",
       "        <matplotlib.axes._subplots.AxesSubplot object at 0x7f996a445110>,\n",
       "        <matplotlib.axes._subplots.AxesSubplot object at 0x7f996a3fb910>,\n",
       "        <matplotlib.axes._subplots.AxesSubplot object at 0x7f996a3bb150>,\n",
       "        <matplotlib.axes._subplots.AxesSubplot object at 0x7f996a371950>,\n",
       "        <matplotlib.axes._subplots.AxesSubplot object at 0x7f996a333190>,\n",
       "        <matplotlib.axes._subplots.AxesSubplot object at 0x7f996a2e8990>]],\n",
       "      dtype=object)"
      ]
     },
     "execution_count": 369,
     "metadata": {},
     "output_type": "execute_result"
    },
    {
     "data": {
      "image/png": "[encoded data removed]",
      "text/plain": [
       "<Figure size 1440x1080 with 81 Axes>"
      ]
     },
     "metadata": {
      "needs_background": "light"
     },
     "output_type": "display_data"
    }
   ],
   "source": [
    "df.hist(figsize=(20, 15))"
   ]
  },
  {
   "cell_type": "code",
   "execution_count": 370,
   "metadata": {},
   "outputs": [
    {
     "name": "stdout",
     "output_type": "stream",
     "text": [
      "0    950\n",
      "1    193\n",
      "Name: depressed, dtype: int64\n",
      "depressed\n",
      "0    83.114611\n",
      "1    16.885389\n",
      "dtype: float64\n"
     ]
    },
    {
     "data": {
      "text/plain": [
       "<matplotlib.axes._subplots.AxesSubplot at 0x7f99695212d0>"
      ]
     },
     "execution_count": 370,
     "metadata": {},
     "output_type": "execute_result"
    },
    {
     "data": {
      "image/png": "[encoded data removed]",
      "text/plain": [
       "<Figure size 432x288 with 1 Axes>"
      ]
     },
     "metadata": {
      "needs_background": "light"
     },
     "output_type": "display_data"
    }
   ],
   "source": [
    "print(df['depressed'].value_counts())\n",
    "print(df.groupby('depressed').size()/df.shape[0]\n",
    "*100)\n",
    "\n",
    "df['depressed'].hist()"
   ]
  },
  {
   "cell_type": "markdown",
   "metadata": {},
   "source": [
    "### Distribuição da coluna target (depressed)\n",
    "\n",
    "Classes não balanceadas"
   ]
  },
  {
   "cell_type": "code",
   "execution_count": 371,
   "metadata": {},
   "outputs": [
    {
     "name": "stdout",
     "output_type": "stream",
     "text": [
      "\n",
      "A variável target do treino possui 20.32% de positivos.\n"
     ]
    },
    {
     "data": {
      "text/plain": [
       "Text(0.5, 1.0, 'Quantidade de registros por classe')"
      ]
     },
     "execution_count": 371,
     "metadata": {},
     "output_type": "execute_result"
    },
    {
     "data": {
      "image/png": "[encoded data removed]",
      "text/plain": [
       "<Figure size 432x288 with 1 Axes>"
      ]
     },
     "metadata": {
      "needs_background": "light"
     },
     "output_type": "display_data"
    }
   ],
   "source": [
    "#Contagem de registros por classes\n",
    "from turtle import color\n",
    "\n",
    "\n",
    "target_counts = df['depressed'].value_counts()\n",
    "positives = target_counts[1]\n",
    "negatives = target_counts[0]\n",
    "\n",
    "#Proporção em %\n",
    "prop = (positives/negatives)*100\n",
    "print('\\nA variável target do treino possui {}% de positivos.'. format(round(prop,2)))\n",
    "\n",
    "#Gráfico\n",
    "plt.bar(target_counts.index, target_counts,color='red')\n",
    "plt.xticks([0, 1])\n",
    "plt.xlabel('Classe')\n",
    "plt.ylabel('Quantidade')\n",
    "plt.title('Quantidade de registros por classe')\n"
   ]
  },
  {
   "cell_type": "markdown",
   "metadata": {},
   "source": [
    "#### Tipos de dados nas colunas"
   ]
  },
  {
   "cell_type": "code",
   "execution_count": 372,
   "metadata": {},
   "outputs": [
    {
     "data": {
      "text/plain": [
       "Text(0.5, 1.0, 'Quantidade de colunas por tipos de dados')"
      ]
     },
     "execution_count": 372,
     "metadata": {},
     "output_type": "execute_result"
    },
    {
     "data": {
      "image/png": "[encoded data removed]",
      "text/plain": [
       "<Figure size 432x288 with 1 Axes>"
      ]
     },
     "metadata": {
      "needs_background": "light"
     },
     "output_type": "display_data"
    }
   ],
   "source": [
    "tipos_dados = df.dtypes.value_counts()\n",
    "\n",
    "#Recurso visual\n",
    "plt.bar(tipos_dados.index.astype(str), tipos_dados.values, color='red')\n",
    "plt.ylabel('Quantidade')\n",
    "plt.title('Quantidade de colunas por tipos de dados')"
   ]
  },
  {
   "cell_type": "code",
   "execution_count": 373,
   "metadata": {},
   "outputs": [
    {
     "data": {
      "text/plain": [
       "<bound method DataFrame.info of       surveyid  village survey_date  femaleres   age  married  children  \\\n",
       "0          926       91   23-Nov-61          1  28.0        1         4   \n",
       "1          747       57   24-Oct-61          1  23.0        1         3   \n",
       "2         1190      115   05-Oct-61          1  22.0        1         3   \n",
       "3         1065       97   23-Sep-61          1  27.0        1         2   \n",
       "4          806       42   12-Sep-61          0  59.0        0         4   \n",
       "...        ...      ...         ...        ...   ...      ...       ...   \n",
       "1138       927      152   27-Dec-61          1  36.0        0         4   \n",
       "1139      1039      104   13-Sep-61          1  23.0        1         0   \n",
       "1140       428       54   23-Nov-61          1  28.0        1         5   \n",
       "1141        23        3   05-Oct-61          1  33.0        0         4   \n",
       "1142       116       18   24-Sep-61          1  39.0        1         0   \n",
       "\n",
       "      hhsize  edu  hh_children  ...  given_mpesa  amount_given_mpesa  \\\n",
       "0          6   10            0  ...            0                 0.0   \n",
       "1          5    8            0  ...            0                 0.0   \n",
       "2          5    9            0  ...            0                 0.0   \n",
       "3          4   10            2  ...            0                 0.0   \n",
       "4          6   10            4  ...            0                 0.0   \n",
       "...      ...  ...          ...  ...          ...                 ...   \n",
       "1138       5    9            0  ...            0                 0.0   \n",
       "1139       2   10            0  ...            0                 0.0   \n",
       "1140       7   10            5  ...            0                 0.0   \n",
       "1141       5    9            0  ...            0                 0.0   \n",
       "1142       4   12            0  ...            0                 0.0   \n",
       "\n",
       "      received_mpesa  amount_received_mpesa  net_mpesa  saved_mpesa  \\\n",
       "0                  0               0.000000   0.000000            1   \n",
       "1                  1               4.804611   4.804611            0   \n",
       "2                  0               8.007685   8.007685            1   \n",
       "3                  0               0.000000   0.000000            1   \n",
       "4                  0               0.000000   0.000000            0   \n",
       "...              ...                    ...        ...          ...   \n",
       "1138               0               0.000000   0.000000            0   \n",
       "1139               0               0.000000   0.000000            1   \n",
       "1140               0               0.000000   0.000000            0   \n",
       "1141               0               0.000000   0.000000            0   \n",
       "1142               0               0.000000   0.000000            0   \n",
       "\n",
       "      amount_saved_mpesa  early_survey  depressed  day_of_week  \n",
       "0               0.000000             0          0            5  \n",
       "1               0.000000             0          1            3  \n",
       "2               0.000000             0          0            5  \n",
       "3               1.249199             0          0            0  \n",
       "4               0.000000             0          0            3  \n",
       "...                  ...           ...        ...          ...  \n",
       "1138            0.000000             0          1            4  \n",
       "1139            0.000000             0          0            4  \n",
       "1140            0.000000             0          0            5  \n",
       "1141            0.000000             0          0            5  \n",
       "1142            0.000000             0          1            1  \n",
       "\n",
       "[1143 rows x 75 columns]>"
      ]
     },
     "execution_count": 373,
     "metadata": {},
     "output_type": "execute_result"
    }
   ],
   "source": [
    "df.info"
   ]
  },
  {
   "cell_type": "code",
   "execution_count": 374,
   "metadata": {},
   "outputs": [
    {
     "data": {
      "text/plain": [
       "(1143, 75)"
      ]
     },
     "execution_count": 374,
     "metadata": {},
     "output_type": "execute_result"
    }
   ],
   "source": [
    "df.shape"
   ]
  },
  {
   "cell_type": "code",
   "execution_count": 375,
   "metadata": {},
   "outputs": [
    {
     "data": {
      "text/html": [
       "<div>\n",
       "<style scoped>\n",
       "    .dataframe tbody tr th:only-of-type {\n",
       "        vertical-align: middle;\n",
       "    }\n",
       "\n",
       "    .dataframe tbody tr th {\n",
       "        vertical-align: top;\n",
       "    }\n",
       "\n",
       "    .dataframe thead th {\n",
       "        text-align: right;\n",
       "    }\n",
       "</style>\n",
       "<table border=\"1\" class=\"dataframe\">\n",
       "  <thead>\n",
       "    <tr style=\"text-align: right;\">\n",
       "      <th></th>\n",
       "      <th>surveyid</th>\n",
       "      <th>village</th>\n",
       "      <th>survey_date</th>\n",
       "      <th>femaleres</th>\n",
       "      <th>age</th>\n",
       "      <th>married</th>\n",
       "      <th>children</th>\n",
       "      <th>hhsize</th>\n",
       "      <th>edu</th>\n",
       "      <th>hh_children</th>\n",
       "      <th>...</th>\n",
       "      <th>given_mpesa</th>\n",
       "      <th>amount_given_mpesa</th>\n",
       "      <th>received_mpesa</th>\n",
       "      <th>amount_received_mpesa</th>\n",
       "      <th>net_mpesa</th>\n",
       "      <th>saved_mpesa</th>\n",
       "      <th>amount_saved_mpesa</th>\n",
       "      <th>early_survey</th>\n",
       "      <th>depressed</th>\n",
       "      <th>day_of_week</th>\n",
       "    </tr>\n",
       "  </thead>\n",
       "  <tbody>\n",
       "    <tr>\n",
       "      <th>0</th>\n",
       "      <td>926</td>\n",
       "      <td>91</td>\n",
       "      <td>23-Nov-61</td>\n",
       "      <td>1</td>\n",
       "      <td>28.0</td>\n",
       "      <td>1</td>\n",
       "      <td>4</td>\n",
       "      <td>6</td>\n",
       "      <td>10</td>\n",
       "      <td>0</td>\n",
       "      <td>...</td>\n",
       "      <td>0</td>\n",
       "      <td>0.0</td>\n",
       "      <td>0</td>\n",
       "      <td>0.000000</td>\n",
       "      <td>0.000000</td>\n",
       "      <td>1</td>\n",
       "      <td>0.000000</td>\n",
       "      <td>0</td>\n",
       "      <td>0</td>\n",
       "      <td>5</td>\n",
       "    </tr>\n",
       "    <tr>\n",
       "      <th>1</th>\n",
       "      <td>747</td>\n",
       "      <td>57</td>\n",
       "      <td>24-Oct-61</td>\n",
       "      <td>1</td>\n",
       "      <td>23.0</td>\n",
       "      <td>1</td>\n",
       "      <td>3</td>\n",
       "      <td>5</td>\n",
       "      <td>8</td>\n",
       "      <td>0</td>\n",
       "      <td>...</td>\n",
       "      <td>0</td>\n",
       "      <td>0.0</td>\n",
       "      <td>1</td>\n",
       "      <td>4.804611</td>\n",
       "      <td>4.804611</td>\n",
       "      <td>0</td>\n",
       "      <td>0.000000</td>\n",
       "      <td>0</td>\n",
       "      <td>1</td>\n",
       "      <td>3</td>\n",
       "    </tr>\n",
       "    <tr>\n",
       "      <th>2</th>\n",
       "      <td>1190</td>\n",
       "      <td>115</td>\n",
       "      <td>05-Oct-61</td>\n",
       "      <td>1</td>\n",
       "      <td>22.0</td>\n",
       "      <td>1</td>\n",
       "      <td>3</td>\n",
       "      <td>5</td>\n",
       "      <td>9</td>\n",
       "      <td>0</td>\n",
       "      <td>...</td>\n",
       "      <td>0</td>\n",
       "      <td>0.0</td>\n",
       "      <td>0</td>\n",
       "      <td>8.007685</td>\n",
       "      <td>8.007685</td>\n",
       "      <td>1</td>\n",
       "      <td>0.000000</td>\n",
       "      <td>0</td>\n",
       "      <td>0</td>\n",
       "      <td>5</td>\n",
       "    </tr>\n",
       "    <tr>\n",
       "      <th>3</th>\n",
       "      <td>1065</td>\n",
       "      <td>97</td>\n",
       "      <td>23-Sep-61</td>\n",
       "      <td>1</td>\n",
       "      <td>27.0</td>\n",
       "      <td>1</td>\n",
       "      <td>2</td>\n",
       "      <td>4</td>\n",
       "      <td>10</td>\n",
       "      <td>2</td>\n",
       "      <td>...</td>\n",
       "      <td>0</td>\n",
       "      <td>0.0</td>\n",
       "      <td>0</td>\n",
       "      <td>0.000000</td>\n",
       "      <td>0.000000</td>\n",
       "      <td>1</td>\n",
       "      <td>1.249199</td>\n",
       "      <td>0</td>\n",
       "      <td>0</td>\n",
       "      <td>0</td>\n",
       "    </tr>\n",
       "    <tr>\n",
       "      <th>4</th>\n",
       "      <td>806</td>\n",
       "      <td>42</td>\n",
       "      <td>12-Sep-61</td>\n",
       "      <td>0</td>\n",
       "      <td>59.0</td>\n",
       "      <td>0</td>\n",
       "      <td>4</td>\n",
       "      <td>6</td>\n",
       "      <td>10</td>\n",
       "      <td>4</td>\n",
       "      <td>...</td>\n",
       "      <td>0</td>\n",
       "      <td>0.0</td>\n",
       "      <td>0</td>\n",
       "      <td>0.000000</td>\n",
       "      <td>0.000000</td>\n",
       "      <td>0</td>\n",
       "      <td>0.000000</td>\n",
       "      <td>0</td>\n",
       "      <td>0</td>\n",
       "      <td>3</td>\n",
       "    </tr>\n",
       "  </tbody>\n",
       "</table>\n",
       "<p>5 rows × 75 columns</p>\n",
       "</div>"
      ],
      "text/plain": [
       "   surveyid  village survey_date  femaleres   age  married  children  hhsize  \\\n",
       "0       926       91   23-Nov-61          1  28.0        1         4       6   \n",
       "1       747       57   24-Oct-61          1  23.0        1         3       5   \n",
       "2      1190      115   05-Oct-61          1  22.0        1         3       5   \n",
       "3      1065       97   23-Sep-61          1  27.0        1         2       4   \n",
       "4       806       42   12-Sep-61          0  59.0        0         4       6   \n",
       "\n",
       "   edu  hh_children  ...  given_mpesa  amount_given_mpesa  received_mpesa  \\\n",
       "0   10            0  ...            0                 0.0               0   \n",
       "1    8            0  ...            0                 0.0               1   \n",
       "2    9            0  ...            0                 0.0               0   \n",
       "3   10            2  ...            0                 0.0               0   \n",
       "4   10            4  ...            0                 0.0               0   \n",
       "\n",
       "   amount_received_mpesa  net_mpesa  saved_mpesa  amount_saved_mpesa  \\\n",
       "0               0.000000   0.000000            1            0.000000   \n",
       "1               4.804611   4.804611            0            0.000000   \n",
       "2               8.007685   8.007685            1            0.000000   \n",
       "3               0.000000   0.000000            1            1.249199   \n",
       "4               0.000000   0.000000            0            0.000000   \n",
       "\n",
       "   early_survey  depressed  day_of_week  \n",
       "0             0          0            5  \n",
       "1             0          1            3  \n",
       "2             0          0            5  \n",
       "3             0          0            0  \n",
       "4             0          0            3  \n",
       "\n",
       "[5 rows x 75 columns]"
      ]
     },
     "execution_count": 375,
     "metadata": {},
     "output_type": "execute_result"
    }
   ],
   "source": [
    "df.head()"
   ]
  },
  {
   "cell_type": "code",
   "execution_count": 376,
   "metadata": {},
   "outputs": [
    {
     "data": {
      "text/plain": [
       "Index(['surveyid', 'village', 'survey_date', 'femaleres', 'age', 'married',\n",
       "       'children', 'hhsize', 'edu', 'hh_children', 'hh_totalmembers',\n",
       "       'cons_nondurable', 'asset_livestock', 'asset_durable', 'asset_phone',\n",
       "       'asset_savings', 'asset_land_owned_total', 'asset_niceroof',\n",
       "       'cons_allfood', 'cons_ownfood', 'cons_alcohol', 'cons_tobacco',\n",
       "       'cons_med_total', 'cons_med_children', 'cons_ed', 'cons_social',\n",
       "       'cons_other', 'ent_wagelabor', 'ent_ownfarm', 'ent_business',\n",
       "       'ent_nonagbusiness', 'ent_employees', 'ent_nonag_revenue',\n",
       "       'ent_nonag_flowcost', 'ent_farmrevenue', 'ent_farmexpenses',\n",
       "       'ent_animalstockrev', 'ent_total_cost', 'fs_adskipm_often',\n",
       "       'fs_adwholed_often', 'fs_chskipm_often', 'fs_chwholed_often', 'fs_meat',\n",
       "       'fs_enoughtom', 'fs_sleephun', 'med_expenses_hh_ep',\n",
       "       'med_expenses_sp_ep', 'med_expenses_child_ep',\n",
       "       'med_portion_sickinjured', 'med_port_sick_child', 'med_afford_port',\n",
       "       'med_sickdays_hhave', 'med_healthconsult', 'med_vacc_newborns',\n",
       "       'med_child_check', 'med_u5_deaths', 'ed_expenses', 'ed_expenses_perkid',\n",
       "       'ed_schoolattend', 'ed_sch_missedpc', 'ed_work_act_pc', 'labor_primary',\n",
       "       'wage_expenditures', 'durable_investment', 'nondurable_investment',\n",
       "       'given_mpesa', 'amount_given_mpesa', 'received_mpesa',\n",
       "       'amount_received_mpesa', 'net_mpesa', 'saved_mpesa',\n",
       "       'amount_saved_mpesa', 'early_survey', 'depressed', 'day_of_week'],\n",
       "      dtype='object')"
      ]
     },
     "execution_count": 376,
     "metadata": {},
     "output_type": "execute_result"
    }
   ],
   "source": [
    "df.columns"
   ]
  },
  {
   "cell_type": "code",
   "execution_count": 379,
   "metadata": {},
   "outputs": [
    {
     "data": {
      "text/plain": [
       "17.0"
      ]
     },
     "execution_count": 379,
     "metadata": {},
     "output_type": "execute_result"
    }
   ],
   "source": [
    "min(df['age'])"
   ]
  },
  {
   "cell_type": "code",
   "execution_count": 378,
   "metadata": {},
   "outputs": [
    {
     "data": {
      "text/plain": [
       "91.0"
      ]
     },
     "execution_count": 378,
     "metadata": {},
     "output_type": "execute_result"
    }
   ],
   "source": [
    "max(df['age'])"
   ]
  },
  {
   "cell_type": "code",
   "execution_count": null,
   "metadata": {},
   "outputs": [
    {
     "data": {
      "text/plain": [
       "Survey_id                7.150000e+02\n",
       "Ville_id                 7.628621e+01\n",
       "sex                      9.181246e-01\n",
       "Age                      3.477747e+01\n",
       "Married                  7.725682e-01\n",
       "Number_children          2.883135e+00\n",
       "education_level          8.687194e+00\n",
       "total_members            4.969209e+00\n",
       "gained_asset             3.363448e+07\n",
       "durable_asset            2.717296e+07\n",
       "save_asset               2.742471e+07\n",
       "living_expenses          3.248257e+07\n",
       "other_expenses           3.366632e+07\n",
       "incoming_salary          1.798460e-01\n",
       "incoming_own_farm        2.519244e-01\n",
       "incoming_business        1.077677e-01\n",
       "incoming_no_business     2.603219e-01\n",
       "incoming_agricultural    3.451039e+07\n",
       "farm_expenses            3.549153e+07\n",
       "labor_primary            2.134360e-01\n",
       "lasting_investment       3.299222e+07\n",
       "no_lasting_investmen     3.360385e+07\n",
       "depressed                1.665500e-01\n",
       "dtype: float64"
      ]
     },
     "execution_count": 299,
     "metadata": {},
     "output_type": "execute_result"
    }
   ],
   "source": [
    "df.mean()"
   ]
  },
  {
   "cell_type": "code",
   "execution_count": null,
   "metadata": {},
   "outputs": [
    {
     "name": "stdout",
     "output_type": "stream",
     "text": [
      "Podemos observar que temos variáveis em diferentes escalas\n",
      "O desvio padrão (std) alto\n"
     ]
    },
    {
     "data": {
      "text/html": [
       "<div>\n",
       "<style scoped>\n",
       "    .dataframe tbody tr th:only-of-type {\n",
       "        vertical-align: middle;\n",
       "    }\n",
       "\n",
       "    .dataframe tbody tr th {\n",
       "        vertical-align: top;\n",
       "    }\n",
       "\n",
       "    .dataframe thead th {\n",
       "        text-align: right;\n",
       "    }\n",
       "</style>\n",
       "<table border=\"1\" class=\"dataframe\">\n",
       "  <thead>\n",
       "    <tr style=\"text-align: right;\">\n",
       "      <th></th>\n",
       "      <th>surveyid</th>\n",
       "      <th>village</th>\n",
       "      <th>femaleres</th>\n",
       "      <th>age</th>\n",
       "      <th>married</th>\n",
       "      <th>children</th>\n",
       "      <th>hhsize</th>\n",
       "      <th>edu</th>\n",
       "      <th>hh_children</th>\n",
       "      <th>hh_totalmembers</th>\n",
       "      <th>...</th>\n",
       "      <th>given_mpesa</th>\n",
       "      <th>amount_given_mpesa</th>\n",
       "      <th>received_mpesa</th>\n",
       "      <th>amount_received_mpesa</th>\n",
       "      <th>net_mpesa</th>\n",
       "      <th>saved_mpesa</th>\n",
       "      <th>amount_saved_mpesa</th>\n",
       "      <th>early_survey</th>\n",
       "      <th>depressed</th>\n",
       "      <th>day_of_week</th>\n",
       "    </tr>\n",
       "  </thead>\n",
       "  <tbody>\n",
       "    <tr>\n",
       "      <th>count</th>\n",
       "      <td>1143.000000</td>\n",
       "      <td>1143.000000</td>\n",
       "      <td>1143.000000</td>\n",
       "      <td>1143.000000</td>\n",
       "      <td>1143.000000</td>\n",
       "      <td>1143.000000</td>\n",
       "      <td>1143.000000</td>\n",
       "      <td>1143.000000</td>\n",
       "      <td>1143.000000</td>\n",
       "      <td>809.000000</td>\n",
       "      <td>...</td>\n",
       "      <td>1143.000000</td>\n",
       "      <td>1143.000000</td>\n",
       "      <td>1143.000000</td>\n",
       "      <td>1143.000000</td>\n",
       "      <td>1143.000000</td>\n",
       "      <td>1143.000000</td>\n",
       "      <td>1143.000000</td>\n",
       "      <td>1143.000000</td>\n",
       "      <td>1143.000000</td>\n",
       "      <td>1143.000000</td>\n",
       "    </tr>\n",
       "    <tr>\n",
       "      <th>mean</th>\n",
       "      <td>715.927384</td>\n",
       "      <td>76.409449</td>\n",
       "      <td>0.916885</td>\n",
       "      <td>34.537270</td>\n",
       "      <td>0.772528</td>\n",
       "      <td>2.860017</td>\n",
       "      <td>4.869641</td>\n",
       "      <td>8.735783</td>\n",
       "      <td>2.018373</td>\n",
       "      <td>4.906057</td>\n",
       "      <td>...</td>\n",
       "      <td>0.015748</td>\n",
       "      <td>0.553462</td>\n",
       "      <td>0.066492</td>\n",
       "      <td>3.564576</td>\n",
       "      <td>3.011114</td>\n",
       "      <td>0.188976</td>\n",
       "      <td>2.269096</td>\n",
       "      <td>0.097988</td>\n",
       "      <td>0.168854</td>\n",
       "      <td>3.295713</td>\n",
       "    </tr>\n",
       "    <tr>\n",
       "      <th>std</th>\n",
       "      <td>415.694525</td>\n",
       "      <td>66.788138</td>\n",
       "      <td>0.276176</td>\n",
       "      <td>13.742107</td>\n",
       "      <td>0.419383</td>\n",
       "      <td>1.846946</td>\n",
       "      <td>2.121852</td>\n",
       "      <td>2.867202</td>\n",
       "      <td>2.016702</td>\n",
       "      <td>2.099287</td>\n",
       "      <td>...</td>\n",
       "      <td>0.124554</td>\n",
       "      <td>6.489140</td>\n",
       "      <td>0.249249</td>\n",
       "      <td>24.950902</td>\n",
       "      <td>25.840639</td>\n",
       "      <td>0.391661</td>\n",
       "      <td>19.676268</td>\n",
       "      <td>0.297428</td>\n",
       "      <td>0.374787</td>\n",
       "      <td>1.684910</td>\n",
       "    </tr>\n",
       "    <tr>\n",
       "      <th>min</th>\n",
       "      <td>1.000000</td>\n",
       "      <td>1.000000</td>\n",
       "      <td>0.000000</td>\n",
       "      <td>17.000000</td>\n",
       "      <td>0.000000</td>\n",
       "      <td>0.000000</td>\n",
       "      <td>1.000000</td>\n",
       "      <td>1.000000</td>\n",
       "      <td>0.000000</td>\n",
       "      <td>1.000000</td>\n",
       "      <td>...</td>\n",
       "      <td>0.000000</td>\n",
       "      <td>0.000000</td>\n",
       "      <td>0.000000</td>\n",
       "      <td>0.000000</td>\n",
       "      <td>-160.153700</td>\n",
       "      <td>0.000000</td>\n",
       "      <td>0.000000</td>\n",
       "      <td>0.000000</td>\n",
       "      <td>0.000000</td>\n",
       "      <td>0.000000</td>\n",
       "    </tr>\n",
       "    <tr>\n",
       "      <th>25%</th>\n",
       "      <td>351.500000</td>\n",
       "      <td>23.000000</td>\n",
       "      <td>1.000000</td>\n",
       "      <td>24.000000</td>\n",
       "      <td>1.000000</td>\n",
       "      <td>2.000000</td>\n",
       "      <td>3.000000</td>\n",
       "      <td>8.000000</td>\n",
       "      <td>0.000000</td>\n",
       "      <td>3.000000</td>\n",
       "      <td>...</td>\n",
       "      <td>0.000000</td>\n",
       "      <td>0.000000</td>\n",
       "      <td>0.000000</td>\n",
       "      <td>0.000000</td>\n",
       "      <td>0.000000</td>\n",
       "      <td>0.000000</td>\n",
       "      <td>0.000000</td>\n",
       "      <td>0.000000</td>\n",
       "      <td>0.000000</td>\n",
       "      <td>2.000000</td>\n",
       "    </tr>\n",
       "    <tr>\n",
       "      <th>50%</th>\n",
       "      <td>717.000000</td>\n",
       "      <td>57.000000</td>\n",
       "      <td>1.000000</td>\n",
       "      <td>30.000000</td>\n",
       "      <td>1.000000</td>\n",
       "      <td>3.000000</td>\n",
       "      <td>5.000000</td>\n",
       "      <td>9.000000</td>\n",
       "      <td>2.000000</td>\n",
       "      <td>5.000000</td>\n",
       "      <td>...</td>\n",
       "      <td>0.000000</td>\n",
       "      <td>0.000000</td>\n",
       "      <td>0.000000</td>\n",
       "      <td>0.000000</td>\n",
       "      <td>0.000000</td>\n",
       "      <td>0.000000</td>\n",
       "      <td>0.000000</td>\n",
       "      <td>0.000000</td>\n",
       "      <td>0.000000</td>\n",
       "      <td>3.000000</td>\n",
       "    </tr>\n",
       "    <tr>\n",
       "      <th>75%</th>\n",
       "      <td>1078.500000</td>\n",
       "      <td>105.500000</td>\n",
       "      <td>1.000000</td>\n",
       "      <td>41.000000</td>\n",
       "      <td>1.000000</td>\n",
       "      <td>4.000000</td>\n",
       "      <td>6.000000</td>\n",
       "      <td>10.000000</td>\n",
       "      <td>3.000000</td>\n",
       "      <td>6.000000</td>\n",
       "      <td>...</td>\n",
       "      <td>0.000000</td>\n",
       "      <td>0.000000</td>\n",
       "      <td>0.000000</td>\n",
       "      <td>0.000000</td>\n",
       "      <td>0.000000</td>\n",
       "      <td>0.000000</td>\n",
       "      <td>0.000000</td>\n",
       "      <td>0.000000</td>\n",
       "      <td>0.000000</td>\n",
       "      <td>5.000000</td>\n",
       "    </tr>\n",
       "    <tr>\n",
       "      <th>max</th>\n",
       "      <td>1429.000000</td>\n",
       "      <td>292.000000</td>\n",
       "      <td>1.000000</td>\n",
       "      <td>91.000000</td>\n",
       "      <td>1.000000</td>\n",
       "      <td>10.000000</td>\n",
       "      <td>12.000000</td>\n",
       "      <td>19.000000</td>\n",
       "      <td>10.000000</td>\n",
       "      <td>12.000000</td>\n",
       "      <td>...</td>\n",
       "      <td>1.000000</td>\n",
       "      <td>160.153700</td>\n",
       "      <td>1.000000</td>\n",
       "      <td>352.338130</td>\n",
       "      <td>352.338130</td>\n",
       "      <td>1.000000</td>\n",
       "      <td>488.468780</td>\n",
       "      <td>1.000000</td>\n",
       "      <td>1.000000</td>\n",
       "      <td>6.000000</td>\n",
       "    </tr>\n",
       "  </tbody>\n",
       "</table>\n",
       "<p>8 rows × 74 columns</p>\n",
       "</div>"
      ],
      "text/plain": [
       "          surveyid      village    femaleres          age      married  \\\n",
       "count  1143.000000  1143.000000  1143.000000  1143.000000  1143.000000   \n",
       "mean    715.927384    76.409449     0.916885    34.537270     0.772528   \n",
       "std     415.694525    66.788138     0.276176    13.742107     0.419383   \n",
       "min       1.000000     1.000000     0.000000    17.000000     0.000000   \n",
       "25%     351.500000    23.000000     1.000000    24.000000     1.000000   \n",
       "50%     717.000000    57.000000     1.000000    30.000000     1.000000   \n",
       "75%    1078.500000   105.500000     1.000000    41.000000     1.000000   \n",
       "max    1429.000000   292.000000     1.000000    91.000000     1.000000   \n",
       "\n",
       "          children       hhsize          edu  hh_children  hh_totalmembers  \\\n",
       "count  1143.000000  1143.000000  1143.000000  1143.000000       809.000000   \n",
       "mean      2.860017     4.869641     8.735783     2.018373         4.906057   \n",
       "std       1.846946     2.121852     2.867202     2.016702         2.099287   \n",
       "min       0.000000     1.000000     1.000000     0.000000         1.000000   \n",
       "25%       2.000000     3.000000     8.000000     0.000000         3.000000   \n",
       "50%       3.000000     5.000000     9.000000     2.000000         5.000000   \n",
       "75%       4.000000     6.000000    10.000000     3.000000         6.000000   \n",
       "max      10.000000    12.000000    19.000000    10.000000        12.000000   \n",
       "\n",
       "       ...  given_mpesa  amount_given_mpesa  received_mpesa  \\\n",
       "count  ...  1143.000000         1143.000000     1143.000000   \n",
       "mean   ...     0.015748            0.553462        0.066492   \n",
       "std    ...     0.124554            6.489140        0.249249   \n",
       "min    ...     0.000000            0.000000        0.000000   \n",
       "25%    ...     0.000000            0.000000        0.000000   \n",
       "50%    ...     0.000000            0.000000        0.000000   \n",
       "75%    ...     0.000000            0.000000        0.000000   \n",
       "max    ...     1.000000          160.153700        1.000000   \n",
       "\n",
       "       amount_received_mpesa    net_mpesa  saved_mpesa  amount_saved_mpesa  \\\n",
       "count            1143.000000  1143.000000  1143.000000         1143.000000   \n",
       "mean                3.564576     3.011114     0.188976            2.269096   \n",
       "std                24.950902    25.840639     0.391661           19.676268   \n",
       "min                 0.000000  -160.153700     0.000000            0.000000   \n",
       "25%                 0.000000     0.000000     0.000000            0.000000   \n",
       "50%                 0.000000     0.000000     0.000000            0.000000   \n",
       "75%                 0.000000     0.000000     0.000000            0.000000   \n",
       "max               352.338130   352.338130     1.000000          488.468780   \n",
       "\n",
       "       early_survey    depressed  day_of_week  \n",
       "count   1143.000000  1143.000000  1143.000000  \n",
       "mean       0.097988     0.168854     3.295713  \n",
       "std        0.297428     0.374787     1.684910  \n",
       "min        0.000000     0.000000     0.000000  \n",
       "25%        0.000000     0.000000     2.000000  \n",
       "50%        0.000000     0.000000     3.000000  \n",
       "75%        0.000000     0.000000     5.000000  \n",
       "max        1.000000     1.000000     6.000000  \n",
       "\n",
       "[8 rows x 74 columns]"
      ]
     },
     "execution_count": 348,
     "metadata": {},
     "output_type": "execute_result"
    }
   ],
   "source": [
    "print('Podemos observar que temos variáveis em diferentes escalas\\nO desvio padrão (std) alto')\n",
    "df.describe()"
   ]
  },
  {
   "cell_type": "code",
   "execution_count": null,
   "metadata": {},
   "outputs": [
    {
     "data": {
      "text/html": [
       "<div>\n",
       "<style scoped>\n",
       "    .dataframe tbody tr th:only-of-type {\n",
       "        vertical-align: middle;\n",
       "    }\n",
       "\n",
       "    .dataframe tbody tr th {\n",
       "        vertical-align: top;\n",
       "    }\n",
       "\n",
       "    .dataframe thead th {\n",
       "        text-align: right;\n",
       "    }\n",
       "</style>\n",
       "<table border=\"1\" class=\"dataframe\">\n",
       "  <thead>\n",
       "    <tr style=\"text-align: right;\">\n",
       "      <th></th>\n",
       "      <th>surveyid</th>\n",
       "      <th>village</th>\n",
       "      <th>femaleres</th>\n",
       "      <th>age</th>\n",
       "      <th>married</th>\n",
       "      <th>children</th>\n",
       "      <th>hhsize</th>\n",
       "      <th>edu</th>\n",
       "      <th>hh_children</th>\n",
       "      <th>hh_totalmembers</th>\n",
       "      <th>...</th>\n",
       "      <th>given_mpesa</th>\n",
       "      <th>amount_given_mpesa</th>\n",
       "      <th>received_mpesa</th>\n",
       "      <th>amount_received_mpesa</th>\n",
       "      <th>net_mpesa</th>\n",
       "      <th>saved_mpesa</th>\n",
       "      <th>amount_saved_mpesa</th>\n",
       "      <th>early_survey</th>\n",
       "      <th>depressed</th>\n",
       "      <th>day_of_week</th>\n",
       "    </tr>\n",
       "  </thead>\n",
       "  <tbody>\n",
       "    <tr>\n",
       "      <th>surveyid</th>\n",
       "      <td>1.000000</td>\n",
       "      <td>0.662797</td>\n",
       "      <td>0.025247</td>\n",
       "      <td>0.041632</td>\n",
       "      <td>-0.015671</td>\n",
       "      <td>0.031325</td>\n",
       "      <td>0.027476</td>\n",
       "      <td>-0.039734</td>\n",
       "      <td>-0.000358</td>\n",
       "      <td>0.024113</td>\n",
       "      <td>...</td>\n",
       "      <td>0.045888</td>\n",
       "      <td>0.040764</td>\n",
       "      <td>-0.021107</td>\n",
       "      <td>0.000453</td>\n",
       "      <td>-0.009799</td>\n",
       "      <td>0.072213</td>\n",
       "      <td>0.020514</td>\n",
       "      <td>-0.073316</td>\n",
       "      <td>-0.019913</td>\n",
       "      <td>0.007106</td>\n",
       "    </tr>\n",
       "    <tr>\n",
       "      <th>village</th>\n",
       "      <td>0.662797</td>\n",
       "      <td>1.000000</td>\n",
       "      <td>-0.008408</td>\n",
       "      <td>0.001868</td>\n",
       "      <td>0.022867</td>\n",
       "      <td>0.039394</td>\n",
       "      <td>0.034232</td>\n",
       "      <td>-0.009572</td>\n",
       "      <td>-0.041124</td>\n",
       "      <td>0.027366</td>\n",
       "      <td>...</td>\n",
       "      <td>0.027330</td>\n",
       "      <td>0.006922</td>\n",
       "      <td>-0.039510</td>\n",
       "      <td>0.008756</td>\n",
       "      <td>0.006716</td>\n",
       "      <td>0.063153</td>\n",
       "      <td>0.001042</td>\n",
       "      <td>-0.069818</td>\n",
       "      <td>0.015881</td>\n",
       "      <td>-0.028304</td>\n",
       "    </tr>\n",
       "    <tr>\n",
       "      <th>femaleres</th>\n",
       "      <td>0.025247</td>\n",
       "      <td>-0.008408</td>\n",
       "      <td>1.000000</td>\n",
       "      <td>-0.137133</td>\n",
       "      <td>0.275119</td>\n",
       "      <td>0.224375</td>\n",
       "      <td>0.256443</td>\n",
       "      <td>-0.075308</td>\n",
       "      <td>0.197696</td>\n",
       "      <td>0.257334</td>\n",
       "      <td>...</td>\n",
       "      <td>0.012628</td>\n",
       "      <td>0.018648</td>\n",
       "      <td>-0.034134</td>\n",
       "      <td>-0.034100</td>\n",
       "      <td>-0.037609</td>\n",
       "      <td>0.007713</td>\n",
       "      <td>-0.008594</td>\n",
       "      <td>0.003292</td>\n",
       "      <td>-0.008112</td>\n",
       "      <td>0.003938</td>\n",
       "    </tr>\n",
       "    <tr>\n",
       "      <th>age</th>\n",
       "      <td>0.041632</td>\n",
       "      <td>0.001868</td>\n",
       "      <td>-0.137133</td>\n",
       "      <td>1.000000</td>\n",
       "      <td>-0.400452</td>\n",
       "      <td>-0.111424</td>\n",
       "      <td>-0.068531</td>\n",
       "      <td>-0.393277</td>\n",
       "      <td>-0.070510</td>\n",
       "      <td>-0.047794</td>\n",
       "      <td>...</td>\n",
       "      <td>-0.026741</td>\n",
       "      <td>-0.025685</td>\n",
       "      <td>0.046239</td>\n",
       "      <td>0.016848</td>\n",
       "      <td>0.022718</td>\n",
       "      <td>-0.095900</td>\n",
       "      <td>-0.018136</td>\n",
       "      <td>-0.063066</td>\n",
       "      <td>0.100159</td>\n",
       "      <td>0.028122</td>\n",
       "    </tr>\n",
       "    <tr>\n",
       "      <th>married</th>\n",
       "      <td>-0.015671</td>\n",
       "      <td>0.022867</td>\n",
       "      <td>0.275119</td>\n",
       "      <td>-0.400452</td>\n",
       "      <td>1.000000</td>\n",
       "      <td>0.220000</td>\n",
       "      <td>0.322867</td>\n",
       "      <td>0.197570</td>\n",
       "      <td>0.152999</td>\n",
       "      <td>0.295652</td>\n",
       "      <td>...</td>\n",
       "      <td>0.051875</td>\n",
       "      <td>0.041664</td>\n",
       "      <td>-0.022720</td>\n",
       "      <td>0.007061</td>\n",
       "      <td>-0.003645</td>\n",
       "      <td>0.070017</td>\n",
       "      <td>0.034929</td>\n",
       "      <td>0.003347</td>\n",
       "      <td>-0.078541</td>\n",
       "      <td>-0.057146</td>\n",
       "    </tr>\n",
       "    <tr>\n",
       "      <th>...</th>\n",
       "      <td>...</td>\n",
       "      <td>...</td>\n",
       "      <td>...</td>\n",
       "      <td>...</td>\n",
       "      <td>...</td>\n",
       "      <td>...</td>\n",
       "      <td>...</td>\n",
       "      <td>...</td>\n",
       "      <td>...</td>\n",
       "      <td>...</td>\n",
       "      <td>...</td>\n",
       "      <td>...</td>\n",
       "      <td>...</td>\n",
       "      <td>...</td>\n",
       "      <td>...</td>\n",
       "      <td>...</td>\n",
       "      <td>...</td>\n",
       "      <td>...</td>\n",
       "      <td>...</td>\n",
       "      <td>...</td>\n",
       "      <td>...</td>\n",
       "    </tr>\n",
       "    <tr>\n",
       "      <th>saved_mpesa</th>\n",
       "      <td>0.072213</td>\n",
       "      <td>0.063153</td>\n",
       "      <td>0.007713</td>\n",
       "      <td>-0.095900</td>\n",
       "      <td>0.070017</td>\n",
       "      <td>0.035391</td>\n",
       "      <td>0.035991</td>\n",
       "      <td>0.080371</td>\n",
       "      <td>0.017773</td>\n",
       "      <td>0.015912</td>\n",
       "      <td>...</td>\n",
       "      <td>0.028692</td>\n",
       "      <td>0.016197</td>\n",
       "      <td>0.077481</td>\n",
       "      <td>0.064039</td>\n",
       "      <td>0.057767</td>\n",
       "      <td>1.000000</td>\n",
       "      <td>0.222436</td>\n",
       "      <td>-0.053862</td>\n",
       "      <td>-0.014749</td>\n",
       "      <td>-0.026371</td>\n",
       "    </tr>\n",
       "    <tr>\n",
       "      <th>amount_saved_mpesa</th>\n",
       "      <td>0.020514</td>\n",
       "      <td>0.001042</td>\n",
       "      <td>-0.008594</td>\n",
       "      <td>-0.018136</td>\n",
       "      <td>0.034929</td>\n",
       "      <td>-0.004842</td>\n",
       "      <td>-0.016109</td>\n",
       "      <td>0.039023</td>\n",
       "      <td>0.014934</td>\n",
       "      <td>0.012571</td>\n",
       "      <td>...</td>\n",
       "      <td>0.053702</td>\n",
       "      <td>0.010897</td>\n",
       "      <td>0.042999</td>\n",
       "      <td>0.029160</td>\n",
       "      <td>0.025419</td>\n",
       "      <td>0.222436</td>\n",
       "      <td>1.000000</td>\n",
       "      <td>-0.015620</td>\n",
       "      <td>-0.024712</td>\n",
       "      <td>0.051611</td>\n",
       "    </tr>\n",
       "    <tr>\n",
       "      <th>early_survey</th>\n",
       "      <td>-0.073316</td>\n",
       "      <td>-0.069818</td>\n",
       "      <td>0.003292</td>\n",
       "      <td>-0.063066</td>\n",
       "      <td>0.003347</td>\n",
       "      <td>-0.024424</td>\n",
       "      <td>-0.029693</td>\n",
       "      <td>0.042708</td>\n",
       "      <td>0.115244</td>\n",
       "      <td>-0.043465</td>\n",
       "      <td>...</td>\n",
       "      <td>-0.041691</td>\n",
       "      <td>-0.020857</td>\n",
       "      <td>-0.040716</td>\n",
       "      <td>0.019411</td>\n",
       "      <td>0.023981</td>\n",
       "      <td>-0.053862</td>\n",
       "      <td>-0.015620</td>\n",
       "      <td>1.000000</td>\n",
       "      <td>0.000694</td>\n",
       "      <td>0.034737</td>\n",
       "    </tr>\n",
       "    <tr>\n",
       "      <th>depressed</th>\n",
       "      <td>-0.019913</td>\n",
       "      <td>0.015881</td>\n",
       "      <td>-0.008112</td>\n",
       "      <td>0.100159</td>\n",
       "      <td>-0.078541</td>\n",
       "      <td>0.012671</td>\n",
       "      <td>0.005681</td>\n",
       "      <td>-0.122236</td>\n",
       "      <td>0.007477</td>\n",
       "      <td>0.069460</td>\n",
       "      <td>...</td>\n",
       "      <td>-0.019497</td>\n",
       "      <td>0.000751</td>\n",
       "      <td>-0.007807</td>\n",
       "      <td>0.005464</td>\n",
       "      <td>0.005087</td>\n",
       "      <td>-0.014749</td>\n",
       "      <td>-0.024712</td>\n",
       "      <td>0.000694</td>\n",
       "      <td>1.000000</td>\n",
       "      <td>-0.019514</td>\n",
       "    </tr>\n",
       "    <tr>\n",
       "      <th>day_of_week</th>\n",
       "      <td>0.007106</td>\n",
       "      <td>-0.028304</td>\n",
       "      <td>0.003938</td>\n",
       "      <td>0.028122</td>\n",
       "      <td>-0.057146</td>\n",
       "      <td>0.015846</td>\n",
       "      <td>-0.001700</td>\n",
       "      <td>-0.001032</td>\n",
       "      <td>-0.020670</td>\n",
       "      <td>0.008351</td>\n",
       "      <td>...</td>\n",
       "      <td>0.019516</td>\n",
       "      <td>0.026319</td>\n",
       "      <td>0.019862</td>\n",
       "      <td>-0.026530</td>\n",
       "      <td>-0.032226</td>\n",
       "      <td>-0.026371</td>\n",
       "      <td>0.051611</td>\n",
       "      <td>0.034737</td>\n",
       "      <td>-0.019514</td>\n",
       "      <td>1.000000</td>\n",
       "    </tr>\n",
       "  </tbody>\n",
       "</table>\n",
       "<p>74 rows × 74 columns</p>\n",
       "</div>"
      ],
      "text/plain": [
       "                    surveyid   village  femaleres       age   married  \\\n",
       "surveyid            1.000000  0.662797   0.025247  0.041632 -0.015671   \n",
       "village             0.662797  1.000000  -0.008408  0.001868  0.022867   \n",
       "femaleres           0.025247 -0.008408   1.000000 -0.137133  0.275119   \n",
       "age                 0.041632  0.001868  -0.137133  1.000000 -0.400452   \n",
       "married            -0.015671  0.022867   0.275119 -0.400452  1.000000   \n",
       "...                      ...       ...        ...       ...       ...   \n",
       "saved_mpesa         0.072213  0.063153   0.007713 -0.095900  0.070017   \n",
       "amount_saved_mpesa  0.020514  0.001042  -0.008594 -0.018136  0.034929   \n",
       "early_survey       -0.073316 -0.069818   0.003292 -0.063066  0.003347   \n",
       "depressed          -0.019913  0.015881  -0.008112  0.100159 -0.078541   \n",
       "day_of_week         0.007106 -0.028304   0.003938  0.028122 -0.057146   \n",
       "\n",
       "                    children    hhsize       edu  hh_children  \\\n",
       "surveyid            0.031325  0.027476 -0.039734    -0.000358   \n",
       "village             0.039394  0.034232 -0.009572    -0.041124   \n",
       "femaleres           0.224375  0.256443 -0.075308     0.197696   \n",
       "age                -0.111424 -0.068531 -0.393277    -0.070510   \n",
       "married             0.220000  0.322867  0.197570     0.152999   \n",
       "...                      ...       ...       ...          ...   \n",
       "saved_mpesa         0.035391  0.035991  0.080371     0.017773   \n",
       "amount_saved_mpesa -0.004842 -0.016109  0.039023     0.014934   \n",
       "early_survey       -0.024424 -0.029693  0.042708     0.115244   \n",
       "depressed           0.012671  0.005681 -0.122236     0.007477   \n",
       "day_of_week         0.015846 -0.001700 -0.001032    -0.020670   \n",
       "\n",
       "                    hh_totalmembers  ...  given_mpesa  amount_given_mpesa  \\\n",
       "surveyid                   0.024113  ...     0.045888            0.040764   \n",
       "village                    0.027366  ...     0.027330            0.006922   \n",
       "femaleres                  0.257334  ...     0.012628            0.018648   \n",
       "age                       -0.047794  ...    -0.026741           -0.025685   \n",
       "married                    0.295652  ...     0.051875            0.041664   \n",
       "...                             ...  ...          ...                 ...   \n",
       "saved_mpesa                0.015912  ...     0.028692            0.016197   \n",
       "amount_saved_mpesa         0.012571  ...     0.053702            0.010897   \n",
       "early_survey              -0.043465  ...    -0.041691           -0.020857   \n",
       "depressed                  0.069460  ...    -0.019497            0.000751   \n",
       "day_of_week                0.008351  ...     0.019516            0.026319   \n",
       "\n",
       "                    received_mpesa  amount_received_mpesa  net_mpesa  \\\n",
       "surveyid                 -0.021107               0.000453  -0.009799   \n",
       "village                  -0.039510               0.008756   0.006716   \n",
       "femaleres                -0.034134              -0.034100  -0.037609   \n",
       "age                       0.046239               0.016848   0.022718   \n",
       "married                  -0.022720               0.007061  -0.003645   \n",
       "...                            ...                    ...        ...   \n",
       "saved_mpesa               0.077481               0.064039   0.057767   \n",
       "amount_saved_mpesa        0.042999               0.029160   0.025419   \n",
       "early_survey             -0.040716               0.019411   0.023981   \n",
       "depressed                -0.007807               0.005464   0.005087   \n",
       "day_of_week               0.019862              -0.026530  -0.032226   \n",
       "\n",
       "                    saved_mpesa  amount_saved_mpesa  early_survey  depressed  \\\n",
       "surveyid               0.072213            0.020514     -0.073316  -0.019913   \n",
       "village                0.063153            0.001042     -0.069818   0.015881   \n",
       "femaleres              0.007713           -0.008594      0.003292  -0.008112   \n",
       "age                   -0.095900           -0.018136     -0.063066   0.100159   \n",
       "married                0.070017            0.034929      0.003347  -0.078541   \n",
       "...                         ...                 ...           ...        ...   \n",
       "saved_mpesa            1.000000            0.222436     -0.053862  -0.014749   \n",
       "amount_saved_mpesa     0.222436            1.000000     -0.015620  -0.024712   \n",
       "early_survey          -0.053862           -0.015620      1.000000   0.000694   \n",
       "depressed             -0.014749           -0.024712      0.000694   1.000000   \n",
       "day_of_week           -0.026371            0.051611      0.034737  -0.019514   \n",
       "\n",
       "                    day_of_week  \n",
       "surveyid               0.007106  \n",
       "village               -0.028304  \n",
       "femaleres              0.003938  \n",
       "age                    0.028122  \n",
       "married               -0.057146  \n",
       "...                         ...  \n",
       "saved_mpesa           -0.026371  \n",
       "amount_saved_mpesa     0.051611  \n",
       "early_survey           0.034737  \n",
       "depressed             -0.019514  \n",
       "day_of_week            1.000000  \n",
       "\n",
       "[74 rows x 74 columns]"
      ]
     },
     "execution_count": 349,
     "metadata": {},
     "output_type": "execute_result"
    }
   ],
   "source": [
    "df.corr()"
   ]
  },
  {
   "cell_type": "markdown",
   "metadata": {},
   "source": [
    "### Count NAN in each column"
   ]
  },
  {
   "cell_type": "code",
   "execution_count": null,
   "metadata": {},
   "outputs": [
    {
     "data": {
      "text/plain": [
       "asset_land_owned_total        0\n",
       "asset_savings                 0\n",
       "cons_tobacco                 20\n",
       "cons_alcohol                 43\n",
       "fs_sleephun                 334\n",
       "hh_totalmembers             334\n",
       "fs_enoughtom                334\n",
       "med_sickdays_hhave          334\n",
       "med_portion_sickinjured     334\n",
       "fs_meat                     334\n",
       "med_port_sick_child         416\n",
       "fs_chskipm_often            416\n",
       "fs_chwholed_often           416\n",
       "cons_med_children           419\n",
       "med_afford_port             423\n",
       "med_healthconsult           423\n",
       "ed_schoolattend             463\n",
       "ed_expenses                 463\n",
       "ed_expenses_perkid          463\n",
       "ed_sch_missedpc             467\n",
       "ed_work_act_pc              571\n",
       "med_expenses_child_ep       600\n",
       "med_expenses_hh_ep          693\n",
       "med_expenses_sp_ep          878\n",
       "med_u5_deaths              1084\n",
       "dtype: int64"
      ]
     },
     "execution_count": 364,
     "metadata": {},
     "output_type": "execute_result"
    }
   ],
   "source": [
    "df.isnull().sum().sort_values().tail(25)"
   ]
  },
  {
   "cell_type": "markdown",
   "metadata": {},
   "source": [
    "## Detecção de outliers\n",
    "\n",
    "Melhorar a perfomance do R² (score)"
   ]
  },
  {
   "cell_type": "code",
   "execution_count": 381,
   "metadata": {},
   "outputs": [
    {
     "data": {
      "text/plain": [
       "<matplotlib.axes._subplots.AxesSubplot at 0x7f996939cc50>"
      ]
     },
     "execution_count": 381,
     "metadata": {},
     "output_type": "execute_result"
    },
    {
     "data": {
      "image/png": "[encoded data removed]",
      "text/plain": [
       "<Figure size 432x288 with 1 Axes>"
      ]
     },
     "metadata": {
      "needs_background": "light"
     },
     "output_type": "display_data"
    }
   ],
   "source": [
    "sns.boxplot(df.children)"
   ]
  },
  {
   "cell_type": "code",
   "execution_count": 383,
   "metadata": {},
   "outputs": [
    {
     "data": {
      "text/plain": [
       "<matplotlib.axes._subplots.AxesSubplot at 0x7f99693988d0>"
      ]
     },
     "execution_count": 383,
     "metadata": {},
     "output_type": "execute_result"
    },
    {
     "data": {
      "image/png": "[encoded data removed]",
      "text/plain": [
       "<Figure size 432x288 with 1 Axes>"
      ]
     },
     "metadata": {
      "needs_background": "light"
     },
     "output_type": "display_data"
    }
   ],
   "source": [
    "sns.boxplot(df.edu)"
   ]
  },
  {
   "cell_type": "code",
   "execution_count": 384,
   "metadata": {},
   "outputs": [
    {
     "ename": "AttributeError",
     "evalue": "'DataFrame' object has no attribute 'total_members'",
     "output_type": "error",
     "traceback": [
      "\u001b[0;31m---------------------------------------------------------------------------\u001b[0m",
      "\u001b[0;31mAttributeError\u001b[0m                            Traceback (most recent call last)",
      "\u001b[0;32m<ipython-input-384-af5a744a5689>\u001b[0m in \u001b[0;36m<module>\u001b[0;34m\u001b[0m\n\u001b[0;32m----> 1\u001b[0;31m \u001b[0msns\u001b[0m\u001b[0;34m.\u001b[0m\u001b[0mboxplot\u001b[0m\u001b[0;34m(\u001b[0m\u001b[0mdf\u001b[0m\u001b[0;34m.\u001b[0m\u001b[0mtotal_members\u001b[0m\u001b[0;34m)\u001b[0m\u001b[0;34m\u001b[0m\u001b[0;34m\u001b[0m\u001b[0m\n\u001b[0m",
      "\u001b[0;32m~/anaconda3/lib/python3.7/site-packages/pandas/core/generic.py\u001b[0m in \u001b[0;36m__getattr__\u001b[0;34m(self, name)\u001b[0m\n\u001b[1;32m   5272\u001b[0m             \u001b[0;32mif\u001b[0m \u001b[0mself\u001b[0m\u001b[0;34m.\u001b[0m\u001b[0m_info_axis\u001b[0m\u001b[0;34m.\u001b[0m\u001b[0m_can_hold_identifiers_and_holds_name\u001b[0m\u001b[0;34m(\u001b[0m\u001b[0mname\u001b[0m\u001b[0;34m)\u001b[0m\u001b[0;34m:\u001b[0m\u001b[0;34m\u001b[0m\u001b[0;34m\u001b[0m\u001b[0m\n\u001b[1;32m   5273\u001b[0m                 \u001b[0;32mreturn\u001b[0m \u001b[0mself\u001b[0m\u001b[0;34m[\u001b[0m\u001b[0mname\u001b[0m\u001b[0;34m]\u001b[0m\u001b[0;34m\u001b[0m\u001b[0;34m\u001b[0m\u001b[0m\n\u001b[0;32m-> 5274\u001b[0;31m             \u001b[0;32mreturn\u001b[0m \u001b[0mobject\u001b[0m\u001b[0;34m.\u001b[0m\u001b[0m__getattribute__\u001b[0m\u001b[0;34m(\u001b[0m\u001b[0mself\u001b[0m\u001b[0;34m,\u001b[0m \u001b[0mname\u001b[0m\u001b[0;34m)\u001b[0m\u001b[0;34m\u001b[0m\u001b[0;34m\u001b[0m\u001b[0m\n\u001b[0m\u001b[1;32m   5275\u001b[0m \u001b[0;34m\u001b[0m\u001b[0m\n\u001b[1;32m   5276\u001b[0m     \u001b[0;32mdef\u001b[0m \u001b[0m__setattr__\u001b[0m\u001b[0;34m(\u001b[0m\u001b[0mself\u001b[0m\u001b[0;34m,\u001b[0m \u001b[0mname\u001b[0m\u001b[0;34m:\u001b[0m \u001b[0mstr\u001b[0m\u001b[0;34m,\u001b[0m \u001b[0mvalue\u001b[0m\u001b[0;34m)\u001b[0m \u001b[0;34m->\u001b[0m \u001b[0;32mNone\u001b[0m\u001b[0;34m:\u001b[0m\u001b[0;34m\u001b[0m\u001b[0;34m\u001b[0m\u001b[0m\n",
      "\u001b[0;31mAttributeError\u001b[0m: 'DataFrame' object has no attribute 'total_members'"
     ]
    }
   ],
   "source": [
    "sns.boxplot(df.)"
   ]
  },
  {
   "cell_type": "code",
   "execution_count": null,
   "metadata": {},
   "outputs": [
    {
     "data": {
      "text/plain": [
       "<matplotlib.axes._subplots.AxesSubplot at 0x7f996dbdc710>"
      ]
     },
     "execution_count": 338,
     "metadata": {},
     "output_type": "execute_result"
    },
    {
     "data": {
      "image/png": "[encoded data removed]",
      "text/plain": [
       "<Figure size 432x288 with 1 Axes>"
      ]
     },
     "metadata": {
      "needs_background": "light"
     },
     "output_type": "display_data"
    }
   ],
   "source": [
    "sns.boxplot(df.gained_asset)"
   ]
  },
  {
   "cell_type": "code",
   "execution_count": null,
   "metadata": {},
   "outputs": [
    {
     "data": {
      "text/plain": [
       "<matplotlib.axes._subplots.AxesSubplot at 0x7f996db50e50>"
      ]
     },
     "execution_count": 339,
     "metadata": {},
     "output_type": "execute_result"
    },
    {
     "data": {
      "image/png": "[encoded data removed]",
      "text/plain": [
       "<Figure size 432x288 with 1 Axes>"
      ]
     },
     "metadata": {
      "needs_background": "light"
     },
     "output_type": "display_data"
    }
   ],
   "source": [
    "sns.boxplot(df.durable_asset)"
   ]
  },
  {
   "cell_type": "code",
   "execution_count": null,
   "metadata": {},
   "outputs": [
    {
     "data": {
      "text/plain": [
       "<matplotlib.axes._subplots.AxesSubplot at 0x7f996dac1e50>"
      ]
     },
     "execution_count": 340,
     "metadata": {},
     "output_type": "execute_result"
    },
    {
     "data": {
      "image/png": "[encoded data removed]",
      "text/plain": [
       "<Figure size 432x288 with 1 Axes>"
      ]
     },
     "metadata": {
      "needs_background": "light"
     },
     "output_type": "display_data"
    }
   ],
   "source": [
    "sns.boxplot(df.save_asset)"
   ]
  },
  {
   "cell_type": "code",
   "execution_count": null,
   "metadata": {},
   "outputs": [
    {
     "data": {
      "text/plain": [
       "<matplotlib.axes._subplots.AxesSubplot at 0x7f996da9b850>"
      ]
     },
     "execution_count": 341,
     "metadata": {},
     "output_type": "execute_result"
    },
    {
     "data": {
      "image/png": "[encoded data removed]",
      "text/plain": [
       "<Figure size 432x288 with 1 Axes>"
      ]
     },
     "metadata": {
      "needs_background": "light"
     },
     "output_type": "display_data"
    }
   ],
   "source": [
    "sns.boxplot(df.living_expenses)"
   ]
  },
  {
   "cell_type": "code",
   "execution_count": null,
   "metadata": {},
   "outputs": [
    {
     "data": {
      "text/plain": [
       "<matplotlib.axes._subplots.AxesSubplot at 0x7f996da9b7d0>"
      ]
     },
     "execution_count": 343,
     "metadata": {},
     "output_type": "execute_result"
    },
    {
     "data": {
      "image/png": "[encoded data removed]",
      "text/plain": [
       "<Figure size 432x288 with 1 Axes>"
      ]
     },
     "metadata": {
      "needs_background": "light"
     },
     "output_type": "display_data"
    }
   ],
   "source": [
    "sns.boxplot(df.incoming_salary)"
   ]
  },
  {
   "cell_type": "code",
   "execution_count": null,
   "metadata": {},
   "outputs": [
    {
     "data": {
      "text/html": [
       "<div>\n",
       "<style scoped>\n",
       "    .dataframe tbody tr th:only-of-type {\n",
       "        vertical-align: middle;\n",
       "    }\n",
       "\n",
       "    .dataframe tbody tr th {\n",
       "        vertical-align: top;\n",
       "    }\n",
       "\n",
       "    .dataframe thead th {\n",
       "        text-align: right;\n",
       "    }\n",
       "</style>\n",
       "<table border=\"1\" class=\"dataframe\">\n",
       "  <thead>\n",
       "    <tr style=\"text-align: right;\">\n",
       "      <th></th>\n",
       "      <th>sex</th>\n",
       "      <th>Age</th>\n",
       "      <th>Married</th>\n",
       "      <th>Number_children</th>\n",
       "      <th>education_level</th>\n",
       "      <th>total_members</th>\n",
       "      <th>gained_asset</th>\n",
       "      <th>durable_asset</th>\n",
       "      <th>save_asset</th>\n",
       "      <th>living_expenses</th>\n",
       "      <th>...</th>\n",
       "      <th>incoming_own_farm</th>\n",
       "      <th>incoming_business</th>\n",
       "      <th>incoming_no_business</th>\n",
       "      <th>incoming_agricultural</th>\n",
       "      <th>farm_expenses</th>\n",
       "      <th>labor_primary</th>\n",
       "      <th>lasting_investment</th>\n",
       "      <th>no_lasting_investmen</th>\n",
       "      <th>depressed</th>\n",
       "      <th>Z-score</th>\n",
       "    </tr>\n",
       "  </thead>\n",
       "  <tbody>\n",
       "    <tr>\n",
       "      <th>0</th>\n",
       "      <td>1</td>\n",
       "      <td>28</td>\n",
       "      <td>1</td>\n",
       "      <td>4</td>\n",
       "      <td>10</td>\n",
       "      <td>5</td>\n",
       "      <td>28912201</td>\n",
       "      <td>22861940</td>\n",
       "      <td>23399979</td>\n",
       "      <td>26692283</td>\n",
       "      <td>...</td>\n",
       "      <td>0</td>\n",
       "      <td>0</td>\n",
       "      <td>0</td>\n",
       "      <td>30028818</td>\n",
       "      <td>31363432</td>\n",
       "      <td>0</td>\n",
       "      <td>28411718</td>\n",
       "      <td>28292707.0</td>\n",
       "      <td>0</td>\n",
       "      <td>0.585016</td>\n",
       "    </tr>\n",
       "    <tr>\n",
       "      <th>1</th>\n",
       "      <td>1</td>\n",
       "      <td>23</td>\n",
       "      <td>1</td>\n",
       "      <td>3</td>\n",
       "      <td>8</td>\n",
       "      <td>5</td>\n",
       "      <td>28912201</td>\n",
       "      <td>22861940</td>\n",
       "      <td>23399979</td>\n",
       "      <td>26692283</td>\n",
       "      <td>...</td>\n",
       "      <td>0</td>\n",
       "      <td>0</td>\n",
       "      <td>0</td>\n",
       "      <td>30028818</td>\n",
       "      <td>31363432</td>\n",
       "      <td>0</td>\n",
       "      <td>28411718</td>\n",
       "      <td>28292707.0</td>\n",
       "      <td>1</td>\n",
       "      <td>0.050805</td>\n",
       "    </tr>\n",
       "    <tr>\n",
       "      <th>2</th>\n",
       "      <td>1</td>\n",
       "      <td>22</td>\n",
       "      <td>1</td>\n",
       "      <td>3</td>\n",
       "      <td>9</td>\n",
       "      <td>5</td>\n",
       "      <td>28912201</td>\n",
       "      <td>22861940</td>\n",
       "      <td>23399979</td>\n",
       "      <td>26692283</td>\n",
       "      <td>...</td>\n",
       "      <td>0</td>\n",
       "      <td>0</td>\n",
       "      <td>0</td>\n",
       "      <td>30028818</td>\n",
       "      <td>31363432</td>\n",
       "      <td>0</td>\n",
       "      <td>28411718</td>\n",
       "      <td>28292707.0</td>\n",
       "      <td>0</td>\n",
       "      <td>0.050805</td>\n",
       "    </tr>\n",
       "    <tr>\n",
       "      <th>3</th>\n",
       "      <td>1</td>\n",
       "      <td>27</td>\n",
       "      <td>1</td>\n",
       "      <td>2</td>\n",
       "      <td>10</td>\n",
       "      <td>4</td>\n",
       "      <td>52667108</td>\n",
       "      <td>19698904</td>\n",
       "      <td>49647648</td>\n",
       "      <td>397715</td>\n",
       "      <td>...</td>\n",
       "      <td>1</td>\n",
       "      <td>0</td>\n",
       "      <td>1</td>\n",
       "      <td>22288055</td>\n",
       "      <td>18751329</td>\n",
       "      <td>0</td>\n",
       "      <td>7781123</td>\n",
       "      <td>69219765.0</td>\n",
       "      <td>0</td>\n",
       "      <td>-0.483406</td>\n",
       "    </tr>\n",
       "    <tr>\n",
       "      <th>4</th>\n",
       "      <td>0</td>\n",
       "      <td>59</td>\n",
       "      <td>0</td>\n",
       "      <td>4</td>\n",
       "      <td>10</td>\n",
       "      <td>6</td>\n",
       "      <td>82606287</td>\n",
       "      <td>17352654</td>\n",
       "      <td>23399979</td>\n",
       "      <td>80877619</td>\n",
       "      <td>...</td>\n",
       "      <td>0</td>\n",
       "      <td>0</td>\n",
       "      <td>0</td>\n",
       "      <td>53384566</td>\n",
       "      <td>20731006</td>\n",
       "      <td>1</td>\n",
       "      <td>20100562</td>\n",
       "      <td>43419447.0</td>\n",
       "      <td>0</td>\n",
       "      <td>0.585016</td>\n",
       "    </tr>\n",
       "  </tbody>\n",
       "</table>\n",
       "<p>5 rows × 22 columns</p>\n",
       "</div>"
      ],
      "text/plain": [
       "   sex  Age  Married  Number_children  education_level  total_members  \\\n",
       "0    1   28        1                4               10              5   \n",
       "1    1   23        1                3                8              5   \n",
       "2    1   22        1                3                9              5   \n",
       "3    1   27        1                2               10              4   \n",
       "4    0   59        0                4               10              6   \n",
       "\n",
       "   gained_asset  durable_asset  save_asset  living_expenses  ...  \\\n",
       "0      28912201       22861940    23399979         26692283  ...   \n",
       "1      28912201       22861940    23399979         26692283  ...   \n",
       "2      28912201       22861940    23399979         26692283  ...   \n",
       "3      52667108       19698904    49647648           397715  ...   \n",
       "4      82606287       17352654    23399979         80877619  ...   \n",
       "\n",
       "   incoming_own_farm  incoming_business  incoming_no_business  \\\n",
       "0                  0                  0                     0   \n",
       "1                  0                  0                     0   \n",
       "2                  0                  0                     0   \n",
       "3                  1                  0                     1   \n",
       "4                  0                  0                     0   \n",
       "\n",
       "   incoming_agricultural  farm_expenses  labor_primary  lasting_investment  \\\n",
       "0               30028818       31363432              0            28411718   \n",
       "1               30028818       31363432              0            28411718   \n",
       "2               30028818       31363432              0            28411718   \n",
       "3               22288055       18751329              0             7781123   \n",
       "4               53384566       20731006              1            20100562   \n",
       "\n",
       "   no_lasting_investmen  depressed   Z-score  \n",
       "0            28292707.0          0  0.585016  \n",
       "1            28292707.0          1  0.050805  \n",
       "2            28292707.0          0  0.050805  \n",
       "3            69219765.0          0 -0.483406  \n",
       "4            43419447.0          0  0.585016  \n",
       "\n",
       "[5 rows x 22 columns]"
      ]
     },
     "execution_count": 336,
     "metadata": {},
     "output_type": "execute_result"
    }
   ],
   "source": [
    "df.head(5)"
   ]
  },
  {
   "cell_type": "code",
   "execution_count": null,
   "metadata": {},
   "outputs": [
    {
     "data": {
      "text/plain": [
       "surveyid              1143\n",
       "village               1143\n",
       "survey_date           1143\n",
       "femaleres             1143\n",
       "age                   1143\n",
       "                      ... \n",
       "saved_mpesa           1143\n",
       "amount_saved_mpesa    1143\n",
       "early_survey          1143\n",
       "depressed             1143\n",
       "day_of_week           1143\n",
       "Length: 75, dtype: int64"
      ]
     },
     "execution_count": 351,
     "metadata": {},
     "output_type": "execute_result"
    }
   ],
   "source": [
    "df.count()"
   ]
  },
  {
   "cell_type": "code",
   "execution_count": null,
   "metadata": {},
   "outputs": [
    {
     "data": {
      "text/plain": [
       "<matplotlib.axes._subplots.AxesSubplot at 0x7f996e802c90>"
      ]
     },
     "execution_count": 305,
     "metadata": {},
     "output_type": "execute_result"
    },
    {
     "data": {
      "image/png": "[encoded data removed]",
      "text/plain": [
       "<Figure size 432x288 with 1 Axes>"
      ]
     },
     "metadata": {
      "needs_background": "light"
     },
     "output_type": "display_data"
    }
   ],
   "source": [
    "sns.boxplot(x=df['no_lasting_investmen'])"
   ]
  },
  {
   "cell_type": "code",
   "execution_count": null,
   "metadata": {},
   "outputs": [
    {
     "data": {
      "text/plain": [
       "<matplotlib.axes._subplots.AxesSubplot at 0x7f996e773e10>"
      ]
     },
     "execution_count": 306,
     "metadata": {},
     "output_type": "execute_result"
    },
    {
     "data": {
      "image/png": "[encoded data removed]",
      "text/plain": [
       "<Figure size 432x288 with 1 Axes>"
      ]
     },
     "metadata": {
      "needs_background": "light"
     },
     "output_type": "display_data"
    }
   ],
   "source": [
    "sns.boxplot(x=df['education_level'])"
   ]
  },
  {
   "cell_type": "code",
   "execution_count": null,
   "metadata": {},
   "outputs": [
    {
     "data": {
      "text/plain": [
       "<matplotlib.axes._subplots.AxesSubplot at 0x7f996e75ff10>"
      ]
     },
     "execution_count": 307,
     "metadata": {},
     "output_type": "execute_result"
    },
    {
     "data": {
      "image/png": "[encoded data removed]",
      "text/plain": [
       "<Figure size 432x288 with 1 Axes>"
      ]
     },
     "metadata": {
      "needs_background": "light"
     },
     "output_type": "display_data"
    }
   ],
   "source": [
    "sns.boxplot(x=df['lasting_investment'])"
   ]
  },
  {
   "cell_type": "code",
   "execution_count": null,
   "metadata": {},
   "outputs": [
    {
     "name": "stdout",
     "output_type": "stream",
     "text": [
      "                       Survey_id  Ville_id       sex       Age   Married  \\\n",
      "Survey_id               1.000000  0.662523  0.025015  0.021877 -0.011441   \n",
      "Ville_id                0.662523  1.000000  0.010970 -0.012279  0.026970   \n",
      "sex                     0.025015  0.010970  1.000000 -0.159376  0.282472   \n",
      "Age                     0.021877 -0.012279 -0.159376  1.000000 -0.396944   \n",
      "Married                -0.011441  0.026970  0.282472 -0.396944  1.000000   \n",
      "Number_children         0.020242  0.030428  0.214297 -0.138448  0.227206   \n",
      "education_level        -0.037984 -0.010412 -0.072137 -0.377146  0.218406   \n",
      "total_members           0.003653  0.007225  0.180664 -0.073936  0.246808   \n",
      "gained_asset            0.018949 -0.014400  0.022316  0.008316 -0.015317   \n",
      "durable_asset          -0.020738 -0.026135  0.028602  0.045368 -0.045356   \n",
      "save_asset             -0.014632 -0.020477  0.006637 -0.026685  0.009164   \n",
      "living_expenses         0.012638 -0.027240 -0.003493 -0.036599  0.024518   \n",
      "other_expenses          0.024938  0.005505  0.055458  0.026270  0.031676   \n",
      "incoming_salary         0.021197 -0.017517 -0.032950 -0.055884  0.023690   \n",
      "incoming_own_farm       0.004713 -0.101155  0.067467  0.125569  0.007212   \n",
      "incoming_business      -0.032408 -0.012744  0.087322 -0.028204 -0.032171   \n",
      "incoming_no_business   -0.036382 -0.017370  0.101543 -0.087054  0.044150   \n",
      "incoming_agricultural   0.039071  0.018342  0.017828 -0.009173 -0.043032   \n",
      "farm_expenses           0.063214  0.058739  0.070757 -0.009428  0.036919   \n",
      "labor_primary          -0.011613 -0.030992 -0.025092 -0.066347  0.017792   \n",
      "lasting_investment      0.001956 -0.039209  0.037923  0.045714 -0.000606   \n",
      "no_lasting_investmen   -0.003457  0.004416  0.048166 -0.023430  0.050146   \n",
      "depressed              -0.005960  0.028954 -0.003519  0.105721 -0.062155   \n",
      "\n",
      "                       Number_children  education_level  total_members  \\\n",
      "Survey_id                     0.020242        -0.037984       0.003653   \n",
      "Ville_id                      0.030428        -0.010412       0.007225   \n",
      "sex                           0.214297        -0.072137       0.180664   \n",
      "Age                          -0.138448        -0.377146      -0.073936   \n",
      "Married                       0.227206         0.218406       0.246808   \n",
      "Number_children               1.000000         0.175165       0.781731   \n",
      "education_level               0.175165         1.000000       0.130236   \n",
      "total_members                 0.781731         0.130236       1.000000   \n",
      "gained_asset                  0.016195         0.014534       0.015472   \n",
      "durable_asset                -0.014358        -0.011658      -0.040372   \n",
      "save_asset                    0.027850         0.046626       0.036630   \n",
      "living_expenses              -0.000618         0.010132      -0.005937   \n",
      "other_expenses                0.001611        -0.043732       0.009988   \n",
      "incoming_salary              -0.019415         0.010843      -0.047026   \n",
      "incoming_own_farm             0.061140        -0.033861       0.093959   \n",
      "incoming_business             0.032514         0.014032       0.008520   \n",
      "incoming_no_business          0.065935         0.037305       0.070958   \n",
      "incoming_agricultural         0.018512        -0.054515       0.026157   \n",
      "farm_expenses                 0.052273         0.010648       0.072907   \n",
      "labor_primary                -0.016731         0.044067      -0.043622   \n",
      "lasting_investment            0.042988         0.005361       0.044341   \n",
      "no_lasting_investmen          0.014344         0.013849       0.048028   \n",
      "depressed                     0.003823        -0.098043       0.035056   \n",
      "\n",
      "                       gained_asset  durable_asset  ...  incoming_salary  \\\n",
      "Survey_id                  0.018949      -0.020738  ...         0.021197   \n",
      "Ville_id                  -0.014400      -0.026135  ...        -0.017517   \n",
      "sex                        0.022316       0.028602  ...        -0.032950   \n",
      "Age                        0.008316       0.045368  ...        -0.055884   \n",
      "Married                   -0.015317      -0.045356  ...         0.023690   \n",
      "Number_children            0.016195      -0.014358  ...        -0.019415   \n",
      "education_level            0.014534      -0.011658  ...         0.010843   \n",
      "total_members              0.015472      -0.040372  ...        -0.047026   \n",
      "gained_asset               1.000000      -0.005730  ...         0.028493   \n",
      "durable_asset             -0.005730       1.000000  ...         0.078162   \n",
      "save_asset                -0.004477      -0.038218  ...         0.039431   \n",
      "living_expenses            0.073981       0.020984  ...         0.089769   \n",
      "other_expenses             0.039911       0.086410  ...         0.039329   \n",
      "incoming_salary            0.028493       0.078162  ...         1.000000   \n",
      "incoming_own_farm          0.126403       0.064366  ...        -0.271747   \n",
      "incoming_business          0.050641       0.015376  ...        -0.162745   \n",
      "incoming_no_business       0.075120       0.020218  ...        -0.078491   \n",
      "incoming_agricultural      0.028656       0.024395  ...         0.016059   \n",
      "farm_expenses              0.058569       0.027892  ...         0.020840   \n",
      "labor_primary              0.022879       0.094494  ...         0.898951   \n",
      "lasting_investment         0.033085       0.246894  ...         0.000715   \n",
      "no_lasting_investmen       0.030779       0.022460  ...         0.076819   \n",
      "depressed                 -0.004402       0.040505  ...        -0.003929   \n",
      "\n",
      "                       incoming_own_farm  incoming_business  \\\n",
      "Survey_id                       0.004713          -0.032408   \n",
      "Ville_id                       -0.101155          -0.012744   \n",
      "sex                             0.067467           0.087322   \n",
      "Age                             0.125569          -0.028204   \n",
      "Married                         0.007212          -0.032171   \n",
      "Number_children                 0.061140           0.032514   \n",
      "education_level                -0.033861           0.014032   \n",
      "total_members                   0.093959           0.008520   \n",
      "gained_asset                    0.126403           0.050641   \n",
      "durable_asset                   0.064366           0.015376   \n",
      "save_asset                      0.038605           0.067390   \n",
      "living_expenses                 0.074143           0.031858   \n",
      "other_expenses                  0.063620           0.009415   \n",
      "incoming_salary                -0.271747          -0.162745   \n",
      "incoming_own_farm               1.000000          -0.201682   \n",
      "incoming_business              -0.201682           1.000000   \n",
      "incoming_no_business            0.081861           0.534401   \n",
      "incoming_agricultural           0.064287           0.040302   \n",
      "farm_expenses                   0.075560           0.061623   \n",
      "labor_primary                  -0.302294          -0.181039   \n",
      "lasting_investment              0.086146           0.042626   \n",
      "no_lasting_investmen            0.106510          -0.024069   \n",
      "depressed                       0.013161          -0.028158   \n",
      "\n",
      "                       incoming_no_business  incoming_agricultural  \\\n",
      "Survey_id                         -0.036382               0.039071   \n",
      "Ville_id                          -0.017370               0.018342   \n",
      "sex                                0.101543               0.017828   \n",
      "Age                               -0.087054              -0.009173   \n",
      "Married                            0.044150              -0.043032   \n",
      "Number_children                    0.065935               0.018512   \n",
      "education_level                    0.037305              -0.054515   \n",
      "total_members                      0.070958               0.026157   \n",
      "gained_asset                       0.075120               0.028656   \n",
      "durable_asset                      0.020218               0.024395   \n",
      "save_asset                         0.053795               0.022900   \n",
      "living_expenses                    0.023410               0.115553   \n",
      "other_expenses                     0.072545               0.071319   \n",
      "incoming_salary                   -0.078491               0.016059   \n",
      "incoming_own_farm                  0.081861               0.064287   \n",
      "incoming_business                  0.534401               0.040302   \n",
      "incoming_no_business               1.000000               0.087571   \n",
      "incoming_agricultural              0.087571               1.000000   \n",
      "farm_expenses                      0.030318               0.093706   \n",
      "labor_primary                     -0.091069               0.039127   \n",
      "lasting_investment                 0.057760              -0.003214   \n",
      "no_lasting_investmen               0.004291               0.066920   \n",
      "depressed                         -0.025496              -0.019147   \n",
      "\n",
      "                       farm_expenses  labor_primary  lasting_investment  \\\n",
      "Survey_id                   0.063214      -0.011613            0.001956   \n",
      "Ville_id                    0.058739      -0.030992           -0.039209   \n",
      "sex                         0.070757      -0.025092            0.037923   \n",
      "Age                        -0.009428      -0.066347            0.045714   \n",
      "Married                     0.036919       0.017792           -0.000606   \n",
      "Number_children             0.052273      -0.016731            0.042988   \n",
      "education_level             0.010648       0.044067            0.005361   \n",
      "total_members               0.072907      -0.043622            0.044341   \n",
      "gained_asset                0.058569       0.022879            0.033085   \n",
      "durable_asset               0.027892       0.094494            0.246894   \n",
      "save_asset                  0.040168       0.061984            0.034959   \n",
      "living_expenses             0.003512       0.083639            0.040247   \n",
      "other_expenses              0.042088       0.051381            0.048173   \n",
      "incoming_salary             0.020840       0.898951            0.000715   \n",
      "incoming_own_farm           0.075560      -0.302294            0.086146   \n",
      "incoming_business           0.061623      -0.181039            0.042626   \n",
      "incoming_no_business        0.030318      -0.091069            0.057760   \n",
      "incoming_agricultural       0.093706       0.039127           -0.003214   \n",
      "farm_expenses               1.000000       0.023941           -0.001772   \n",
      "labor_primary               0.023941       1.000000            0.008067   \n",
      "lasting_investment         -0.001772       0.008067            1.000000   \n",
      "no_lasting_investmen        0.125146       0.057380            0.043120   \n",
      "depressed                  -0.004901      -0.012825            0.004136   \n",
      "\n",
      "                       no_lasting_investmen  depressed  \n",
      "Survey_id                         -0.003457  -0.005960  \n",
      "Ville_id                           0.004416   0.028954  \n",
      "sex                                0.048166  -0.003519  \n",
      "Age                               -0.023430   0.105721  \n",
      "Married                            0.050146  -0.062155  \n",
      "Number_children                    0.014344   0.003823  \n",
      "education_level                    0.013849  -0.098043  \n",
      "total_members                      0.048028   0.035056  \n",
      "gained_asset                       0.030779  -0.004402  \n",
      "durable_asset                      0.022460   0.040505  \n",
      "save_asset                         0.028610   0.009059  \n",
      "living_expenses                    0.047035  -0.028213  \n",
      "other_expenses                     0.018902   0.017117  \n",
      "incoming_salary                    0.076819  -0.003929  \n",
      "incoming_own_farm                  0.106510   0.013161  \n",
      "incoming_business                 -0.024069  -0.028158  \n",
      "incoming_no_business               0.004291  -0.025496  \n",
      "incoming_agricultural              0.066920  -0.019147  \n",
      "farm_expenses                      0.125146  -0.004901  \n",
      "labor_primary                      0.057380  -0.012825  \n",
      "lasting_investment                 0.043120   0.004136  \n",
      "no_lasting_investmen               1.000000   0.051973  \n",
      "depressed                          0.051973   1.000000  \n",
      "\n",
      "[23 rows x 23 columns]\n"
     ]
    }
   ],
   "source": [
    "\n",
    "# correlation \n",
    "print(df.corr())"
   ]
  },
  {
   "cell_type": "markdown",
   "metadata": {},
   "source": [
    "## ii) pré-processamento dos dados\n",
    "abordando aspectos como correção de\n",
    "outliers e de valores faltantes, codificação de atributos categóricos, discretização de\n",
    "atributos numéricos, normalização, ajuste de desbalanceamento de classes e\n",
    "redução de dimensionalidade"
   ]
  },
  {
   "cell_type": "markdown",
   "metadata": {},
   "source": [
    "### Removendo NAN"
   ]
  },
  {
   "cell_type": "code",
   "execution_count": null,
   "metadata": {},
   "outputs": [
    {
     "data": {
      "text/plain": [
       "Survey_id                0\n",
       "Ville_id                 0\n",
       "sex                      0\n",
       "Age                      0\n",
       "Married                  0\n",
       "Number_children          0\n",
       "education_level          0\n",
       "total_members            0\n",
       "gained_asset             0\n",
       "durable_asset            0\n",
       "save_asset               0\n",
       "living_expenses          0\n",
       "other_expenses           0\n",
       "incoming_salary          0\n",
       "incoming_own_farm        0\n",
       "incoming_business        0\n",
       "incoming_no_business     0\n",
       "incoming_agricultural    0\n",
       "farm_expenses            0\n",
       "labor_primary            0\n",
       "lasting_investment       0\n",
       "no_lasting_investmen     0\n",
       "depressed                0\n",
       "dtype: int64"
      ]
     },
     "execution_count": 309,
     "metadata": {},
     "output_type": "execute_result"
    }
   ],
   "source": [
    "df.drop(df[(df['no_lasting_investmen'].isnull())].index, axis = 0, inplace = True)\n",
    "df.isnull().sum()\n"
   ]
  },
  {
   "cell_type": "markdown",
   "metadata": {},
   "source": [
    "#### Valores ausentes"
   ]
  },
  {
   "cell_type": "code",
   "execution_count": null,
   "metadata": {},
   "outputs": [
    {
     "name": "stdout",
     "output_type": "stream",
     "text": [
      "Quantidade de valores ausentes por coluna: \n",
      " [0. 0. 0. 0. 0. 0. 0. 0. 0. 0. 0. 0. 0. 0. 0. 0. 0. 0. 0. 0. 0. 0. 0.]\n"
     ]
    }
   ],
   "source": [
    "# Contagem de valores ausentes por coluna\n",
    "print(\"Quantidade de valores ausentes por coluna: \\n\",np.array((len(df)-df.count())/76020))"
   ]
  },
  {
   "cell_type": "code",
   "execution_count": null,
   "metadata": {},
   "outputs": [
    {
     "name": "stdout",
     "output_type": "stream",
     "text": [
      "df antes:  (1409, 23)\n",
      "Após a limpeza de registros duplicados:  (1409, 23)\n"
     ]
    }
   ],
   "source": [
    "# Função que deleta registros duplicados da base (Mantendo apenas o primeiro registro a cada grupo de duplicatas)\n",
    "def DupRegClean(df):\n",
    "    # Registros duplicados podem causar ruído nos algoritmos de machine learning portanto iremos excluí-los.\n",
    "    # (Se por acaso colunas duplicadas estierem presentes nos datasets de treino e teste, os resultados podem se mostrar tendenciosos).\n",
    "    print('df antes: ',df.shape)\n",
    "    df_saida = df.drop_duplicates(inplace=False,keep='first')\n",
    "    print('Após a limpeza de registros duplicados: ',df_saida.shape)\n",
    "    return df_saida\n",
    "\n",
    "# Aplica limpeza\n",
    "df = DupRegClean(df)"
   ]
  },
  {
   "cell_type": "markdown",
   "metadata": {},
   "source": [
    "#### Colunas constantes"
   ]
  },
  {
   "cell_type": "code",
   "execution_count": null,
   "metadata": {},
   "outputs": [
    {
     "name": "stdout",
     "output_type": "stream",
     "text": [
      "df antes:  (1409, 23)\n",
      "Após limpeza de colunas constantes:  (1409, 23)\n"
     ]
    }
   ],
   "source": [
    "# Função que deleta colunas constantes do dataset\n",
    "def ConstFeatClean(df_train):\n",
    "    # Colunas constantes não são úteis para discriminar a satisfação de clientes. Vamos exclui-las.\n",
    "    print('df antes: ',df_train.shape)\n",
    "    df_train = df_train.loc[:,df_train.apply(pd.Series.nunique) != 1]\n",
    "    print('Após limpeza de colunas constantes: ',df_train.shape)\n",
    "    return df_train\n",
    "\n",
    "# Aplica função de deleção de contantes\n",
    "df = ConstFeatClean(df)"
   ]
  },
  {
   "cell_type": "markdown",
   "metadata": {},
   "source": [
    "#### Removendo colunas irrelevantes\n",
    "\n",
    "Minha sugestão no primeiro momento é remover apenas as colunas que pela sua definição não parecem ter relevância/poder preditivo, o que eu acredito ser o caso das duas variáveis com \"_id\" no final (não olhei em profundidade os dados). Se as variáveis forem categóricas e tiverem muitos valores possíveis, também pode ser difícil usar no modelo. Neste caso, você pode optar por manter apenas um subconjunto de valores para as categorias mais frequentes, e todas as outras agrupar em uma única categoria (\"Outros\", por exemplo)."
   ]
  },
  {
   "cell_type": "code",
   "execution_count": null,
   "metadata": {},
   "outputs": [
    {
     "name": "stdout",
     "output_type": "stream",
     "text": [
      "[]\n"
     ]
    }
   ],
   "source": [
    "# Colunas categoricas\n",
    "print(df.select_dtypes(include=['object']).columns.tolist())\n",
    "\n",
    "# Não tenho tempo para trabalhar com colunas de data agora\n",
    "df.drop('Survey_id',inplace=True,axis=1)\n",
    "df.drop('Ville_id',inplace=True,axis=1)\n"
   ]
  },
  {
   "cell_type": "code",
   "execution_count": null,
   "metadata": {},
   "outputs": [
    {
     "data": {
      "text/plain": [
       "Index(['sex', 'Age', 'Married', 'Number_children', 'education_level',\n",
       "       'total_members', 'gained_asset', 'durable_asset', 'save_asset',\n",
       "       'living_expenses', 'other_expenses', 'incoming_salary',\n",
       "       'incoming_own_farm', 'incoming_business', 'incoming_no_business',\n",
       "       'incoming_agricultural', 'farm_expenses', 'labor_primary',\n",
       "       'lasting_investment', 'no_lasting_investmen', 'depressed'],\n",
       "      dtype='object')"
      ]
     },
     "execution_count": 314,
     "metadata": {},
     "output_type": "execute_result"
    }
   ],
   "source": [
    "df.columns"
   ]
  },
  {
   "cell_type": "markdown",
   "metadata": {},
   "source": [
    "#### z-score - remover outliers\n",
    "\n",
    "Z score = (x -mean) / std. deviation\n",
    "\n",
    "- df antes:  (1409, 23)\n"
   ]
  },
  {
   "cell_type": "code",
   "execution_count": null,
   "metadata": {},
   "outputs": [
    {
     "name": "stdout",
     "output_type": "stream",
     "text": [
      "mean of the dataset is 34.733853797019165\n",
      "std. deviation is 13.795813931242565\n"
     ]
    }
   ],
   "source": [
    "mean = np.mean(df.Age)\n",
    "std = np.std(df.Age)\n",
    "print('mean of the dataset is', mean)\n",
    "print('std. deviation is', std)"
   ]
  },
  {
   "cell_type": "code",
   "execution_count": null,
   "metadata": {},
   "outputs": [
    {
     "data": {
      "text/plain": [
       "<matplotlib.axes._subplots.AxesSubplot at 0x7f996dd30490>"
      ]
     },
     "execution_count": 333,
     "metadata": {},
     "output_type": "execute_result"
    },
    {
     "data": {
      "image/png": "[encoded data removed]",
      "text/plain": [
       "<Figure size 432x288 with 1 Axes>"
      ]
     },
     "metadata": {
      "needs_background": "light"
     },
     "output_type": "display_data"
    }
   ],
   "source": [
    "m = np.mean(df.Number_children)\n",
    "s = np.std(df.Number_children)\n",
    "df['Z-score'] = (df.Number_children - m)/s\n",
    "df_outlier = df[abs(df['Z-score']) > 2.5]\n",
    "df_semOutliers = df.drop(df_outlier.index)\n",
    "sns.boxplot(df_semOutliers.Number_children)\n"
   ]
  },
  {
   "cell_type": "markdown",
   "metadata": {},
   "source": [
    "## iii) treinamento e validação dos modelos,\n",
    "utilizando as melhores práticas em relação a estratégias de divisão de dados para otimização de hiperparâmetros e\n",
    "seleção de modelos\n",
    "\n",
    " - Acurácia\n",
    " - Precision\n",
    " - Recall\n",
    " - F1 Score\n",
    " - ROC AUC score"
   ]
  },
  {
   "cell_type": "markdown",
   "metadata": {},
   "source": [
    "## iv) interpretação do modelo treinado, \n",
    "buscando obter insights sobre o impacto dos atributos na tomada de decisão"
   ]
  }
 ],
 "metadata": {
  "kernelspec": {
   "display_name": "Python 3.7.6 ('base')",
   "language": "python",
   "name": "python3"
  },
  "language_info": {
   "codemirror_mode": {
    "name": "ipython",
    "version": 3
   },
   "file_extension": ".py",
   "mimetype": "text/x-python",
   "name": "python",
   "nbconvert_exporter": "python",
   "pygments_lexer": "ipython3",
   "version": "3.7.6"
  },
  "orig_nbformat": 4,
  "vscode": {
   "interpreter": {
    "hash": "28b8b178ce56687a460bda9a4b177d23f3f80c348f170196c623443fb6ec97fc"
   }
  }
 },
 "nbformat": 4,
 "nbformat_minor": 2
}

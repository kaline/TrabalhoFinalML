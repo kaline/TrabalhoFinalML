XGBoost

Score:  nan  Desv_padr:  nan

Recall: 0.098

Precision:  0.6799999999999999
log regression

Score:  0.64  Desv_padr:  0.07

Recall: 0.098

Precision:  0.6799999999999999
naive bayes

Score:  0.62  Desv_padr:  0.04

Recall: 0.098

Precision:  0.6799999999999999
MLP

Score:  0.62  Desv_padr:  0.06

Recall: 0.098

Precision:  0.6799999999999999
random forest

Score:  0.58  Desv_padr:  0.03

Recall: 0.098

Precision:  0.6799999999999999
support vector classifier

Score:  0.56  Desv_padr:  0.06

Recall: 0.098

Precision:  0.6799999999999999
decision tree

Score:  0.53  Desv_padr:  0.03

Recall: 0.098

Precision:  0.6799999999999999
k neighbors

Score:  0.52  Desv_padr:  0.03

Recall: 0.098

Precision:  0.6799999999999999

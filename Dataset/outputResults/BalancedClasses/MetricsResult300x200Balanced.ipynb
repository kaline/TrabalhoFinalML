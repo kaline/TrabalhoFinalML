MLP

Score:  0.57  Desv_padr:  0.06

Recall: 0.1910769230769231

Precision:  0.5612698412698413

Mean squared error:  0.3704326923076923
[[156  42]
 [ 93  33]]
random forest

Score:  0.54  Desv_padr:  0.03

Recall: 0.3095384615384616

Precision:  0.487012987012987

Mean squared error:  0.3704326923076923
[[149  49]
 [ 87  39]]
log regression

Score:  0.52  Desv_padr:  0.08

Recall: 0.4769230769230769

Precision:  0.41950645903868783

Mean squared error:  0.3704326923076923
[[111  87]
 [ 67  59]]
support vector classifier

Score:  0.51  Desv_padr:  0.07

Recall: 0.7132307692307692

Precision:  0.41636591674967116

Mean squared error:  0.3704326923076923
[[ 91 107]
 [ 61  65]]
naive bayes

Score:  0.53  Desv_padr:  0.06

Recall: 0.5169230769230769

Precision:  0.4150547981823042

Mean squared error:  0.3704326923076923
[[107  91]
 [ 65  61]]
decision tree

Score:  0.5  Desv_padr:  0.05

Recall: 0.38923076923076927

Precision:  0.40520044886463646

Mean squared error:  0.3704326923076923
[[127  71]
 [ 71  55]]
k neighbors

Score:  0.48  Desv_padr:  0.04

Recall: 0.3021538461538462

Precision:  0.37688844971453667

Mean squared error:  0.3704326923076923
[[136  62]
 [ 88  38]]

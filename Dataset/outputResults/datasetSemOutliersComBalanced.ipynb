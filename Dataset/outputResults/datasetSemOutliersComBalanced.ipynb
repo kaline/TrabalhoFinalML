random forest

Score:  0.51  Desv_padr:  0.06

Recall: 0.07096774193548386

Precision:  0.2700793650793651

Mean squared error:  0.2629921259842519
[[448  32]
 [148   7]]
k neighbors

Score:  0.49  Desv_padr:  0.05

Recall: 0.1032258064516129

Precision:  0.2635897435897436

Mean squared error:  0.2629921259842519
[[437  43]
 [141  14]]
log regression

Score:  0.51  Desv_padr:  0.04

Recall: 0.4516129032258065

Precision:  0.255151841868823

Mean squared error:  0.2629921259842519
[[274 206]
 [ 86  69]]
naive bayes

Score:  0.54  Desv_padr:  0.05

Recall: 0.8258064516129032

Precision:  0.24496079514493507

Mean squared error:  0.2629921259842519
[[ 98 382]
 [ 28 127]]
decision tree

Score:  0.48  Desv_padr:  0.03

Recall: 0.2129032258064516

Precision:  0.218209988572965

Mean squared error:  0.2629921259842519
[[365 115]
 [119  36]]
MLP

Score:  0.56  Desv_padr:  0.06

Recall: 0.04516129032258064

Precision:  0.21000000000000002

Mean squared error:  0.2629921259842519
[[459  21]
 [152   3]]
support vector classifier

Score:  0.54  Desv_padr:  0.05

Recall: 0.25161290322580643

Precision:  0.1474843783667313

Mean squared error:  0.2629921259842519
[[291 189]
 [ 98  57]]

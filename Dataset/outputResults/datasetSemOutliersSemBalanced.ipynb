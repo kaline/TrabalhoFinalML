k neighbors

Score:  0.49  Desv_padr:  0.06

Recall: 0.07741935483870968

Precision:  0.3083333333333333

Mean squared error:  0.1832086006177239
[[738  24]
 [142  13]]
random forest

Score:  0.5  Desv_padr:  0.03

Recall: 0.03225806451612903

Precision:  0.21071428571428572

Mean squared error:  0.1832086006177239
[[748  14]
 [148   7]]
naive bayes

Score:  0.56  Desv_padr:  0.01

Recall: 0.7225806451612904

Precision:  0.1967141655720476

Mean squared error:  0.1832086006177239
[[252 510]
 [ 43 112]]
log regression

Score:  0.54  Desv_padr:  0.03

Recall: 0.4516129032258065

Precision:  0.19325220887979033

Mean squared error:  0.1832086006177239
[[479 283]
 [ 89  66]]
decision tree

Score:  0.49  Desv_padr:  0.03

Recall: 0.16129032258064516

Precision:  0.15326363291880535

Mean squared error:  0.1832086006177239
[[610 152]
 [119  36]]
MLP

Score:  0.57  Desv_padr:  0.05

Recall: 0.025806451612903226

Precision:  0.14166666666666666

Mean squared error:  0.1832086006177239
[[740  22]
 [147   8]]
support vector classifier

Score:  0.47  Desv_padr:  0.05

Recall: 0.04516129032258064

Precision:  0.025

Mean squared error:  0.1832086006177239
[[687  75]
 [140  15]]

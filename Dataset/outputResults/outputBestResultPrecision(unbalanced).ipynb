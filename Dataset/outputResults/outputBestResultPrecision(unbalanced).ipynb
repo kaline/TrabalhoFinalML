MLP

Score:  0.61  Desv_padr:  0.06

Recall: 0.14586894586894586

Precision:  0.6412121212121212

Mean squared error:  0.18441558441558442
[[634   5]
 [125   6]]
random forest

Score:  0.57  Desv_padr:  0.05

Recall: 0.07635327635327635

Precision:  0.4261111111111111

Mean squared error:  0.18441558441558442
[[620  19]
 [120  11]]
support vector classifier

Score:  0.5  Desv_padr:  0.07

Recall: 0.14615384615384613

Precision:  0.33333333333333337

Mean squared error:  0.18441558441558442
[[422 217]
 [ 93  38]]
k neighbors

Score:  0.51  Desv_padr:  0.08

Recall: 0.09116809116809117

Precision:  0.2841269841269841

Mean squared error:  0.18441558441558442
[[609  30]
 [120  11]]
naive bayes

Score:  0.59  Desv_padr:  0.05

Recall: 0.37378917378917376

Precision:  0.255756993006993

Mean squared error:  0.18441558441558442
[[484 155]
 [ 85  46]]
log regression

Score:  0.6  Desv_padr:  0.07

Recall: 0.48091168091168085

Precision:  0.21763593535300663

Mean squared error:  0.18441558441558442
[[426 213]
 [ 65  66]]
decision tree

Score:  0.52  Desv_padr:  0.05

Recall: 0.2131054131054131

Precision:  0.1817698475003978

Mean squared error:  0.18441558441558442
[[524 115]
 [109  22]]

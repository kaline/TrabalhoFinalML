XGBoost

Score:  nan  Desv_padr:  nan

Recall: 0.006896551724137931

Precision:  0.20666666666666664
log regression

Score:  0.58  Desv_padr:  0.03

Recall: 0.006896551724137931

Precision:  0.20666666666666664
naive bayes

Score:  0.56  Desv_padr:  0.04

Recall: 0.006896551724137931

Precision:  0.20666666666666664
support vector classifier

Score:  0.55  Desv_padr:  0.08

Recall: 0.006896551724137931

Precision:  0.20666666666666664
MLP

Score:  0.53  Desv_padr:  0.04

Recall: 0.006896551724137931

Precision:  0.20666666666666664
decision tree

Score:  0.51  Desv_padr:  0.05

Recall: 0.006896551724137931

Precision:  0.20666666666666664
random forest

Score:  0.51  Desv_padr:  0.05

Recall: 0.006896551724137931

Precision:  0.20666666666666664
k neighbors

Score:  0.48  Desv_padr:  0.02

Recall: 0.006896551724137931

Precision:  0.20666666666666664

MLP

Score:  0.61  Desv_padr:  0.05

Recall: 0.08376068376068377

Precision:  0.34229691876750695

Mean squared error:  0.18451612903225806
[[637   6]
 [130   2]]
random forest

Score:  0.56  Desv_padr:  0.04

Recall: 0.05327635327635327

Precision:  0.305

Mean squared error:  0.18451612903225806
[[626  17]
 [126   6]]
k neighbors

Score:  0.48  Desv_padr:  0.03

Recall: 0.06866096866096867

Precision:  0.26261904761904764

Mean squared error:  0.18451612903225806
[[617  26]
 [122  10]]
log regression

Score:  0.61  Desv_padr:  0.05

Recall: 0.5230769230769232

Precision:  0.2379319616553659

Mean squared error:  0.18451612903225806
[[420 223]
 [ 69  63]]
naive bayes

Score:  0.62  Desv_padr:  0.06

Recall: 0.6606837606837607

Precision:  0.2109605032372024

Mean squared error:  0.18451612903225806
[[341 302]
 [ 54  78]]
decision tree

Score:  0.5  Desv_padr:  0.03

Recall: 0.18233618233618235

Precision:  0.17644927536231886

Mean squared error:  0.18451612903225806
[[532 111]
 [102  30]]
support vector classifier

Score:  0.45  Desv_padr:  0.06

Recall: 0.32564102564102565

Precision:  0.16964401543905622

Mean squared error:  0.18451612903225806
[[498 145]
 [101  31]]

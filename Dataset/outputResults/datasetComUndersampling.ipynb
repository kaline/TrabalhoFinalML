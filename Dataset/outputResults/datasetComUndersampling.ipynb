log regression

Score:  0.62  Desv_padr:  0.08

Recall: 0.12266666666666667

Precision:  0.6083333333333334
MLP

Score:  0.62  Desv_padr:  0.09

Recall: 0.12266666666666667

Precision:  0.6083333333333334
support vector classifier

Score:  0.61  Desv_padr:  0.08

Recall: 0.12266666666666667

Precision:  0.6083333333333334
naive bayes

Score:  0.58  Desv_padr:  0.07

Recall: 0.12266666666666667

Precision:  0.6083333333333334
decision tree

Score:  0.54  Desv_padr:  0.06

Recall: 0.12266666666666667

Precision:  0.6083333333333334
random forest

Score:  0.53  Desv_padr:  0.08

Recall: 0.12266666666666667

Precision:  0.6083333333333334
k neighbors

Score:  0.52  Desv_padr:  0.06

Recall: 0.12266666666666667

Precision:  0.6083333333333334
